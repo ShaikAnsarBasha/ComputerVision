{
 "cells": [
  {
   "cell_type": "code",
   "execution_count": 1,
   "id": "2cf6c655",
   "metadata": {},
   "outputs": [],
   "source": [
    "import tensorflow as tf\n",
    "import numpy as np\n",
    "from numpy.linalg import norm\n",
    "import mediapipe as mp\n",
    "import cv2" 
   ]
  },
  {
   "cell_type": "code",
   "execution_count": 2,
   "id": "1d1d7d34",
   "metadata": {},
   "outputs": [],
   "source": [
    "mp_drawing = mp.solutions.drawing_utils\n",
    "mp_pose = mp.solutions.pose"
   ]
  },
  {
   "cell_type": "markdown",
   "id": "46288045",
   "metadata": {},
   "source": [
    "<img src=\"https://i.imgur.com/3j8BPdc.png\" style=\"height: 300px\">"
   ]
  },
  {
   "cell_type": "code",
   "execution_count": 3,
   "id": "08e1847d",
   "metadata": {},
   "outputs": [],
   "source": [
    "def calcAngle(a, b, c):\n",
    "    a, b, c = np.array(a), np.array(b), np.array(c)\n",
    "    ba = a - b\n",
    "    bc = c - b\n",
    "    cosine = np.dot(ba, bc) / (norm(ba) * norm(bc))\n",
    "    radians = np.arccos(cosine)\n",
    "    degrees = (180/np.pi)*radians\n",
    "    return int(degrees)"
   ]
  },
  {
   "cell_type": "code",
   "execution_count": 4,
   "id": "de411f50",
   "metadata": {},
   "outputs": [],
   "source": [
    "def writeText(img, text, loc, color, size=1):\n",
    "    cv2.putText(\n",
    "        img, \n",
    "        text, \n",
    "        loc,\n",
    "        cv2.FONT_HERSHEY_SIMPLEX, \n",
    "        size, \n",
    "        color, \n",
    "        2, \n",
    "        cv2.LINE_AA\n",
    "    )\n"
   ]
  },
  {
   "cell_type": "code",
   "execution_count": 5,
   "id": "4a6e25d0",
   "metadata": {},
   "outputs": [],
   "source": [
    "cap = cv2.VideoCapture(0)\n",
    "state = \"down\"\n",
    "count = 0\n",
    "\n",
    "while cap.isOpened():\n",
    "    ret, img = cap.read()\n",
    "    if not ret:\n",
    "        break\n",
    "        \n",
    "    img_height, img_width = img.shape[:2]\n",
    "    with mp_pose.Pose(min_detection_confidence=0.5, min_tracking_confidence=0.5) as pose:\n",
    "        img = cv2.cvtColor(img, cv2.COLOR_BGR2RGB)\n",
    "        detections = pose.process(img)\n",
    "        img = cv2.cvtColor(img, cv2.COLOR_RGB2BGR)\n",
    "    \n",
    "    shoulder_idx = mp_pose.PoseLandmark.LEFT_SHOULDER.value\n",
    "    elbow_idx = mp_pose.PoseLandmark.LEFT_ELBOW.value\n",
    "    wrist_idx = mp_pose.PoseLandmark.LEFT_WRIST.value\n",
    "    \n",
    "    if detections.pose_landmarks is not None:\n",
    "        landmarks = detections.pose_landmarks.landmark\n",
    "        shoulder = landmarks[shoulder_idx]\n",
    "        elbow = landmarks[elbow_idx]\n",
    "        wrist = landmarks[wrist_idx]\n",
    "        angle = calcAngle((shoulder.x, shoulder.y), (elbow.x, elbow.y), (wrist.x, wrist.y))\n",
    "        writeText(img, str(angle), tuple(np.multiply([elbow.x, elbow.y], [img_width, img_height]).astype(int)), (255, 0, 0))\n",
    "        \n",
    "        if angle < 50 and state != \"up\":\n",
    "            state = \"up\"\n",
    "            count += 1\n",
    "        if angle > 120:\n",
    "            state = \"down\"\n",
    "    \n",
    "    cv2.rectangle(img, (0, 0), (200, 80), (255, 0, 0), -1)\n",
    "    writeText(img, \"Reps: \", (10, 25), (255, 255, 255))\n",
    "    writeText(img, str(count), (110, 25), (255, 255, 255), 1)\n",
    "    \n",
    "    writeText(img, \"State: \", (10, 60), (255, 255, 255))\n",
    "    writeText(img, state, (110, 60), (255, 255, 255), 1)\n",
    "    \n",
    "    mp_drawing.draw_landmarks(\n",
    "        image=img,\n",
    "        landmark_list=detections.pose_landmarks,\n",
    "        connections=mp_pose.POSE_CONNECTIONS,\n",
    "        landmark_drawing_spec=mp_drawing.DrawingSpec(color=(0, 0, 255), thickness=2, circle_radius=2),\n",
    "        connection_drawing_spec=mp_drawing.DrawingSpec(color=(0, 255, 0), thickness=2, circle_radius=2),\n",
    "    )\n",
    "    \n",
    "    cv2.imshow('mediapipe', img)\n",
    "    if cv2.waitKey(25) & 0xFF == ord('q'):\n",
    "        break\n",
    "\n",
    "cap.release()\n",
    "cv2.destroyAllWindows()"
   ]
  },
  {
   "cell_type": "code",
   "execution_count": null,
   "id": "8778588c",
   "metadata": {},
   "outputs": [],
   "source": []
  }
 ],
 "metadata": {
  "kernelspec": {
   "display_name": "Python 3 (ipykernel)",
   "language": "python",
   "name": "python3"
  },
  "language_info": {
   "codemirror_mode": {
    "name": "ipython",
    "version": 3
   },
   "file_extension": ".py",
   "mimetype": "text/x-python",
   "name": "python",
   "nbconvert_exporter": "python",
   "pygments_lexer": "ipython3",
   "version": "3.9.13"
  }
 },
 "nbformat": 4,
 "nbformat_minor": 5
}
