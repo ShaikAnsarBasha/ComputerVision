{
  "nbformat": 4,
  "nbformat_minor": 0,
  "metadata": {
    "colab": {
      "provenance": []
    },
    "kernelspec": {
      "name": "python3",
      "display_name": "Python 3"
    },
    "language_info": {
      "name": "python"
    },
    "gpuClass": "standard",
    "accelerator": "GPU"
  },
  "cells": [
    {
      "cell_type": "code",
      "source": [
        "%%capture\n",
        "!pip install kaggle\n",
        "!pip install efficientnet_pytorch"
      ],
      "metadata": {
        "id": "aZ9GPHgTd9lC"
      },
      "execution_count": 1,
      "outputs": []
    },
    {
      "cell_type": "code",
      "execution_count": 2,
      "metadata": {
        "colab": {
          "base_uri": "https://localhost:8080/",
          "height": 177
        },
        "id": "Q4T459IqYuD5",
        "outputId": "af699c9a-9a37-48cc-d7b2-9bdc5ca45dda"
      },
      "outputs": [
        {
          "output_type": "display_data",
          "data": {
            "text/plain": [
              "<IPython.core.display.HTML object>"
            ],
            "text/html": [
              "\n",
              "     <input type=\"file\" id=\"files-45760e9c-b34d-443a-96c2-351af8da9a2c\" name=\"files[]\" multiple disabled\n",
              "        style=\"border:none\" />\n",
              "     <output id=\"result-45760e9c-b34d-443a-96c2-351af8da9a2c\">\n",
              "      Upload widget is only available when the cell has been executed in the\n",
              "      current browser session. Please rerun this cell to enable.\n",
              "      </output>\n",
              "      <script>// Copyright 2017 Google LLC\n",
              "//\n",
              "// Licensed under the Apache License, Version 2.0 (the \"License\");\n",
              "// you may not use this file except in compliance with the License.\n",
              "// You may obtain a copy of the License at\n",
              "//\n",
              "//      http://www.apache.org/licenses/LICENSE-2.0\n",
              "//\n",
              "// Unless required by applicable law or agreed to in writing, software\n",
              "// distributed under the License is distributed on an \"AS IS\" BASIS,\n",
              "// WITHOUT WARRANTIES OR CONDITIONS OF ANY KIND, either express or implied.\n",
              "// See the License for the specific language governing permissions and\n",
              "// limitations under the License.\n",
              "\n",
              "/**\n",
              " * @fileoverview Helpers for google.colab Python module.\n",
              " */\n",
              "(function(scope) {\n",
              "function span(text, styleAttributes = {}) {\n",
              "  const element = document.createElement('span');\n",
              "  element.textContent = text;\n",
              "  for (const key of Object.keys(styleAttributes)) {\n",
              "    element.style[key] = styleAttributes[key];\n",
              "  }\n",
              "  return element;\n",
              "}\n",
              "\n",
              "// Max number of bytes which will be uploaded at a time.\n",
              "const MAX_PAYLOAD_SIZE = 100 * 1024;\n",
              "\n",
              "function _uploadFiles(inputId, outputId) {\n",
              "  const steps = uploadFilesStep(inputId, outputId);\n",
              "  const outputElement = document.getElementById(outputId);\n",
              "  // Cache steps on the outputElement to make it available for the next call\n",
              "  // to uploadFilesContinue from Python.\n",
              "  outputElement.steps = steps;\n",
              "\n",
              "  return _uploadFilesContinue(outputId);\n",
              "}\n",
              "\n",
              "// This is roughly an async generator (not supported in the browser yet),\n",
              "// where there are multiple asynchronous steps and the Python side is going\n",
              "// to poll for completion of each step.\n",
              "// This uses a Promise to block the python side on completion of each step,\n",
              "// then passes the result of the previous step as the input to the next step.\n",
              "function _uploadFilesContinue(outputId) {\n",
              "  const outputElement = document.getElementById(outputId);\n",
              "  const steps = outputElement.steps;\n",
              "\n",
              "  const next = steps.next(outputElement.lastPromiseValue);\n",
              "  return Promise.resolve(next.value.promise).then((value) => {\n",
              "    // Cache the last promise value to make it available to the next\n",
              "    // step of the generator.\n",
              "    outputElement.lastPromiseValue = value;\n",
              "    return next.value.response;\n",
              "  });\n",
              "}\n",
              "\n",
              "/**\n",
              " * Generator function which is called between each async step of the upload\n",
              " * process.\n",
              " * @param {string} inputId Element ID of the input file picker element.\n",
              " * @param {string} outputId Element ID of the output display.\n",
              " * @return {!Iterable<!Object>} Iterable of next steps.\n",
              " */\n",
              "function* uploadFilesStep(inputId, outputId) {\n",
              "  const inputElement = document.getElementById(inputId);\n",
              "  inputElement.disabled = false;\n",
              "\n",
              "  const outputElement = document.getElementById(outputId);\n",
              "  outputElement.innerHTML = '';\n",
              "\n",
              "  const pickedPromise = new Promise((resolve) => {\n",
              "    inputElement.addEventListener('change', (e) => {\n",
              "      resolve(e.target.files);\n",
              "    });\n",
              "  });\n",
              "\n",
              "  const cancel = document.createElement('button');\n",
              "  inputElement.parentElement.appendChild(cancel);\n",
              "  cancel.textContent = 'Cancel upload';\n",
              "  const cancelPromise = new Promise((resolve) => {\n",
              "    cancel.onclick = () => {\n",
              "      resolve(null);\n",
              "    };\n",
              "  });\n",
              "\n",
              "  // Wait for the user to pick the files.\n",
              "  const files = yield {\n",
              "    promise: Promise.race([pickedPromise, cancelPromise]),\n",
              "    response: {\n",
              "      action: 'starting',\n",
              "    }\n",
              "  };\n",
              "\n",
              "  cancel.remove();\n",
              "\n",
              "  // Disable the input element since further picks are not allowed.\n",
              "  inputElement.disabled = true;\n",
              "\n",
              "  if (!files) {\n",
              "    return {\n",
              "      response: {\n",
              "        action: 'complete',\n",
              "      }\n",
              "    };\n",
              "  }\n",
              "\n",
              "  for (const file of files) {\n",
              "    const li = document.createElement('li');\n",
              "    li.append(span(file.name, {fontWeight: 'bold'}));\n",
              "    li.append(span(\n",
              "        `(${file.type || 'n/a'}) - ${file.size} bytes, ` +\n",
              "        `last modified: ${\n",
              "            file.lastModifiedDate ? file.lastModifiedDate.toLocaleDateString() :\n",
              "                                    'n/a'} - `));\n",
              "    const percent = span('0% done');\n",
              "    li.appendChild(percent);\n",
              "\n",
              "    outputElement.appendChild(li);\n",
              "\n",
              "    const fileDataPromise = new Promise((resolve) => {\n",
              "      const reader = new FileReader();\n",
              "      reader.onload = (e) => {\n",
              "        resolve(e.target.result);\n",
              "      };\n",
              "      reader.readAsArrayBuffer(file);\n",
              "    });\n",
              "    // Wait for the data to be ready.\n",
              "    let fileData = yield {\n",
              "      promise: fileDataPromise,\n",
              "      response: {\n",
              "        action: 'continue',\n",
              "      }\n",
              "    };\n",
              "\n",
              "    // Use a chunked sending to avoid message size limits. See b/62115660.\n",
              "    let position = 0;\n",
              "    do {\n",
              "      const length = Math.min(fileData.byteLength - position, MAX_PAYLOAD_SIZE);\n",
              "      const chunk = new Uint8Array(fileData, position, length);\n",
              "      position += length;\n",
              "\n",
              "      const base64 = btoa(String.fromCharCode.apply(null, chunk));\n",
              "      yield {\n",
              "        response: {\n",
              "          action: 'append',\n",
              "          file: file.name,\n",
              "          data: base64,\n",
              "        },\n",
              "      };\n",
              "\n",
              "      let percentDone = fileData.byteLength === 0 ?\n",
              "          100 :\n",
              "          Math.round((position / fileData.byteLength) * 100);\n",
              "      percent.textContent = `${percentDone}% done`;\n",
              "\n",
              "    } while (position < fileData.byteLength);\n",
              "  }\n",
              "\n",
              "  // All done.\n",
              "  yield {\n",
              "    response: {\n",
              "      action: 'complete',\n",
              "    }\n",
              "  };\n",
              "}\n",
              "\n",
              "scope.google = scope.google || {};\n",
              "scope.google.colab = scope.google.colab || {};\n",
              "scope.google.colab._files = {\n",
              "  _uploadFiles,\n",
              "  _uploadFilesContinue,\n",
              "};\n",
              "})(self);\n",
              "</script> "
            ]
          },
          "metadata": {}
        },
        {
          "output_type": "stream",
          "name": "stdout",
          "text": [
            "Saving kaggle.json to kaggle.json\n",
            "Downloading dogs-vs-cats-redux-kernels-edition.zip to /content\n",
            "100% 811M/814M [00:37<00:00, 24.9MB/s]\n",
            "100% 814M/814M [00:37<00:00, 22.5MB/s]\n",
            "Done\n",
            "Done\n",
            "Done\n"
          ]
        }
      ],
      "source": [
        "from google.colab import files\n",
        "files.upload()\n",
        "\n",
        "!mkdir -p ~/.kaggle\n",
        "!cp kaggle.json ~/.kaggle/\n",
        "!chmod 600 ~/.kaggle/kaggle.json\n",
        "\n",
        "!kaggle competitions download -c dogs-vs-cats-redux-kernels-edition\n",
        "\n",
        "from zipfile import ZipFile\n",
        "dataset_path = './dogs-vs-cats-redux-kernels-edition.zip'\n",
        "\n",
        "with ZipFile(dataset_path, 'r') as z:\n",
        "    z.extractall(path='./dataset')\n",
        "    print(\"Done\")\n",
        "\n",
        "train_dataset_path = \"./dataset/train.zip\"\n",
        "with ZipFile(train_dataset_path, 'r') as z:\n",
        "    z.extractall(path='./dataset/train')\n",
        "    print(\"Done\")\n",
        "\n",
        "test_dataset_path = \"./dataset/test.zip\"\n",
        "with ZipFile(test_dataset_path, 'r') as z:\n",
        "    z.extractall(path='./dataset/test')\n",
        "    print(\"Done\")"
      ]
    },
    {
      "cell_type": "code",
      "source": [
        "import os\n",
        "import re\n",
        "import numpy as np\n",
        "import pandas as pd\n",
        "from PIL import Image\n",
        "from tqdm import tqdm\n",
        "from sklearn import metrics\n",
        "\n",
        "import torch\n",
        "from torch import nn, optim\n",
        "import torch.nn.functional as F\n",
        "from efficientnet_pytorch import EfficientNet\n",
        "\n",
        "import albumentations as A\n",
        "from albumentations.pytorch import ToTensorV2"
      ],
      "metadata": {
        "id": "LUp1DsEMucGH"
      },
      "execution_count": 3,
      "outputs": []
    },
    {
      "cell_type": "code",
      "source": [
        "class CatDogDataset:\n",
        "    def __init__(self, img_paths, labels, transform=None):\n",
        "        self.img_paths = img_paths\n",
        "        self.labels = labels\n",
        "        self.transform = transform\n",
        "\n",
        "    def __len__(self):\n",
        "        return len(self.img_paths)\n",
        "\n",
        "    def __getitem__(self, index):\n",
        "        img_path = self.img_paths[index]\n",
        "        img = np.array(Image.open(img_path))\n",
        "        label = self.labels[index]\n",
        "\n",
        "        if self.transform is not None:\n",
        "            img = self.transform(image=img)[\"image\"]\n",
        "\n",
        "        return img, torch.tensor(label, dtype=torch.float)"
      ],
      "metadata": {
        "id": "x03x8JM5xLNA"
      },
      "execution_count": 4,
      "outputs": []
    },
    {
      "cell_type": "code",
      "source": [
        "def get_target(img_name):\n",
        "    target_name = img_name.split(\".\")[0]\n",
        "    if target_name == \"dog\": return 1\n",
        "    elif target_name == \"cat\": return 0 \n",
        "    return -1\n",
        "\n",
        "IMGS_DIR = \"/content/dataset/train/train\"\n",
        "\n",
        "img_names = os.listdir(IMGS_DIR)\n",
        "img_names = list(sorted(img_names, key=lambda x: int(re.findall(r\"\\d+\", x)[0])))\n",
        "df = pd.DataFrame(img_names, columns=[\"img_names\"])\n",
        "df[\"labels\"] = df.img_names.apply(lambda img_name: get_target(img_name))\n",
        "\n",
        "df_train = df.head(20000).copy().reset_index(drop=True)\n",
        "df_test = df.tail(5000).copy().reset_index(drop=True)"
      ],
      "metadata": {
        "id": "wL20OSUo3Y4x"
      },
      "execution_count": 21,
      "outputs": []
    },
    {
      "cell_type": "code",
      "source": [
        "HEIGHT = 128\n",
        "WIDTH = 128\n",
        "NUM_WORKERS = 0\n",
        "TRAIN_BATCH_SIZE = 32\n",
        "TEST_BATCH_SIZE = 32\n",
        "\n",
        "transform = A.Compose(\n",
        "    [\n",
        "        A.Resize(height=HEIGHT, width=WIDTH),\n",
        "        A.Normalize(\n",
        "            mean=[0.485, 0.456, 0.406],\n",
        "            std=[0.229, 0.224, 0.225],\n",
        "            max_pixel_value=255.0,\n",
        "        ),\n",
        "        ToTensorV2(),\n",
        "    ]\n",
        ")\n",
        "train_img_names = df_train.img_names.values.tolist()\n",
        "train_img_paths = [os.path.join(IMGS_DIR, train_img_name) for train_img_name in train_img_names]\n",
        "train_labels = df_train.labels.values\n",
        "\n",
        "train_dataset = CatDogDataset(train_img_paths, train_labels, transform)\n",
        "train_data_loader = torch.utils.data.DataLoader(\n",
        "    train_dataset, \n",
        "    batch_size=TRAIN_BATCH_SIZE,\n",
        "    shuffle=True,\n",
        ")\n",
        "\n",
        "test_img_names = df_test.img_names.values.tolist()\n",
        "test_img_paths = [os.path.join(IMGS_DIR, test_img_name) for test_img_name in test_img_names]\n",
        "test_labels = df_test.labels.values\n",
        "\n",
        "test_dataset = CatDogDataset(test_img_paths, test_labels, transform)\n",
        "test_data_loader = torch.utils.data.DataLoader(\n",
        "    test_dataset, \n",
        "    batch_size=TEST_BATCH_SIZE,\n",
        "    shuffle=False,\n",
        ")"
      ],
      "metadata": {
        "id": "YZvfUKaQfOL2"
      },
      "execution_count": 29,
      "outputs": []
    },
    {
      "cell_type": "code",
      "source": [
        "def train(train_data_loader, model, bce, optimizer, scaler, epoch):\n",
        "    model.train()\n",
        "    losses = []\n",
        "    loop = tqdm(train_data_loader, total=len(train_data_loader), leave=True)\n",
        "    for batch_idx, (imgs, labels) in enumerate(loop):\n",
        "        imgs = imgs.to(DEVICE)\n",
        "        labels = labels.unsqueeze(1).to(DEVICE)\n",
        "\n",
        "        with torch.cuda.amp.autocast():\n",
        "            outputs = model(imgs)\n",
        "            loss = bce(outputs, labels)\n",
        "\n",
        "        optimizer.zero_grad()\n",
        "        scaler.scale(loss).backward()\n",
        "        scaler.step(optimizer)\n",
        "        scaler.update()\n",
        "        \n",
        "        losses.append(loss.item())\n",
        "        loop.set_description(f\"Epoch [{epoch}/{EPOCHS-1}]\")\n",
        "        loop.set_postfix(loss=loss.item())\n",
        "    loop.close()\n",
        "    return sum(losses) / len(losses)\n",
        "\n",
        "def evaluate(test_data_loader, model):\n",
        "    model.eval()\n",
        "    predictions = []\n",
        "    targets = []\n",
        "\n",
        "    for imgs, labels in tqdm(test_data_loader):\n",
        "        imgs = imgs.to(device=DEVICE)\n",
        "        labels = labels.unsqueeze(1).to(DEVICE)\n",
        "\n",
        "        with torch.no_grad():\n",
        "            outputs = model(imgs)\n",
        "\n",
        "        predictions.append(torch.sigmoid(outputs).detach().cpu())\n",
        "        targets.append(labels.detach().cpu())\n",
        "\n",
        "    predictions = torch.cat(predictions, dim=0).view(-1).numpy()\n",
        "    targets = torch.cat(targets, dim=0).view(-1).numpy()\n",
        "\n",
        "    accuracy = metrics.accuracy_score(targets, predictions > 0.5)\n",
        "    log_loss = metrics.log_loss(targets, predictions)\n",
        "    return accuracy, log_loss"
      ],
      "metadata": {
        "id": "wY-WdkddaJ9k"
      },
      "execution_count": 40,
      "outputs": []
    },
    {
      "cell_type": "code",
      "source": [
        "def save_checkpoint(model, optimizer, filename=\"model.pth.tar\"):\n",
        "    print(\"=>Saving Checkpoint...\")\n",
        "    checkpoint = {\"state_dict\": model.state_dict(), \"optimizer\": optimizer.state_dict()}\n",
        "    torch.save(checkpoint, filename)\n",
        "\n",
        "def load_checkpoint(checkpoint_path, model, optimizer):\n",
        "    print(\"=>Loading Checkpoint...\")\n",
        "    checkpoint = torch.load(checkpoint_path, map_location=torch.device(DEVICE))\n",
        "    model.load_state_dict(checkpoint[\"state_dict\"])\n",
        "    optimizer.load_state_dict(checkpoint[\"optimizer\"])"
      ],
      "metadata": {
        "id": "gkWOGilopJ_L"
      },
      "execution_count": 41,
      "outputs": []
    },
    {
      "cell_type": "code",
      "source": [
        "DEVICE = \"cuda\" if torch.cuda.is_available() else \"cpu\"\n",
        "LOAD_MODEL = False\n",
        "SAVE_MODEL = False\n",
        "CHECKPOINT_FILE = \"model.pth.tar\"\n",
        "WEIGHT_DECAY = 1e-4\n",
        "LEARNING_RATE = 1e-4\n",
        "EPOCHS = 3\n",
        "\n",
        "model = EfficientNet.from_pretrained(\"efficientnet-b7\")\n",
        "model._fc = nn.Linear(2560, 1)\n",
        "model = model.to(DEVICE)\n",
        "\n",
        "bce = nn.BCEWithLogitsLoss()\n",
        "optimizer = optim.Adam(model.parameters(), lr=LEARNING_RATE, weight_decay=WEIGHT_DECAY)\n",
        "scaler = torch.cuda.amp.GradScaler()\n",
        "\n",
        "if LOAD_MODEL:\n",
        "    load_checkpoint(CHECKPOINT_FILE, model, optimizer)\n",
        "\n",
        "for epoch in range(EPOCHS):\n",
        "    loss = train(train_data_loader, model, bce, optimizer, scaler, epoch)\n",
        "    accuracy, log_loss = evaluate(test_data_loader, model)\n",
        "    save_checkpoint(model, optimizer, filename=CHECKPOINT_FILE)\n",
        "\n",
        "    print(f\"EPOCH: {epoch}, loss: {loss}, accuracy: {accuracy}, log_loss: {log_loss}\")"
      ],
      "metadata": {
        "colab": {
          "base_uri": "https://localhost:8080/"
        },
        "id": "2Ike0HGDfAA1",
        "outputId": "4a087e29-3f3c-4603-dcff-682612a905aa"
      },
      "execution_count": 42,
      "outputs": [
        {
          "output_type": "stream",
          "name": "stdout",
          "text": [
            "Loaded pretrained weights for efficientnet-b7\n"
          ]
        },
        {
          "output_type": "stream",
          "name": "stderr",
          "text": [
            "Epoch [0/2]: 100%|██████████| 625/625 [04:46<00:00,  2.18it/s, loss=0.277]\n",
            "100%|██████████| 157/157 [00:38<00:00,  4.12it/s]\n"
          ]
        },
        {
          "output_type": "stream",
          "name": "stdout",
          "text": [
            "=>Saving Checkpoint...\n",
            "EPOCH: 0, loss: 0.16170488437861205, accuracy: 0.9714, log_loss: 0.07653108054083904\n"
          ]
        },
        {
          "output_type": "stream",
          "name": "stderr",
          "text": [
            "Epoch [1/2]: 100%|██████████| 625/625 [04:48<00:00,  2.17it/s, loss=0.0158]\n",
            "100%|██████████| 157/157 [00:38<00:00,  4.10it/s]\n"
          ]
        },
        {
          "output_type": "stream",
          "name": "stdout",
          "text": [
            "=>Saving Checkpoint...\n",
            "EPOCH: 1, loss: 0.03348504933305085, accuracy: 0.9724, log_loss: 0.07896189737231597\n"
          ]
        },
        {
          "output_type": "stream",
          "name": "stderr",
          "text": [
            "Epoch [2/2]: 100%|██████████| 625/625 [04:46<00:00,  2.19it/s, loss=0.00433]\n",
            "100%|██████████| 157/157 [00:37<00:00,  4.15it/s]\n"
          ]
        },
        {
          "output_type": "stream",
          "name": "stdout",
          "text": [
            "=>Saving Checkpoint...\n",
            "EPOCH: 2, loss: 0.014589819519873709, accuracy: 0.9756, log_loss: 0.07983680439214447\n"
          ]
        }
      ]
    },
    {
      "cell_type": "code",
      "source": [
        "from google.colab import drive\n",
        "drive.mount('/content/gdrive')"
      ],
      "metadata": {
        "colab": {
          "base_uri": "https://localhost:8080/"
        },
        "id": "Ikc_GdAhRs6N",
        "outputId": "bdd8ef2c-121f-4884-d090-437f2f5232bc"
      },
      "execution_count": 43,
      "outputs": [
        {
          "output_type": "stream",
          "name": "stdout",
          "text": [
            "Mounted at /content/gdrive\n"
          ]
        }
      ]
    },
    {
      "cell_type": "code",
      "source": [
        "import shutil\n",
        "os.mkdir(\"model\")\n",
        "gdrive_path = \"/content/gdrive/MyDrive/googleColab/EfficientNetb7\"\n",
        "shutil.make_archive(os.path.join(gdrive_path, \"model\"), 'zip', \"model\")"
      ],
      "metadata": {
        "colab": {
          "base_uri": "https://localhost:8080/",
          "height": 35
        },
        "id": "6vB7m6tQRyXt",
        "outputId": "12ae8474-e765-41f2-ee40-f397afb190e2"
      },
      "execution_count": 46,
      "outputs": [
        {
          "output_type": "execute_result",
          "data": {
            "text/plain": [
              "'/content/gdrive/MyDrive/googleColab/EfficientNetb7/model.zip'"
            ],
            "application/vnd.google.colaboratory.intrinsic+json": {
              "type": "string"
            }
          },
          "metadata": {},
          "execution_count": 46
        }
      ]
    },
    {
      "cell_type": "code",
      "source": [
        "with ZipFile(os.path.join(gdrive_path, \"model.zip\"), 'r') as z:\n",
        "    z.extractall(path=gdrive_path)\n",
        "    print(\"Done\")"
      ],
      "metadata": {
        "colab": {
          "base_uri": "https://localhost:8080/"
        },
        "id": "Ireyh1KDR1Qw",
        "outputId": "3fb31620-9d86-49ca-acd8-70ed1baeef3b"
      },
      "execution_count": 47,
      "outputs": [
        {
          "output_type": "stream",
          "name": "stdout",
          "text": [
            "Done\n"
          ]
        }
      ]
    },
    {
      "cell_type": "code",
      "source": [],
      "metadata": {
        "id": "laKBzmqFS-JJ"
      },
      "execution_count": null,
      "outputs": []
    }
  ]
}