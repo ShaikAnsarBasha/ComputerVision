{
 "cells": [
  {
   "cell_type": "markdown",
   "metadata": {
    "colab_type": "text",
    "id": "kFSqkTCdWKMI"
   },
   "source": [
    "# Imports"
   ]
  }, 
  {
   "cell_type": "code",
   "execution_count": 1,
   "metadata": {
    "colab": {
     "autoexec": {
      "startup": false,
      "wait_interval": 0
     }
    },
    "colab_type": "code",
    "id": "hV4P5gyTWKMI"
   },
   "outputs": [
    {
     "name": "stdout",
     "output_type": "stream",
     "text": [
      "WARNING:tensorflow:From C:\\Users\\Ansar Basha Shaik\\anaconda3\\lib\\site-packages\\tensorflow\\python\\compat\\v2_compat.py:107: disable_resource_variables (from tensorflow.python.ops.variable_scope) is deprecated and will be removed in a future version.\n",
      "Instructions for updating:\n",
      "non-resource variables are not supported in the long term\n"
     ]
    }
   ],
   "source": [
    "import numpy as np\n",
    "import os\n",
    "from random import randint as rand\n",
    "import cv2\n",
    "\n",
    "import tensorflow.compat.v1 as tf\n",
    "tf.disable_v2_behavior()"
   ]
  },
  {
   "cell_type": "markdown",
   "metadata": {
    "colab_type": "text",
    "id": "cfn_tRFOWKMO"
   },
   "source": [
    "# Model preparation "
   ]
  },
  {
   "cell_type": "code",
   "execution_count": 2,
   "metadata": {
    "colab": {
     "autoexec": {
      "startup": false,
      "wait_interval": 0
     }
    },
    "colab_type": "code",
    "id": "VyPz_t8WWKMQ"
   },
   "outputs": [],
   "source": [
    "MODEL_NAME = 'ssd_mobilenet_v1_coco_2017_11_17'\n",
    "PATH_TO_FROZEN_GRAPH = MODEL_NAME + '/frozen_inference_graph.pb'"
   ]
  },
  {
   "cell_type": "markdown",
   "metadata": {
    "colab_type": "text",
    "id": "YBcB9QHLWKMU"
   },
   "source": [
    "## Load a (frozen) Tensorflow model into memory."
   ]
  },
  {
   "cell_type": "code",
   "execution_count": 3,
   "metadata": {
    "colab": {
     "autoexec": {
      "startup": false,
      "wait_interval": 0
     }
    },
    "colab_type": "code",
    "id": "KezjCRVvWKMV"
   },
   "outputs": [],
   "source": [
    "detection_graph = tf.Graph()\n",
    "with detection_graph.as_default():\n",
    "    od_graph_def = tf.GraphDef()\n",
    "    with tf.gfile.GFile(PATH_TO_FROZEN_GRAPH, 'rb') as fid:\n",
    "        serialized_graph = fid.read()\n",
    "        od_graph_def.ParseFromString(serialized_graph)\n",
    "        tf.import_graph_def(od_graph_def, name='')"
   ]
  },
  {
   "cell_type": "markdown",
   "metadata": {
    "colab_type": "text",
    "id": "H0_1AGhrWKMc"
   },
   "source": [
    "# Detection"
   ]
  },
  {
   "cell_type": "code",
   "execution_count": 4,
   "metadata": {},
   "outputs": [],
   "source": [
    "def run_inference_for_single_image(image_np, graph):\n",
    "    with graph.as_default():\n",
    "        with tf.Session() as sess:\n",
    "            image_np_expanded = np.expand_dims(image_np, axis=0)\n",
    "            \n",
    "            image_tensor = tf.get_default_graph().get_tensor_by_name('image_tensor:0')\n",
    "\n",
    "            detection_boxes = tf.get_default_graph().get_tensor_by_name('detection_boxes:0')\n",
    "            detection_scores = tf.get_default_graph().get_tensor_by_name('detection_scores:0')\n",
    "            detection_classes = tf.get_default_graph().get_tensor_by_name('detection_classes:0')\n",
    "            num_detections = tf.get_default_graph().get_tensor_by_name('num_detections:0')\n",
    "\n",
    "            (boxes, scores, classes, num) = sess.run([\n",
    "                detection_boxes, \n",
    "                detection_scores,\n",
    "                detection_classes, \n",
    "                num_detections\n",
    "            ], \n",
    "                feed_dict={image_tensor: image_np_expanded}\n",
    "            )\n",
    "            \n",
    "            output_dict = {}\n",
    "            \n",
    "            output_dict['num_detections'] = int(np.squeeze(num))\n",
    "            output_dict['detection_classes'] = np.squeeze(classes).astype(np.uint8)\n",
    "            output_dict['detection_boxes'] = np.squeeze(boxes)\n",
    "            output_dict['detection_scores'] = np.squeeze(scores)\n",
    "\n",
    "    return output_dict"
   ]
  },
  {
   "cell_type": "code",
   "execution_count": 5,
   "metadata": {},
   "outputs": [],
   "source": [
    "def get_index_labels_dict():\n",
    "    with open('mscoco_label_map.pbtxt', 'r') as f:\n",
    "        labels = f.readlines()\n",
    "        labels = [i.strip() for i in labels] \n",
    "        \n",
    "    index_labels_dict = {}\n",
    "    i = 0\n",
    "    while i+4 <= len(labels)-1:\n",
    "        ind, name = None, None\n",
    "        for j in range(i, i+5):\n",
    "            s = labels[j].split()\n",
    "            if 'id:' in s:\n",
    "                ind = int(s[-1])\n",
    "            elif 'display_name:' in s:\n",
    "                name = s[-1][1:-1]\n",
    "\n",
    "        if ind and name: index_labels_dict[ind] = name\n",
    "        i = j+1\n",
    "    return index_labels_dict"
   ]
  },
  {
   "cell_type": "code",
   "execution_count": 6,
   "metadata": {},
   "outputs": [],
   "source": [
    "index_labels_dict = get_index_labels_dict()\n",
    "\n",
    "def draw_box_on_image(scores, boxes, classes, im_width, im_height, image_np,):\n",
    "    index_to_colors = {i: (rand(0, 255), rand(0, 255), rand(0, 255)) for i in index_labels_dict}\n",
    "    \n",
    "    for i in range(100):\n",
    "        if scores[i] > 0.65:\n",
    "            (left, right, top, bottom) = (\n",
    "                boxes[i][1] * im_width, \n",
    "                boxes[i][3] * im_width,\n",
    "                boxes[i][0] * im_height, \n",
    "                boxes[i][2] * im_height\n",
    "            )\n",
    "            \n",
    "            p1 = (int(left), int(top))\n",
    "            p2 = (int(right), int(bottom))\n",
    "\n",
    "            cv2.rectangle(\n",
    "                image_np, \n",
    "                p1, \n",
    "                p2, \n",
    "                index_to_colors[int(classes[i])] , \n",
    "                3, \n",
    "                1\n",
    "            )\n",
    "\n",
    "            cv2.putText(\n",
    "                image_np, \n",
    "                index_labels_dict[int(classes[i])] + \": \" + str(scores[i])[2:4] + \"%\", \n",
    "                (int(left), int(top)-5),\n",
    "                cv2.FONT_HERSHEY_SIMPLEX, \n",
    "                0.8, \n",
    "                index_to_colors[int(classes[i])], \n",
    "                2\n",
    "            )\n"
   ]
  },
  {
   "cell_type": "markdown",
   "metadata": {},
   "source": [
    "# Detection on Image"
   ]
  },
  {
   "cell_type": "code",
   "execution_count": 10,
   "metadata": {},
   "outputs": [],
   "source": [
    "img = cv2.imread('image.jpg')\n",
    "h, w = img.shape[:2]\n",
    "img = cv2.resize(img, (w, h), interpolation=cv2.INTER_AREA)\n",
    "output_dict = run_inference_for_single_image(img, detection_graph)\n",
    "im_height, im_width = img.shape[:2]\n",
    "draw_box_on_image(output_dict['detection_scores'], output_dict['detection_boxes'], output_dict['detection_classes'], im_width, im_height, img)\n",
    "\n",
    "cv2.imshow('graycsale image',img)\n",
    "cv2.waitKey(0)\n",
    "cv2.destroyAllWindows()"
   ]
  },
  {
   "cell_type": "markdown",
   "metadata": {},
   "source": [
    "# Detection on Video"
   ]
  },
  {
   "cell_type": "code",
   "execution_count": 7,
   "metadata": {
    "colab": {
     "autoexec": {
      "startup": false,
      "wait_interval": 0
     }
    },
    "colab_type": "code",
    "id": "3a5wMHN8WKMh",
    "scrolled": true
   },
   "outputs": [],
   "source": [
    "cap = cv2.VideoCapture('car1.mp4')\n",
    "width  = int(cap.get(cv2.CAP_PROP_FRAME_WIDTH))   \n",
    "height = int(cap.get(cv2.CAP_PROP_FRAME_HEIGHT))\n",
    "fourcc = cv2.VideoWriter_fourcc(*'XVID')\n",
    "out = cv2.VideoWriter('carop.mp4', fourcc, 29.97, (width,  height))\n",
    "\n",
    "while cap.isOpened():\n",
    "    ret, image_np = cap.read()\n",
    "    if not ret:\n",
    "        break\n",
    "    \n",
    "    image_np = cv2.resize(image_np, (width, height), interpolation=cv2.INTER_AREA)\n",
    "    im_height, im_width = image_np.shape[:2]\n",
    "\n",
    "    output_dict = run_inference_for_single_image(image_np, detection_graph)\n",
    "    draw_box_on_image(\n",
    "        output_dict['detection_scores'], \n",
    "        output_dict['detection_boxes'], \n",
    "        output_dict['detection_classes'], \n",
    "        im_width, \n",
    "        im_height, \n",
    "        image_np\n",
    "    )\n",
    "    \n",
    "    out.write(image_np)\n",
    "    cv2.imshow('object_detection', image_np)\n",
    "\n",
    "    if cv2.waitKey(25) & 0xFF == ord('q'):\n",
    "        break\n",
    "\n",
    "cap.release()\n",
    "out.release()\n",
    "cv2.destroyAllWindows()\n"
   ]
  },
  {
   "cell_type": "code",
   "execution_count": null,
   "metadata": {},
   "outputs": [],
   "source": []
  }
 ],
 "metadata": {
  "colab": {
   "default_view": {},
   "name": "object_detection_tutorial.ipynb?workspaceId=ronnyvotel:python_inference::citc",
   "provenance": [],
   "version": "0.3.2",
   "views": {}
  },
  "kernelspec": {
   "display_name": "Python 3 (ipykernel)",
   "language": "python",
   "name": "python3"
  },
  "language_info": {
   "codemirror_mode": {
    "name": "ipython",
    "version": 3
   },
   "file_extension": ".py",
   "mimetype": "text/x-python",
   "name": "python",
   "nbconvert_exporter": "python",
   "pygments_lexer": "ipython3",
   "version": "3.9.7"
  }
 },
 "nbformat": 4,
 "nbformat_minor": 1
}
