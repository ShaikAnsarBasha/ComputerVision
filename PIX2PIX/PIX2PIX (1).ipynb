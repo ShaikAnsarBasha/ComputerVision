{
 "cells": [
  {
   "cell_type": "code",
   "execution_count": 2,
   "metadata": {
    "colab": {
     "base_uri": "https://localhost:8080/",
     "height": 142
    },
    "id": "hdiZ4mMyik6C",
    "outputId": "60b70f7e-54b6-4cfc-9769-ae92b4040bd7"
   },
   "outputs": [
    {
     "data": {
      "text/html": [
       "\n",
       "     <input type=\"file\" id=\"files-6f3183e3-2b07-488a-96d3-f84af6ea3d8d\" name=\"files[]\" multiple disabled\n",
       "        style=\"border:none\" />\n",
       "     <output id=\"result-6f3183e3-2b07-488a-96d3-f84af6ea3d8d\">\n",
       "      Upload widget is only available when the cell has been executed in the\n",
       "      current browser session. Please rerun this cell to enable.\n",
       "      </output>\n",
       "      <script>// Copyright 2017 Google LLC\n",
       "//\n",
       "// Licensed under the Apache License, Version 2.0 (the \"License\");\n",
       "// you may not use this file except in compliance with the License.\n",
       "// You may obtain a copy of the License at\n",
       "//\n",
       "//      http://www.apache.org/licenses/LICENSE-2.0\n",
       "//\n",
       "// Unless required by applicable law or agreed to in writing, software\n",
       "// distributed under the License is distributed on an \"AS IS\" BASIS,\n",
       "// WITHOUT WARRANTIES OR CONDITIONS OF ANY KIND, either express or implied.\n",
       "// See the License for the specific language governing permissions and\n",
       "// limitations under the License.\n",
       "\n",
       "/**\n",
       " * @fileoverview Helpers for google.colab Python module.\n",
       " */\n",
       "(function(scope) {\n",
       "function span(text, styleAttributes = {}) {\n",
       "  const element = document.createElement('span');\n",
       "  element.textContent = text;\n",
       "  for (const key of Object.keys(styleAttributes)) {\n",
       "    element.style[key] = styleAttributes[key];\n",
       "  }\n",
       "  return element;\n",
       "}\n",
       "\n",
       "// Max number of bytes which will be uploaded at a time.\n",
       "const MAX_PAYLOAD_SIZE = 100 * 1024;\n",
       "\n",
       "function _uploadFiles(inputId, outputId) {\n",
       "  const steps = uploadFilesStep(inputId, outputId);\n",
       "  const outputElement = document.getElementById(outputId);\n",
       "  // Cache steps on the outputElement to make it available for the next call\n",
       "  // to uploadFilesContinue from Python.\n",
       "  outputElement.steps = steps;\n",
       "\n",
       "  return _uploadFilesContinue(outputId);\n",
       "}\n",
       "\n",
       "// This is roughly an async generator (not supported in the browser yet),\n",
       "// where there are multiple asynchronous steps and the Python side is going\n",
       "// to poll for completion of each step.\n",
       "// This uses a Promise to block the python side on completion of each step,\n",
       "// then passes the result of the previous step as the input to the next step.\n",
       "function _uploadFilesContinue(outputId) {\n",
       "  const outputElement = document.getElementById(outputId);\n",
       "  const steps = outputElement.steps;\n",
       "\n",
       "  const next = steps.next(outputElement.lastPromiseValue);\n",
       "  return Promise.resolve(next.value.promise).then((value) => {\n",
       "    // Cache the last promise value to make it available to the next\n",
       "    // step of the generator.\n",
       "    outputElement.lastPromiseValue = value;\n",
       "    return next.value.response;\n",
       "  });\n",
       "}\n",
       "\n",
       "/**\n",
       " * Generator function which is called between each async step of the upload\n",
       " * process.\n",
       " * @param {string} inputId Element ID of the input file picker element.\n",
       " * @param {string} outputId Element ID of the output display.\n",
       " * @return {!Iterable<!Object>} Iterable of next steps.\n",
       " */\n",
       "function* uploadFilesStep(inputId, outputId) {\n",
       "  const inputElement = document.getElementById(inputId);\n",
       "  inputElement.disabled = false;\n",
       "\n",
       "  const outputElement = document.getElementById(outputId);\n",
       "  outputElement.innerHTML = '';\n",
       "\n",
       "  const pickedPromise = new Promise((resolve) => {\n",
       "    inputElement.addEventListener('change', (e) => {\n",
       "      resolve(e.target.files);\n",
       "    });\n",
       "  });\n",
       "\n",
       "  const cancel = document.createElement('button');\n",
       "  inputElement.parentElement.appendChild(cancel);\n",
       "  cancel.textContent = 'Cancel upload';\n",
       "  const cancelPromise = new Promise((resolve) => {\n",
       "    cancel.onclick = () => {\n",
       "      resolve(null);\n",
       "    };\n",
       "  });\n",
       "\n",
       "  // Wait for the user to pick the files.\n",
       "  const files = yield {\n",
       "    promise: Promise.race([pickedPromise, cancelPromise]),\n",
       "    response: {\n",
       "      action: 'starting',\n",
       "    }\n",
       "  };\n",
       "\n",
       "  cancel.remove();\n",
       "\n",
       "  // Disable the input element since further picks are not allowed.\n",
       "  inputElement.disabled = true;\n",
       "\n",
       "  if (!files) {\n",
       "    return {\n",
       "      response: {\n",
       "        action: 'complete',\n",
       "      }\n",
       "    };\n",
       "  }\n",
       "\n",
       "  for (const file of files) {\n",
       "    const li = document.createElement('li');\n",
       "    li.append(span(file.name, {fontWeight: 'bold'}));\n",
       "    li.append(span(\n",
       "        `(${file.type || 'n/a'}) - ${file.size} bytes, ` +\n",
       "        `last modified: ${\n",
       "            file.lastModifiedDate ? file.lastModifiedDate.toLocaleDateString() :\n",
       "                                    'n/a'} - `));\n",
       "    const percent = span('0% done');\n",
       "    li.appendChild(percent);\n",
       "\n",
       "    outputElement.appendChild(li);\n",
       "\n",
       "    const fileDataPromise = new Promise((resolve) => {\n",
       "      const reader = new FileReader();\n",
       "      reader.onload = (e) => {\n",
       "        resolve(e.target.result);\n",
       "      };\n",
       "      reader.readAsArrayBuffer(file);\n",
       "    });\n",
       "    // Wait for the data to be ready.\n",
       "    let fileData = yield {\n",
       "      promise: fileDataPromise,\n",
       "      response: {\n",
       "        action: 'continue',\n",
       "      }\n",
       "    };\n",
       "\n",
       "    // Use a chunked sending to avoid message size limits. See b/62115660.\n",
       "    let position = 0;\n",
       "    do {\n",
       "      const length = Math.min(fileData.byteLength - position, MAX_PAYLOAD_SIZE);\n",
       "      const chunk = new Uint8Array(fileData, position, length);\n",
       "      position += length;\n",
       "\n",
       "      const base64 = btoa(String.fromCharCode.apply(null, chunk));\n",
       "      yield {\n",
       "        response: {\n",
       "          action: 'append',\n",
       "          file: file.name,\n",
       "          data: base64,\n",
       "        },\n",
       "      };\n",
       "\n",
       "      let percentDone = fileData.byteLength === 0 ?\n",
       "          100 :\n",
       "          Math.round((position / fileData.byteLength) * 100);\n",
       "      percent.textContent = `${percentDone}% done`;\n",
       "\n",
       "    } while (position < fileData.byteLength);\n",
       "  }\n",
       "\n",
       "  // All done.\n",
       "  yield {\n",
       "    response: {\n",
       "      action: 'complete',\n",
       "    }\n",
       "  };\n",
       "}\n",
       "\n",
       "scope.google = scope.google || {};\n",
       "scope.google.colab = scope.google.colab || {};\n",
       "scope.google.colab._files = {\n",
       "  _uploadFiles,\n",
       "  _uploadFilesContinue,\n",
       "};\n",
       "})(self);\n",
       "</script> "
      ],
      "text/plain": [
       "<IPython.core.display.HTML object>"
      ]
     },
     "metadata": {},
     "output_type": "display_data"
    },
    {
     "name": "stdout",
     "output_type": "stream",
     "text": [
      "Saving kaggle.json to kaggle.json\n",
      "Downloading pix2pix-dataset.zip to /content\n",
      "100% 2.40G/2.40G [02:03<00:00, 22.1MB/s]\n",
      "100% 2.40G/2.40G [02:03<00:00, 20.9MB/s]\n",
      "Done\n"
     ]
    }
   ],
   "source": [
    "from google.colab import files\n",
    "files.upload()\n",
    "\n",
    "!mkdir -p ~/.kaggle\n",
    "!cp kaggle.json ~/.kaggle/\n",
    "!chmod 600 ~/.kaggle/kaggle.json\n",
    "\n",
    "!kaggle datasets download -d vikramtiwari/pix2pix-dataset\n",
    "\n",
    "from zipfile import ZipFile\n",
    "dataset_path = './pix2pix-dataset.zip'\n",
    "\n",
    "with ZipFile(dataset_path, 'r') as z:\n",
    "    z.extractall(path='./dataset')\n",
    "    print(\"Done\")"
   ]
  },
  {
   "cell_type": "code",
   "execution_count": 1,
   "metadata": {
    "id": "uLRoAts0NUWS"
   },
   "outputs": [],
   "source": [
    "import torch\n",
    "import torchvision\n",
    "import torch.nn as nn\n",
    "import torch.optim as optim\n",
    "from torch.utils.data import DataLoader\n",
    "\n",
    "import albumentations as A\n",
    "from albumentations.pytorch import ToTensorV2\n",
    "\n",
    "import os\n",
    "import shutil\n",
    "import numpy as np\n",
    "from PIL import Image\n",
    "from tqdm import tqdm\n",
    "import matplotlib.pyplot as plt"
   ]
  },
  {
   "cell_type": "code",
   "execution_count": 2,
   "metadata": {
    "id": "GuLEc8PcOpdh"
   },
   "outputs": [],
   "source": [
    "class convBlockDisc(nn.Module):\n",
    "    def __init__(self, in_channels, out_channels, stride):\n",
    "        super().__init__()\n",
    "        self.conv = nn.Sequential(\n",
    "            nn.Conv2d(in_channels, out_channels, kernel_size=4, stride=stride, padding=1, bias=False, padding_mode=\"reflect\"),\n",
    "            nn.BatchNorm2d(out_channels),\n",
    "            nn.LeakyReLU(0.2),\n",
    "        )\n",
    "    \n",
    "    def forward(self, x):\n",
    "        return self.conv(x)"
   ]
  },
  {
   "cell_type": "code",
   "execution_count": 3,
   "metadata": {
    "id": "pRbqPVqaQBGd"
   },
   "outputs": [],
   "source": [
    "class Discriminator(nn.Module):\n",
    "    def __init__(self, in_channels=3, channels=[64, 128, 256, 512]):\n",
    "        super().__init__()\n",
    "        self.initial = nn.Sequential(\n",
    "            nn.Conv2d(in_channels*2, channels[0], kernel_size=4, stride=2, padding=1, padding_mode=\"reflect\"),\n",
    "            nn.LeakyReLU(0.2),\n",
    "        )\n",
    "\n",
    "        layers = []\n",
    "        in_channels = channels[0]\n",
    "        for channel in channels[1:]:\n",
    "            layer = convBlockDisc(in_channels, channel, stride=2 if channel != channels[-1] else 1)\n",
    "            layers.append(layer)\n",
    "            in_channels = channel\n",
    "\n",
    "        self.layers = nn.Sequential(*layers)\n",
    "        self.final = nn.Conv2d(channels[-1], 1, kernel_size=4, stride=1, padding=1, padding_mode=\"reflect\")\n",
    "    \n",
    "    def forward(self, x, y):\n",
    "        x = torch.cat((x, y), dim=1)\n",
    "        x = self.initial(x)\n",
    "        x = self.layers(x)\n",
    "        x = self.final(x)\n",
    "        return x"
   ]
  },
  {
   "cell_type": "code",
   "execution_count": 4,
   "metadata": {
    "colab": {
     "base_uri": "https://localhost:8080/"
    },
    "id": "mMy_X8CCTT1s",
    "outputId": "f6f61de1-a9d6-4c1d-851e-14fba8d4e521"
   },
   "outputs": [
    {
     "data": {
      "text/plain": [
       "torch.Size([8, 1, 30, 30])"
      ]
     },
     "execution_count": 4,
     "metadata": {},
     "output_type": "execute_result"
    }
   ],
   "source": [
    "x = torch.randn((8, 3, 256, 256))\n",
    "y = torch.randn((8, 3, 256, 256))\n",
    "disc = Discriminator()\n",
    "disc(x, y).shape"
   ]
  },
  {
   "cell_type": "code",
   "execution_count": 5,
   "metadata": {
    "id": "SWfwj9CdXJhW"
   },
   "outputs": [],
   "source": [
    "class convBlockGen(nn.Module):\n",
    "    def __init__(self, in_channels, out_channels, down=True, act=\"relu\", use_dropout=False):\n",
    "        super().__init__()\n",
    "        self.conv = nn.Sequential(\n",
    "            nn.Conv2d(in_channels, out_channels, kernel_size=4, stride=2, padding=1, bias=False, padding_mode=\"reflect\") if down\n",
    "            else nn.ConvTranspose2d(in_channels, out_channels, kernel_size=4, stride=2, padding=1, bias=False),\n",
    "            nn.BatchNorm2d(out_channels),\n",
    "            nn.ReLU() if act == \"relu\" else nn.LeakyReLU(0.2),\n",
    "        )\n",
    "        self.use_dropout = use_dropout\n",
    "        self.dropout = nn.Dropout(0.5)\n",
    "    \n",
    "    def forward(self, x):\n",
    "        x = self.conv(x)\n",
    "        x = self.dropout(x) if self.use_dropout else x\n",
    "        return x"
   ]
  },
  {
   "cell_type": "code",
   "execution_count": 6,
   "metadata": {
    "id": "luEc9VAgcJOb"
   },
   "outputs": [],
   "source": [
    "class Generator(nn.Module):\n",
    "    def __init__(self, in_channels=3, out_channels=3, channels=[64, 128, 256, 512, 512, 512, 512]):\n",
    "        super().__init__()\n",
    "        self.initial_down = nn.Sequential(\n",
    "            nn.Conv2d(in_channels, channels[0], kernel_size=4, stride=2, padding=1, padding_mode=\"reflect\"),\n",
    "            nn.LeakyReLU(0.2),\n",
    "        )\n",
    "\n",
    "        self.downs = nn.ModuleList()\n",
    "        in_channels = channels[0]\n",
    "        for channel in channels[1:]:\n",
    "            down = convBlockGen(in_channels, channel, down=True, act=\"leaky\", use_dropout=False)\n",
    "            self.downs.append(down)\n",
    "            in_channels=channel\n",
    "\n",
    "        self.bottleNeck = nn.Sequential(\n",
    "            nn.Conv2d(in_channels, in_channels, kernel_size=4, stride=2, padding=1, padding_mode=\"reflect\"),\n",
    "            nn.ReLU(),\n",
    "        )\n",
    "\n",
    "        channels = list(reversed(channels))\n",
    "        self.ups = nn.ModuleList([convBlockGen(in_channels, channels[0], down=False, act=\"relu\", use_dropout=True)])\n",
    "        in_channels = channels[0]\n",
    "        for channel_idx, channel in enumerate(channels[1:]):\n",
    "            up = convBlockGen(in_channels*2, channel, down=False, act=\"relu\", use_dropout=True if channel_idx<=1 else False)\n",
    "            self.ups.append(up)\n",
    "            in_channels = channel\n",
    "\n",
    "        self.final_up = nn.Sequential(\n",
    "            nn.ConvTranspose2d(in_channels*2, out_channels, kernel_size=4, stride=2, padding=1),\n",
    "            nn.Tanh(),\n",
    "        )\n",
    "\n",
    "    def forward(self, x):\n",
    "        x = self.initial_down(x)\n",
    "\n",
    "        skip_connections = [x]\n",
    "        for down in self.downs:\n",
    "            x = down(x)\n",
    "            skip_connections.append(x)\n",
    "\n",
    "        x = self.bottleNeck(x)\n",
    "\n",
    "        skip_connections = list(reversed(skip_connections))\n",
    "        for i in range(7):\n",
    "            x = self.ups[i](x)\n",
    "            x = torch.cat((x, skip_connections[i]), dim=1)\n",
    "        x = self.final_up(x)\n",
    "        return x"
   ]
  },
  {
   "cell_type": "code",
   "execution_count": 7,
   "metadata": {
    "colab": {
     "base_uri": "https://localhost:8080/"
    },
    "id": "yQb-BzHIZbkX",
    "outputId": "89db9055-6218-43cb-d411-04298099481e"
   },
   "outputs": [
    {
     "data": {
      "text/plain": [
       "torch.Size([8, 3, 256, 256])"
      ]
     },
     "execution_count": 7,
     "metadata": {},
     "output_type": "execute_result"
    }
   ],
   "source": [
    "x = torch.randn((8, 3, 256, 256))\n",
    "gen = Generator()\n",
    "gen(x).shape"
   ]
  },
  {
   "cell_type": "code",
   "execution_count": 8,
   "metadata": {
    "id": "kTy_2TX-ZVYN"
   },
   "outputs": [],
   "source": [
    "class MapDataset:\n",
    "    def __init__(self, img_paths, input_target_transform, input_transform, target_transform):\n",
    "        self.img_paths = img_paths\n",
    "\n",
    "    def __len__(self):\n",
    "        return len(self.img_paths)\n",
    "\n",
    "    def __getitem__(self, index):\n",
    "        img_path = self.img_paths[index]\n",
    "        img = np.array(Image.open(img_path))\n",
    "        input_img = img[:, :600, :]\n",
    "        target_img = img[:, 600:, :]\n",
    "\n",
    "        aug = input_target_transform(image=input_img, image0=target_img)\n",
    "        input_img = aug[\"image\"]\n",
    "        target_img = aug[\"image0\"]\n",
    "\n",
    "        input_img = input_transform(image=input_img)[\"image\"]\n",
    "        target_img = target_transform(image=target_img)[\"image\"]\n",
    "\n",
    "        return input_img, target_img"
   ]
  },
  {
   "cell_type": "code",
   "execution_count": 10,
   "metadata": {
    "id": "lxEJ1JQIFxgF"
   },
   "outputs": [],
   "source": [
    "BATCH_SIZE = 16\n",
    "IMG_SIZE = 256\n",
    "NUM_WORKERS = 0\n",
    "\n",
    "input_target_transform = A.Compose(\n",
    "    [\n",
    "        A.Resize(height=IMG_SIZE, width=IMG_SIZE),\n",
    "        A.HorizontalFlip(0.5),\n",
    "    ],\n",
    "    additional_targets={\"image0\": \"image\"}\n",
    ")\n",
    "\n",
    "input_transform = A.Compose(\n",
    "    [\n",
    "        A.ColorJitter(p=0.2),\n",
    "        A.Normalize(\n",
    "            mean=[0.5, 0.5, 0.5], \n",
    "            std=[0.5, 0.5, 0.5], \n",
    "            max_pixel_value=255.0,\n",
    "        ),\n",
    "        ToTensorV2(),\n",
    "    ]\n",
    ")\n",
    "\n",
    "target_transform = A.Compose(\n",
    "    [\n",
    "        A.Normalize(\n",
    "            mean=[0.5, 0.5, 0.5], \n",
    "            std=[0.5, 0.5, 0.5], \n",
    "            max_pixel_value=255.0,\n",
    "        ),\n",
    "        ToTensorV2()    \n",
    "    ]\n",
    ")\n",
    "\n",
    "\n",
    "train_dir = \"./maps/train\"\n",
    "train_img_paths = [os.path.join(train_dir, img_name) for img_name in os.listdir(train_dir)]\n",
    "train_dataset = MapDataset(train_img_paths, input_target_transform, input_transform, target_transform)\n",
    "train_data_loader = DataLoader(\n",
    "    train_dataset,\n",
    "    batch_size=BATCH_SIZE,\n",
    "    shuffle=True,\n",
    "    num_workers=NUM_WORKERS,\n",
    ")"
   ]
  },
  {
   "cell_type": "code",
   "execution_count": 11,
   "metadata": {
    "id": "86gJ7F8ld--1"
   },
   "outputs": [],
   "source": [
    "def save_checkpoint(model, optimizer, filename=\"model.pth.tar\"):\n",
    "    print(\"=>Saving Checkpoint...\")\n",
    "    checkpoint = {\"model_state\": model.state_dict(), \"optimizer_state\": optimizer.state_dict()}\n",
    "    torch.save(checkpoint, filename)\n",
    "\n",
    "def load_checkpoint(checkpoint_path, model, optimizer):\n",
    "    print(\"=>Loading Checkpoint...\")\n",
    "    checkpoint = torch.load(checkpoint_path, map_location=torch.device(DEVICE))\n",
    "    model.load_state_dict(checkpoint[\"model_state\"])\n",
    "    optimizer.load_state_dict(checkpoint[\"optimizer_state\"])"
   ]
  },
  {
   "cell_type": "code",
   "execution_count": 12,
   "metadata": {
    "id": "2ChypwDwSWpy"
   },
   "outputs": [],
   "source": [
    "def save_imgs(data_loader, gen, epoch, folder=\"./saved_imgs/\"):\n",
    "    gen.eval()\n",
    "    for input_imgs, target_imgs in data_loader:\n",
    "        input_imgs = input_imgs.to(DEVICE)\n",
    "        target_imgs = target_imgs.to(DEVICE)\n",
    "\n",
    "        with torch.no_grad():\n",
    "            fake_imgs = gen(input_imgs)\n",
    "        \n",
    "        input_imgs = input_imgs * 0.5 + 0.5\n",
    "        fake_imgs = fake_imgs * 0.5 + 0.5\n",
    "\n",
    "        torchvision.utils.save_image(input_imgs, folder + f\"input_{epoch}.png\")\n",
    "        torchvision.utils.save_image(fake_imgs, folder + f\"fake_{epoch}.png\")\n",
    "        break"
   ]
  },
  {
   "cell_type": "code",
   "execution_count": 18,
   "metadata": {
    "id": "yOE13LpOeszB"
   },
   "outputs": [],
   "source": [
    "def train(train_data_loader, gen, disc, opt_gen, opt_disc, bce, l1_loss, gen_scaler, disc_scaler, epoch):\n",
    "    gen.train()\n",
    "    disc.train()\n",
    "\n",
    "    train_progress_bar = tqdm(enumerate(train_data_loader), total=len(train_data_loader), leave=True)\n",
    "    for idx, (input_imgs, target_imgs) in train_progress_bar:\n",
    "        input_imgs = input_imgs.to(DEVICE)\n",
    "        target_imgs = target_imgs.to(DEVICE)\n",
    "\n",
    "        with torch.cuda.amp.autocast():\n",
    "            fake_imgs = gen(input_imgs)\n",
    "            outputs_real_imgs = disc(input_imgs, target_imgs)\n",
    "            outputs_fake_imgs = disc(input_imgs, fake_imgs.detach())\n",
    "\n",
    "            loss_disc_1 = bce(outputs_real_imgs, torch.ones_like(outputs_real_imgs))\n",
    "            loss_disc_2 = bce(outputs_fake_imgs, torch.zeros_like(outputs_fake_imgs))\n",
    "            loss_disc = (loss_disc_1 + loss_disc_2) / 2\n",
    "        \n",
    "        disc.zero_grad()\n",
    "        disc_scaler.scale(loss_disc).backward()\n",
    "        disc_scaler.step(opt_disc)\n",
    "        disc_scaler.update()\n",
    "\n",
    "        with torch.cuda.amp.autocast():\n",
    "            outputs_fake_imgs = disc(input_imgs, fake_imgs)\n",
    "\n",
    "            loss_gen_1 = bce(outputs_fake_imgs, torch.ones_like(outputs_fake_imgs)) \n",
    "            loss_gen_2 = l1_loss(fake_imgs, target_imgs) * L1_LAMBDA\n",
    "            loss_gen = loss_gen_1 + loss_gen_2\n",
    "\n",
    "        opt_gen.zero_grad()\n",
    "        gen_scaler.scale(loss_gen).backward()\n",
    "        gen_scaler.step(opt_gen)\n",
    "        gen_scaler.update()\n",
    "\n",
    "        train_progress_bar.set_description(f\"Epoch [{epoch}/{EPOCHS-1}]\")\n",
    "        train_progress_bar.set_postfix(disc_loss=loss_disc.item(), gen_loss=loss_gen.item())\n",
    "        \n",
    "    train_progress_bar.close()"
   ]
  },
  {
   "cell_type": "code",
   "execution_count": null,
   "metadata": {},
   "outputs": [
    {
     "name": "stdout",
     "output_type": "stream",
     "text": [
      "=>Loading Checkpoint...\n",
      "=>Loading Checkpoint...\n"
     ]
    }
   ],
   "source": [
    "DEVICE = torch.device(\"cuda\" if torch.cuda.is_available() else \"cpu\")\n",
    "LEARNING_RATE = 2e-4\n",
    "\n",
    "CHECKPOINT_GEN = \"gen.pth.tar\"\n",
    "CHECKPOINT_DISC = \"disc.pth.tar\"\n",
    "LOAD_GEN = True\n",
    "LOAD_DISC = True\n",
    "\n",
    "gen = Generator().to(DEVICE)\n",
    "disc = Discriminator().to(DEVICE)\n",
    "\n",
    "opt_gen = optim.Adam(gen.parameters(), lr=LEARNING_RATE, betas=(0.5, 0.999))\n",
    "opt_disc = optim.Adam(disc.parameters(), lr=LEARNING_RATE, betas=(0.5, 0.999))\n",
    "\n",
    "if LOAD_GEN:\n",
    "    load_checkpoint(CHECKPOINT_GEN, gen, opt_gen)\n",
    "if LOAD_DISC:\n",
    "    load_checkpoint(CHECKPOINT_DISC, disc, opt_disc)\n",
    "\n",
    "save_imgs(train_data_loader, gen, epoch=0)"
   ]
  },
  {
   "cell_type": "code",
   "execution_count": 19,
   "metadata": {
    "colab": {
     "base_uri": "https://localhost:8080/"
    },
    "id": "VM0KemkaaDdd",
    "outputId": "3862029a-a26f-46ed-d1ad-3287a0350998"
   },
   "outputs": [
    {
     "name": "stderr",
     "output_type": "stream",
     "text": [
      "Epoch [0/299]: 100%|██████████| 69/69 [00:29<00:00,  2.35it/s, disc_loss=0.207, gen_loss=15.3]\n"
     ]
    },
    {
     "name": "stdout",
     "output_type": "stream",
     "text": [
      "=>Saving Checkpoint...\n",
      "=>Saving Checkpoint...\n"
     ]
    },
    {
     "name": "stderr",
     "output_type": "stream",
     "text": [
      "Epoch [1/299]: 100%|██████████| 69/69 [00:29<00:00,  2.31it/s, disc_loss=0.628, gen_loss=13.3]\n"
     ]
    },
    {
     "name": "stdout",
     "output_type": "stream",
     "text": [
      "=>Saving Checkpoint...\n",
      "=>Saving Checkpoint...\n"
     ]
    },
    {
     "name": "stderr",
     "output_type": "stream",
     "text": [
      "Epoch [2/299]: 100%|██████████| 69/69 [00:29<00:00,  2.36it/s, disc_loss=0.359, gen_loss=13.1]\n"
     ]
    },
    {
     "name": "stdout",
     "output_type": "stream",
     "text": [
      "=>Saving Checkpoint...\n",
      "=>Saving Checkpoint...\n"
     ]
    },
    {
     "name": "stderr",
     "output_type": "stream",
     "text": [
      "Epoch [3/299]: 100%|██████████| 69/69 [00:29<00:00,  2.36it/s, disc_loss=0.183, gen_loss=14.1]\n"
     ]
    },
    {
     "name": "stdout",
     "output_type": "stream",
     "text": [
      "=>Saving Checkpoint...\n",
      "=>Saving Checkpoint...\n"
     ]
    },
    {
     "name": "stderr",
     "output_type": "stream",
     "text": [
      "Epoch [4/299]: 100%|██████████| 69/69 [00:29<00:00,  2.35it/s, disc_loss=0.0504, gen_loss=14.8]\n"
     ]
    },
    {
     "name": "stdout",
     "output_type": "stream",
     "text": [
      "=>Saving Checkpoint...\n",
      "=>Saving Checkpoint...\n"
     ]
    },
    {
     "name": "stderr",
     "output_type": "stream",
     "text": [
      "Epoch [5/299]: 100%|██████████| 69/69 [00:29<00:00,  2.32it/s, disc_loss=0.815, gen_loss=10.9]\n"
     ]
    },
    {
     "name": "stdout",
     "output_type": "stream",
     "text": [
      "=>Saving Checkpoint...\n",
      "=>Saving Checkpoint...\n"
     ]
    },
    {
     "name": "stderr",
     "output_type": "stream",
     "text": [
      "Epoch [6/299]: 100%|██████████| 69/69 [00:29<00:00,  2.31it/s, disc_loss=0.246, gen_loss=11.3]\n"
     ]
    },
    {
     "name": "stdout",
     "output_type": "stream",
     "text": [
      "=>Saving Checkpoint...\n",
      "=>Saving Checkpoint...\n"
     ]
    },
    {
     "name": "stderr",
     "output_type": "stream",
     "text": [
      "Epoch [7/299]: 100%|██████████| 69/69 [00:29<00:00,  2.31it/s, disc_loss=0.0352, gen_loss=14.6]\n"
     ]
    },
    {
     "name": "stdout",
     "output_type": "stream",
     "text": [
      "=>Saving Checkpoint...\n",
      "=>Saving Checkpoint...\n"
     ]
    },
    {
     "name": "stderr",
     "output_type": "stream",
     "text": [
      "Epoch [8/299]: 100%|██████████| 69/69 [00:29<00:00,  2.35it/s, disc_loss=0.0586, gen_loss=18.5]\n"
     ]
    },
    {
     "name": "stdout",
     "output_type": "stream",
     "text": [
      "=>Saving Checkpoint...\n",
      "=>Saving Checkpoint...\n"
     ]
    },
    {
     "name": "stderr",
     "output_type": "stream",
     "text": [
      "Epoch [9/299]: 100%|██████████| 69/69 [00:29<00:00,  2.35it/s, disc_loss=0.00957, gen_loss=15.1]\n"
     ]
    },
    {
     "name": "stdout",
     "output_type": "stream",
     "text": [
      "=>Saving Checkpoint...\n",
      "=>Saving Checkpoint...\n"
     ]
    },
    {
     "name": "stderr",
     "output_type": "stream",
     "text": [
      "Epoch [10/299]: 100%|██████████| 69/69 [00:29<00:00,  2.34it/s, disc_loss=0.00495, gen_loss=14.3]\n"
     ]
    },
    {
     "name": "stdout",
     "output_type": "stream",
     "text": [
      "=>Saving Checkpoint...\n",
      "=>Saving Checkpoint...\n"
     ]
    },
    {
     "name": "stderr",
     "output_type": "stream",
     "text": [
      "Epoch [11/299]: 100%|██████████| 69/69 [00:29<00:00,  2.31it/s, disc_loss=0.428, gen_loss=19.4]\n"
     ]
    },
    {
     "name": "stdout",
     "output_type": "stream",
     "text": [
      "=>Saving Checkpoint...\n",
      "=>Saving Checkpoint...\n"
     ]
    },
    {
     "name": "stderr",
     "output_type": "stream",
     "text": [
      "Epoch [12/299]: 100%|██████████| 69/69 [00:29<00:00,  2.32it/s, disc_loss=0.0367, gen_loss=11.7]\n"
     ]
    },
    {
     "name": "stdout",
     "output_type": "stream",
     "text": [
      "=>Saving Checkpoint...\n",
      "=>Saving Checkpoint...\n"
     ]
    },
    {
     "name": "stderr",
     "output_type": "stream",
     "text": [
      "Epoch [13/299]: 100%|██████████| 69/69 [00:29<00:00,  2.34it/s, disc_loss=0.0144, gen_loss=17]\n"
     ]
    },
    {
     "name": "stdout",
     "output_type": "stream",
     "text": [
      "=>Saving Checkpoint...\n",
      "=>Saving Checkpoint...\n"
     ]
    },
    {
     "name": "stderr",
     "output_type": "stream",
     "text": [
      "Epoch [14/299]: 100%|██████████| 69/69 [00:29<00:00,  2.35it/s, disc_loss=0.581, gen_loss=17.5]\n"
     ]
    },
    {
     "name": "stdout",
     "output_type": "stream",
     "text": [
      "=>Saving Checkpoint...\n",
      "=>Saving Checkpoint...\n"
     ]
    },
    {
     "name": "stderr",
     "output_type": "stream",
     "text": [
      "Epoch [15/299]: 100%|██████████| 69/69 [00:29<00:00,  2.34it/s, disc_loss=0.023, gen_loss=13.6]\n"
     ]
    },
    {
     "name": "stdout",
     "output_type": "stream",
     "text": [
      "=>Saving Checkpoint...\n",
      "=>Saving Checkpoint...\n"
     ]
    },
    {
     "name": "stderr",
     "output_type": "stream",
     "text": [
      "Epoch [16/299]: 100%|██████████| 69/69 [00:29<00:00,  2.34it/s, disc_loss=0.0105, gen_loss=12.4]\n"
     ]
    },
    {
     "name": "stdout",
     "output_type": "stream",
     "text": [
      "=>Saving Checkpoint...\n",
      "=>Saving Checkpoint...\n"
     ]
    },
    {
     "name": "stderr",
     "output_type": "stream",
     "text": [
      "Epoch [17/299]: 100%|██████████| 69/69 [00:29<00:00,  2.31it/s, disc_loss=0.00671, gen_loss=16.7]\n"
     ]
    },
    {
     "name": "stdout",
     "output_type": "stream",
     "text": [
      "=>Saving Checkpoint...\n",
      "=>Saving Checkpoint...\n"
     ]
    },
    {
     "name": "stderr",
     "output_type": "stream",
     "text": [
      "Epoch [18/299]: 100%|██████████| 69/69 [00:29<00:00,  2.31it/s, disc_loss=0.00588, gen_loss=12.6]\n"
     ]
    },
    {
     "name": "stdout",
     "output_type": "stream",
     "text": [
      "=>Saving Checkpoint...\n",
      "=>Saving Checkpoint...\n"
     ]
    },
    {
     "name": "stderr",
     "output_type": "stream",
     "text": [
      "Epoch [19/299]: 100%|██████████| 69/69 [00:30<00:00,  2.30it/s, disc_loss=0.0026, gen_loss=13.3]\n"
     ]
    },
    {
     "name": "stdout",
     "output_type": "stream",
     "text": [
      "=>Saving Checkpoint...\n",
      "=>Saving Checkpoint...\n"
     ]
    },
    {
     "name": "stderr",
     "output_type": "stream",
     "text": [
      "Epoch [20/299]: 100%|██████████| 69/69 [00:29<00:00,  2.32it/s, disc_loss=0.0101, gen_loss=12.7]\n"
     ]
    },
    {
     "name": "stdout",
     "output_type": "stream",
     "text": [
      "=>Saving Checkpoint...\n",
      "=>Saving Checkpoint...\n"
     ]
    },
    {
     "name": "stderr",
     "output_type": "stream",
     "text": [
      "Epoch [21/299]: 100%|██████████| 69/69 [00:29<00:00,  2.34it/s, disc_loss=0.00632, gen_loss=16.4]\n"
     ]
    },
    {
     "name": "stdout",
     "output_type": "stream",
     "text": [
      "=>Saving Checkpoint...\n",
      "=>Saving Checkpoint...\n"
     ]
    },
    {
     "name": "stderr",
     "output_type": "stream",
     "text": [
      "Epoch [22/299]: 100%|██████████| 69/69 [00:29<00:00,  2.35it/s, disc_loss=0.00159, gen_loss=14.7]\n"
     ]
    },
    {
     "name": "stdout",
     "output_type": "stream",
     "text": [
      "=>Saving Checkpoint...\n",
      "=>Saving Checkpoint...\n"
     ]
    },
    {
     "name": "stderr",
     "output_type": "stream",
     "text": [
      "Epoch [23/299]: 100%|██████████| 69/69 [00:29<00:00,  2.33it/s, disc_loss=0.00151, gen_loss=16.9]\n"
     ]
    },
    {
     "name": "stdout",
     "output_type": "stream",
     "text": [
      "=>Saving Checkpoint...\n",
      "=>Saving Checkpoint...\n"
     ]
    },
    {
     "name": "stderr",
     "output_type": "stream",
     "text": [
      "Epoch [24/299]: 100%|██████████| 69/69 [00:29<00:00,  2.33it/s, disc_loss=0.00149, gen_loss=16.2]\n"
     ]
    },
    {
     "name": "stdout",
     "output_type": "stream",
     "text": [
      "=>Saving Checkpoint...\n",
      "=>Saving Checkpoint...\n"
     ]
    },
    {
     "name": "stderr",
     "output_type": "stream",
     "text": [
      "Epoch [25/299]: 100%|██████████| 69/69 [00:29<00:00,  2.32it/s, disc_loss=0.000814, gen_loss=17.6]\n"
     ]
    },
    {
     "name": "stdout",
     "output_type": "stream",
     "text": [
      "=>Saving Checkpoint...\n",
      "=>Saving Checkpoint...\n"
     ]
    },
    {
     "name": "stderr",
     "output_type": "stream",
     "text": [
      "Epoch [26/299]: 100%|██████████| 69/69 [00:29<00:00,  2.31it/s, disc_loss=0.0105, gen_loss=16.3]\n"
     ]
    },
    {
     "name": "stdout",
     "output_type": "stream",
     "text": [
      "=>Saving Checkpoint...\n",
      "=>Saving Checkpoint...\n"
     ]
    },
    {
     "name": "stderr",
     "output_type": "stream",
     "text": [
      "Epoch [27/299]: 100%|██████████| 69/69 [00:29<00:00,  2.37it/s, disc_loss=0.00198, gen_loss=15.7]\n"
     ]
    },
    {
     "name": "stdout",
     "output_type": "stream",
     "text": [
      "=>Saving Checkpoint...\n",
      "=>Saving Checkpoint...\n"
     ]
    },
    {
     "name": "stderr",
     "output_type": "stream",
     "text": [
      "Epoch [28/299]: 100%|██████████| 69/69 [00:28<00:00,  2.38it/s, disc_loss=0.0191, gen_loss=15]\n"
     ]
    },
    {
     "name": "stdout",
     "output_type": "stream",
     "text": [
      "=>Saving Checkpoint...\n",
      "=>Saving Checkpoint...\n"
     ]
    },
    {
     "name": "stderr",
     "output_type": "stream",
     "text": [
      "Epoch [29/299]: 100%|██████████| 69/69 [00:29<00:00,  2.35it/s, disc_loss=0.00286, gen_loss=18.2]\n"
     ]
    },
    {
     "name": "stdout",
     "output_type": "stream",
     "text": [
      "=>Saving Checkpoint...\n",
      "=>Saving Checkpoint...\n"
     ]
    },
    {
     "name": "stderr",
     "output_type": "stream",
     "text": [
      "Epoch [30/299]: 100%|██████████| 69/69 [00:29<00:00,  2.34it/s, disc_loss=0.00344, gen_loss=14.6]\n"
     ]
    },
    {
     "name": "stdout",
     "output_type": "stream",
     "text": [
      "=>Saving Checkpoint...\n",
      "=>Saving Checkpoint...\n"
     ]
    },
    {
     "name": "stderr",
     "output_type": "stream",
     "text": [
      "Epoch [31/299]: 100%|██████████| 69/69 [00:29<00:00,  2.33it/s, disc_loss=0.000912, gen_loss=17.7]\n"
     ]
    },
    {
     "name": "stdout",
     "output_type": "stream",
     "text": [
      "=>Saving Checkpoint...\n",
      "=>Saving Checkpoint...\n"
     ]
    },
    {
     "name": "stderr",
     "output_type": "stream",
     "text": [
      "Epoch [32/299]: 100%|██████████| 69/69 [00:29<00:00,  2.33it/s, disc_loss=0.00172, gen_loss=15]\n"
     ]
    },
    {
     "name": "stdout",
     "output_type": "stream",
     "text": [
      "=>Saving Checkpoint...\n",
      "=>Saving Checkpoint...\n"
     ]
    },
    {
     "name": "stderr",
     "output_type": "stream",
     "text": [
      "Epoch [33/299]: 100%|██████████| 69/69 [00:29<00:00,  2.36it/s, disc_loss=0.00673, gen_loss=19.2]\n"
     ]
    },
    {
     "name": "stdout",
     "output_type": "stream",
     "text": [
      "=>Saving Checkpoint...\n",
      "=>Saving Checkpoint...\n"
     ]
    },
    {
     "name": "stderr",
     "output_type": "stream",
     "text": [
      "Epoch [34/299]: 100%|██████████| 69/69 [00:29<00:00,  2.36it/s, disc_loss=0.000511, gen_loss=15.7]\n"
     ]
    },
    {
     "name": "stdout",
     "output_type": "stream",
     "text": [
      "=>Saving Checkpoint...\n",
      "=>Saving Checkpoint...\n"
     ]
    },
    {
     "name": "stderr",
     "output_type": "stream",
     "text": [
      "Epoch [35/299]: 100%|██████████| 69/69 [00:29<00:00,  2.35it/s, disc_loss=0.807, gen_loss=8.52]\n"
     ]
    },
    {
     "name": "stdout",
     "output_type": "stream",
     "text": [
      "=>Saving Checkpoint...\n",
      "=>Saving Checkpoint...\n"
     ]
    },
    {
     "name": "stderr",
     "output_type": "stream",
     "text": [
      "Epoch [36/299]: 100%|██████████| 69/69 [00:30<00:00,  2.28it/s, disc_loss=0.902, gen_loss=9]\n"
     ]
    },
    {
     "name": "stdout",
     "output_type": "stream",
     "text": [
      "=>Saving Checkpoint...\n",
      "=>Saving Checkpoint...\n"
     ]
    },
    {
     "name": "stderr",
     "output_type": "stream",
     "text": [
      "Epoch [37/299]: 100%|██████████| 69/69 [00:30<00:00,  2.26it/s, disc_loss=0.704, gen_loss=10]\n"
     ]
    },
    {
     "name": "stdout",
     "output_type": "stream",
     "text": [
      "=>Saving Checkpoint...\n",
      "=>Saving Checkpoint...\n"
     ]
    },
    {
     "name": "stderr",
     "output_type": "stream",
     "text": [
      "Epoch [38/299]: 100%|██████████| 69/69 [00:29<00:00,  2.33it/s, disc_loss=0.571, gen_loss=9.57]\n"
     ]
    },
    {
     "name": "stdout",
     "output_type": "stream",
     "text": [
      "=>Saving Checkpoint...\n",
      "=>Saving Checkpoint...\n"
     ]
    },
    {
     "name": "stderr",
     "output_type": "stream",
     "text": [
      "Epoch [39/299]: 100%|██████████| 69/69 [00:29<00:00,  2.35it/s, disc_loss=0.397, gen_loss=10.9]\n"
     ]
    },
    {
     "name": "stdout",
     "output_type": "stream",
     "text": [
      "=>Saving Checkpoint...\n",
      "=>Saving Checkpoint...\n"
     ]
    },
    {
     "name": "stderr",
     "output_type": "stream",
     "text": [
      "Epoch [40/299]: 100%|██████████| 69/69 [00:29<00:00,  2.36it/s, disc_loss=0.696, gen_loss=11]\n"
     ]
    },
    {
     "name": "stdout",
     "output_type": "stream",
     "text": [
      "=>Saving Checkpoint...\n",
      "=>Saving Checkpoint...\n"
     ]
    },
    {
     "name": "stderr",
     "output_type": "stream",
     "text": [
      "Epoch [41/299]: 100%|██████████| 69/69 [00:29<00:00,  2.35it/s, disc_loss=0.644, gen_loss=9.1]\n"
     ]
    },
    {
     "name": "stdout",
     "output_type": "stream",
     "text": [
      "=>Saving Checkpoint...\n",
      "=>Saving Checkpoint...\n"
     ]
    },
    {
     "name": "stderr",
     "output_type": "stream",
     "text": [
      "Epoch [42/299]: 100%|██████████| 69/69 [00:29<00:00,  2.33it/s, disc_loss=0.127, gen_loss=11]\n"
     ]
    },
    {
     "name": "stdout",
     "output_type": "stream",
     "text": [
      "=>Saving Checkpoint...\n",
      "=>Saving Checkpoint...\n"
     ]
    },
    {
     "name": "stderr",
     "output_type": "stream",
     "text": [
      "Epoch [43/299]: 100%|██████████| 69/69 [00:29<00:00,  2.32it/s, disc_loss=0.323, gen_loss=12.8]\n"
     ]
    },
    {
     "name": "stdout",
     "output_type": "stream",
     "text": [
      "=>Saving Checkpoint...\n",
      "=>Saving Checkpoint...\n"
     ]
    },
    {
     "name": "stderr",
     "output_type": "stream",
     "text": [
      "Epoch [44/299]: 100%|██████████| 69/69 [00:29<00:00,  2.34it/s, disc_loss=0.138, gen_loss=12.2]\n"
     ]
    },
    {
     "name": "stdout",
     "output_type": "stream",
     "text": [
      "=>Saving Checkpoint...\n",
      "=>Saving Checkpoint...\n"
     ]
    },
    {
     "name": "stderr",
     "output_type": "stream",
     "text": [
      "Epoch [45/299]: 100%|██████████| 69/69 [00:29<00:00,  2.35it/s, disc_loss=0.0238, gen_loss=14.7]\n"
     ]
    },
    {
     "name": "stdout",
     "output_type": "stream",
     "text": [
      "=>Saving Checkpoint...\n",
      "=>Saving Checkpoint...\n"
     ]
    },
    {
     "name": "stderr",
     "output_type": "stream",
     "text": [
      "Epoch [46/299]: 100%|██████████| 69/69 [00:29<00:00,  2.35it/s, disc_loss=0.0234, gen_loss=13]\n"
     ]
    },
    {
     "name": "stdout",
     "output_type": "stream",
     "text": [
      "=>Saving Checkpoint...\n",
      "=>Saving Checkpoint...\n"
     ]
    },
    {
     "name": "stderr",
     "output_type": "stream",
     "text": [
      "Epoch [47/299]: 100%|██████████| 69/69 [00:29<00:00,  2.35it/s, disc_loss=0.408, gen_loss=9.92]\n"
     ]
    },
    {
     "name": "stdout",
     "output_type": "stream",
     "text": [
      "=>Saving Checkpoint...\n",
      "=>Saving Checkpoint...\n"
     ]
    },
    {
     "name": "stderr",
     "output_type": "stream",
     "text": [
      "Epoch [48/299]: 100%|██████████| 69/69 [00:29<00:00,  2.31it/s, disc_loss=0.0729, gen_loss=12.4]\n"
     ]
    },
    {
     "name": "stdout",
     "output_type": "stream",
     "text": [
      "=>Saving Checkpoint...\n",
      "=>Saving Checkpoint...\n"
     ]
    },
    {
     "name": "stderr",
     "output_type": "stream",
     "text": [
      "Epoch [49/299]: 100%|██████████| 69/69 [00:29<00:00,  2.34it/s, disc_loss=0.208, gen_loss=11.6]\n"
     ]
    },
    {
     "name": "stdout",
     "output_type": "stream",
     "text": [
      "=>Saving Checkpoint...\n",
      "=>Saving Checkpoint...\n"
     ]
    },
    {
     "name": "stderr",
     "output_type": "stream",
     "text": [
      "Epoch [50/299]: 100%|██████████| 69/69 [00:29<00:00,  2.34it/s, disc_loss=0.0569, gen_loss=13.1]\n"
     ]
    },
    {
     "name": "stdout",
     "output_type": "stream",
     "text": [
      "=>Saving Checkpoint...\n",
      "=>Saving Checkpoint...\n"
     ]
    },
    {
     "name": "stderr",
     "output_type": "stream",
     "text": [
      "Epoch [51/299]: 100%|██████████| 69/69 [00:29<00:00,  2.36it/s, disc_loss=0.006, gen_loss=14.6]\n"
     ]
    },
    {
     "name": "stdout",
     "output_type": "stream",
     "text": [
      "=>Saving Checkpoint...\n",
      "=>Saving Checkpoint...\n"
     ]
    },
    {
     "name": "stderr",
     "output_type": "stream",
     "text": [
      "Epoch [52/299]: 100%|██████████| 69/69 [00:29<00:00,  2.32it/s, disc_loss=0.876, gen_loss=12]\n"
     ]
    },
    {
     "name": "stdout",
     "output_type": "stream",
     "text": [
      "=>Saving Checkpoint...\n",
      "=>Saving Checkpoint...\n"
     ]
    },
    {
     "name": "stderr",
     "output_type": "stream",
     "text": [
      "Epoch [53/299]: 100%|██████████| 69/69 [00:29<00:00,  2.35it/s, disc_loss=0.153, gen_loss=11.5]\n"
     ]
    },
    {
     "name": "stdout",
     "output_type": "stream",
     "text": [
      "=>Saving Checkpoint...\n",
      "=>Saving Checkpoint...\n"
     ]
    },
    {
     "name": "stderr",
     "output_type": "stream",
     "text": [
      "Epoch [54/299]: 100%|██████████| 69/69 [00:29<00:00,  2.34it/s, disc_loss=0.0156, gen_loss=12.8]\n"
     ]
    },
    {
     "name": "stdout",
     "output_type": "stream",
     "text": [
      "=>Saving Checkpoint...\n",
      "=>Saving Checkpoint...\n"
     ]
    },
    {
     "name": "stderr",
     "output_type": "stream",
     "text": [
      "Epoch [55/299]: 100%|██████████| 69/69 [00:29<00:00,  2.32it/s, disc_loss=0.0134, gen_loss=11]\n"
     ]
    },
    {
     "name": "stdout",
     "output_type": "stream",
     "text": [
      "=>Saving Checkpoint...\n",
      "=>Saving Checkpoint...\n"
     ]
    },
    {
     "name": "stderr",
     "output_type": "stream",
     "text": [
      "Epoch [56/299]: 100%|██████████| 69/69 [00:29<00:00,  2.34it/s, disc_loss=0.0267, gen_loss=13]\n"
     ]
    },
    {
     "name": "stdout",
     "output_type": "stream",
     "text": [
      "=>Saving Checkpoint...\n",
      "=>Saving Checkpoint...\n"
     ]
    },
    {
     "name": "stderr",
     "output_type": "stream",
     "text": [
      "Epoch [57/299]: 100%|██████████| 69/69 [00:29<00:00,  2.36it/s, disc_loss=0.0105, gen_loss=16]\n"
     ]
    },
    {
     "name": "stdout",
     "output_type": "stream",
     "text": [
      "=>Saving Checkpoint...\n",
      "=>Saving Checkpoint...\n"
     ]
    },
    {
     "name": "stderr",
     "output_type": "stream",
     "text": [
      "Epoch [58/299]: 100%|██████████| 69/69 [00:29<00:00,  2.37it/s, disc_loss=0.41, gen_loss=11.7]\n"
     ]
    },
    {
     "name": "stdout",
     "output_type": "stream",
     "text": [
      "=>Saving Checkpoint...\n",
      "=>Saving Checkpoint...\n"
     ]
    },
    {
     "name": "stderr",
     "output_type": "stream",
     "text": [
      "Epoch [59/299]: 100%|██████████| 69/69 [00:29<00:00,  2.33it/s, disc_loss=0.175, gen_loss=11.2]\n"
     ]
    },
    {
     "name": "stdout",
     "output_type": "stream",
     "text": [
      "=>Saving Checkpoint...\n",
      "=>Saving Checkpoint...\n"
     ]
    },
    {
     "name": "stderr",
     "output_type": "stream",
     "text": [
      "Epoch [60/299]: 100%|██████████| 69/69 [00:29<00:00,  2.33it/s, disc_loss=0.0665, gen_loss=12.6]\n"
     ]
    },
    {
     "name": "stdout",
     "output_type": "stream",
     "text": [
      "=>Saving Checkpoint...\n",
      "=>Saving Checkpoint...\n"
     ]
    },
    {
     "name": "stderr",
     "output_type": "stream",
     "text": [
      "Epoch [61/299]: 100%|██████████| 69/69 [00:29<00:00,  2.32it/s, disc_loss=1.13, gen_loss=10.9]\n"
     ]
    },
    {
     "name": "stdout",
     "output_type": "stream",
     "text": [
      "=>Saving Checkpoint...\n",
      "=>Saving Checkpoint...\n"
     ]
    },
    {
     "name": "stderr",
     "output_type": "stream",
     "text": [
      "Epoch [62/299]: 100%|██████████| 69/69 [00:29<00:00,  2.34it/s, disc_loss=0.0114, gen_loss=16.2]\n"
     ]
    },
    {
     "name": "stdout",
     "output_type": "stream",
     "text": [
      "=>Saving Checkpoint...\n",
      "=>Saving Checkpoint...\n"
     ]
    },
    {
     "name": "stderr",
     "output_type": "stream",
     "text": [
      "Epoch [63/299]: 100%|██████████| 69/69 [00:29<00:00,  2.37it/s, disc_loss=0.106, gen_loss=14.4]\n"
     ]
    },
    {
     "name": "stdout",
     "output_type": "stream",
     "text": [
      "=>Saving Checkpoint...\n",
      "=>Saving Checkpoint...\n"
     ]
    },
    {
     "name": "stderr",
     "output_type": "stream",
     "text": [
      "Epoch [64/299]: 100%|██████████| 69/69 [00:28<00:00,  2.38it/s, disc_loss=0.0109, gen_loss=14.9]\n"
     ]
    },
    {
     "name": "stdout",
     "output_type": "stream",
     "text": [
      "=>Saving Checkpoint...\n",
      "=>Saving Checkpoint...\n"
     ]
    },
    {
     "name": "stderr",
     "output_type": "stream",
     "text": [
      "Epoch [65/299]: 100%|██████████| 69/69 [00:29<00:00,  2.34it/s, disc_loss=0.00769, gen_loss=11.7]\n"
     ]
    },
    {
     "name": "stdout",
     "output_type": "stream",
     "text": [
      "=>Saving Checkpoint...\n",
      "=>Saving Checkpoint...\n"
     ]
    },
    {
     "name": "stderr",
     "output_type": "stream",
     "text": [
      "Epoch [66/299]: 100%|██████████| 69/69 [00:29<00:00,  2.32it/s, disc_loss=0.0346, gen_loss=13.1]\n"
     ]
    },
    {
     "name": "stdout",
     "output_type": "stream",
     "text": [
      "=>Saving Checkpoint...\n",
      "=>Saving Checkpoint...\n"
     ]
    },
    {
     "name": "stderr",
     "output_type": "stream",
     "text": [
      "Epoch [67/299]: 100%|██████████| 69/69 [00:29<00:00,  2.31it/s, disc_loss=0.0313, gen_loss=10.2]\n"
     ]
    },
    {
     "name": "stdout",
     "output_type": "stream",
     "text": [
      "=>Saving Checkpoint...\n",
      "=>Saving Checkpoint...\n"
     ]
    },
    {
     "name": "stderr",
     "output_type": "stream",
     "text": [
      "Epoch [68/299]: 100%|██████████| 69/69 [00:29<00:00,  2.34it/s, disc_loss=0.789, gen_loss=8.72]\n"
     ]
    },
    {
     "name": "stdout",
     "output_type": "stream",
     "text": [
      "=>Saving Checkpoint...\n",
      "=>Saving Checkpoint...\n"
     ]
    },
    {
     "name": "stderr",
     "output_type": "stream",
     "text": [
      "Epoch [69/299]: 100%|██████████| 69/69 [00:29<00:00,  2.35it/s, disc_loss=0.715, gen_loss=13.1]\n"
     ]
    },
    {
     "name": "stdout",
     "output_type": "stream",
     "text": [
      "=>Saving Checkpoint...\n",
      "=>Saving Checkpoint...\n"
     ]
    },
    {
     "name": "stderr",
     "output_type": "stream",
     "text": [
      "Epoch [70/299]: 100%|██████████| 69/69 [00:29<00:00,  2.34it/s, disc_loss=0.015, gen_loss=13.6]\n"
     ]
    },
    {
     "name": "stdout",
     "output_type": "stream",
     "text": [
      "=>Saving Checkpoint...\n",
      "=>Saving Checkpoint...\n"
     ]
    },
    {
     "name": "stderr",
     "output_type": "stream",
     "text": [
      "Epoch [71/299]: 100%|██████████| 69/69 [00:29<00:00,  2.33it/s, disc_loss=0.0201, gen_loss=11]\n"
     ]
    },
    {
     "name": "stdout",
     "output_type": "stream",
     "text": [
      "=>Saving Checkpoint...\n",
      "=>Saving Checkpoint...\n"
     ]
    },
    {
     "name": "stderr",
     "output_type": "stream",
     "text": [
      "Epoch [72/299]: 100%|██████████| 69/69 [00:29<00:00,  2.31it/s, disc_loss=0.164, gen_loss=12.6]\n"
     ]
    },
    {
     "name": "stdout",
     "output_type": "stream",
     "text": [
      "=>Saving Checkpoint...\n",
      "=>Saving Checkpoint...\n"
     ]
    },
    {
     "name": "stderr",
     "output_type": "stream",
     "text": [
      "Epoch [73/299]: 100%|██████████| 69/69 [00:29<00:00,  2.32it/s, disc_loss=0.0393, gen_loss=14]\n"
     ]
    },
    {
     "name": "stdout",
     "output_type": "stream",
     "text": [
      "=>Saving Checkpoint...\n",
      "=>Saving Checkpoint...\n"
     ]
    },
    {
     "name": "stderr",
     "output_type": "stream",
     "text": [
      "Epoch [74/299]: 100%|██████████| 69/69 [00:29<00:00,  2.33it/s, disc_loss=0.1, gen_loss=11.4]\n"
     ]
    },
    {
     "name": "stdout",
     "output_type": "stream",
     "text": [
      "=>Saving Checkpoint...\n",
      "=>Saving Checkpoint...\n"
     ]
    },
    {
     "name": "stderr",
     "output_type": "stream",
     "text": [
      "Epoch [75/299]: 100%|██████████| 69/69 [00:29<00:00,  2.36it/s, disc_loss=0.0269, gen_loss=14.7]\n"
     ]
    },
    {
     "name": "stdout",
     "output_type": "stream",
     "text": [
      "=>Saving Checkpoint...\n",
      "=>Saving Checkpoint...\n"
     ]
    },
    {
     "name": "stderr",
     "output_type": "stream",
     "text": [
      "Epoch [76/299]: 100%|██████████| 69/69 [00:29<00:00,  2.34it/s, disc_loss=0.0749, gen_loss=13]\n"
     ]
    },
    {
     "name": "stdout",
     "output_type": "stream",
     "text": [
      "=>Saving Checkpoint...\n",
      "=>Saving Checkpoint...\n"
     ]
    },
    {
     "name": "stderr",
     "output_type": "stream",
     "text": [
      "Epoch [77/299]: 100%|██████████| 69/69 [00:29<00:00,  2.33it/s, disc_loss=0.0105, gen_loss=14.7]\n"
     ]
    },
    {
     "name": "stdout",
     "output_type": "stream",
     "text": [
      "=>Saving Checkpoint...\n",
      "=>Saving Checkpoint...\n"
     ]
    },
    {
     "name": "stderr",
     "output_type": "stream",
     "text": [
      "Epoch [78/299]: 100%|██████████| 69/69 [00:29<00:00,  2.31it/s, disc_loss=0.178, gen_loss=10.9]\n"
     ]
    },
    {
     "name": "stdout",
     "output_type": "stream",
     "text": [
      "=>Saving Checkpoint...\n",
      "=>Saving Checkpoint...\n"
     ]
    },
    {
     "name": "stderr",
     "output_type": "stream",
     "text": [
      "Epoch [79/299]: 100%|██████████| 69/69 [00:29<00:00,  2.33it/s, disc_loss=0.0193, gen_loss=12.3]\n"
     ]
    },
    {
     "name": "stdout",
     "output_type": "stream",
     "text": [
      "=>Saving Checkpoint...\n",
      "=>Saving Checkpoint...\n"
     ]
    },
    {
     "name": "stderr",
     "output_type": "stream",
     "text": [
      "Epoch [80/299]: 100%|██████████| 69/69 [00:29<00:00,  2.31it/s, disc_loss=0.138, gen_loss=9.71]\n"
     ]
    },
    {
     "name": "stdout",
     "output_type": "stream",
     "text": [
      "=>Saving Checkpoint...\n",
      "=>Saving Checkpoint...\n"
     ]
    },
    {
     "name": "stderr",
     "output_type": "stream",
     "text": [
      "Epoch [81/299]: 100%|██████████| 69/69 [00:29<00:00,  2.34it/s, disc_loss=1.06, gen_loss=9.5]\n"
     ]
    },
    {
     "name": "stdout",
     "output_type": "stream",
     "text": [
      "=>Saving Checkpoint...\n",
      "=>Saving Checkpoint...\n"
     ]
    },
    {
     "name": "stderr",
     "output_type": "stream",
     "text": [
      "Epoch [82/299]: 100%|██████████| 69/69 [00:29<00:00,  2.32it/s, disc_loss=0.0567, gen_loss=10.4]\n"
     ]
    },
    {
     "name": "stdout",
     "output_type": "stream",
     "text": [
      "=>Saving Checkpoint...\n",
      "=>Saving Checkpoint...\n"
     ]
    },
    {
     "name": "stderr",
     "output_type": "stream",
     "text": [
      "Epoch [83/299]: 100%|██████████| 69/69 [00:30<00:00,  2.27it/s, disc_loss=0.335, gen_loss=11.8]\n"
     ]
    },
    {
     "name": "stdout",
     "output_type": "stream",
     "text": [
      "=>Saving Checkpoint...\n",
      "=>Saving Checkpoint...\n"
     ]
    },
    {
     "name": "stderr",
     "output_type": "stream",
     "text": [
      "Epoch [84/299]: 100%|██████████| 69/69 [00:30<00:00,  2.28it/s, disc_loss=0.141, gen_loss=10.9]\n"
     ]
    },
    {
     "name": "stdout",
     "output_type": "stream",
     "text": [
      "=>Saving Checkpoint...\n",
      "=>Saving Checkpoint...\n"
     ]
    },
    {
     "name": "stderr",
     "output_type": "stream",
     "text": [
      "Epoch [85/299]: 100%|██████████| 69/69 [00:30<00:00,  2.25it/s, disc_loss=1.51, gen_loss=13]\n"
     ]
    },
    {
     "name": "stdout",
     "output_type": "stream",
     "text": [
      "=>Saving Checkpoint...\n",
      "=>Saving Checkpoint...\n"
     ]
    },
    {
     "name": "stderr",
     "output_type": "stream",
     "text": [
      "Epoch [86/299]: 100%|██████████| 69/69 [00:30<00:00,  2.26it/s, disc_loss=0.036, gen_loss=11.6]\n"
     ]
    },
    {
     "name": "stdout",
     "output_type": "stream",
     "text": [
      "=>Saving Checkpoint...\n",
      "=>Saving Checkpoint...\n"
     ]
    },
    {
     "name": "stderr",
     "output_type": "stream",
     "text": [
      "Epoch [87/299]: 100%|██████████| 69/69 [00:30<00:00,  2.25it/s, disc_loss=0.0337, gen_loss=11.8]\n"
     ]
    },
    {
     "name": "stdout",
     "output_type": "stream",
     "text": [
      "=>Saving Checkpoint...\n",
      "=>Saving Checkpoint...\n"
     ]
    },
    {
     "name": "stderr",
     "output_type": "stream",
     "text": [
      "Epoch [88/299]: 100%|██████████| 69/69 [00:30<00:00,  2.25it/s, disc_loss=0.00705, gen_loss=13.9]\n"
     ]
    },
    {
     "name": "stdout",
     "output_type": "stream",
     "text": [
      "=>Saving Checkpoint...\n",
      "=>Saving Checkpoint...\n"
     ]
    },
    {
     "name": "stderr",
     "output_type": "stream",
     "text": [
      "Epoch [89/299]: 100%|██████████| 69/69 [00:30<00:00,  2.25it/s, disc_loss=0.021, gen_loss=18.8]\n"
     ]
    },
    {
     "name": "stdout",
     "output_type": "stream",
     "text": [
      "=>Saving Checkpoint...\n",
      "=>Saving Checkpoint...\n"
     ]
    },
    {
     "name": "stderr",
     "output_type": "stream",
     "text": [
      "Epoch [90/299]: 100%|██████████| 69/69 [00:30<00:00,  2.26it/s, disc_loss=1.3, gen_loss=12.7]\n"
     ]
    },
    {
     "name": "stdout",
     "output_type": "stream",
     "text": [
      "=>Saving Checkpoint...\n",
      "=>Saving Checkpoint...\n"
     ]
    },
    {
     "name": "stderr",
     "output_type": "stream",
     "text": [
      "Epoch [91/299]: 100%|██████████| 69/69 [00:30<00:00,  2.27it/s, disc_loss=0.376, gen_loss=9.89]\n"
     ]
    },
    {
     "name": "stdout",
     "output_type": "stream",
     "text": [
      "=>Saving Checkpoint...\n",
      "=>Saving Checkpoint...\n"
     ]
    },
    {
     "name": "stderr",
     "output_type": "stream",
     "text": [
      "Epoch [92/299]: 100%|██████████| 69/69 [00:30<00:00,  2.30it/s, disc_loss=0.0112, gen_loss=12.1]\n"
     ]
    },
    {
     "name": "stdout",
     "output_type": "stream",
     "text": [
      "=>Saving Checkpoint...\n",
      "=>Saving Checkpoint...\n"
     ]
    },
    {
     "name": "stderr",
     "output_type": "stream",
     "text": [
      "Epoch [93/299]: 100%|██████████| 69/69 [00:29<00:00,  2.30it/s, disc_loss=0.0266, gen_loss=14.3]\n"
     ]
    },
    {
     "name": "stdout",
     "output_type": "stream",
     "text": [
      "=>Saving Checkpoint...\n",
      "=>Saving Checkpoint...\n"
     ]
    },
    {
     "name": "stderr",
     "output_type": "stream",
     "text": [
      "Epoch [94/299]: 100%|██████████| 69/69 [00:30<00:00,  2.29it/s, disc_loss=0.00157, gen_loss=13.5]\n"
     ]
    },
    {
     "name": "stdout",
     "output_type": "stream",
     "text": [
      "=>Saving Checkpoint...\n",
      "=>Saving Checkpoint...\n"
     ]
    },
    {
     "name": "stderr",
     "output_type": "stream",
     "text": [
      "Epoch [95/299]: 100%|██████████| 69/69 [00:30<00:00,  2.28it/s, disc_loss=0.00514, gen_loss=13.4]\n"
     ]
    },
    {
     "name": "stdout",
     "output_type": "stream",
     "text": [
      "=>Saving Checkpoint...\n",
      "=>Saving Checkpoint...\n"
     ]
    },
    {
     "name": "stderr",
     "output_type": "stream",
     "text": [
      "Epoch [96/299]: 100%|██████████| 69/69 [00:30<00:00,  2.26it/s, disc_loss=0.0141, gen_loss=12.1]\n"
     ]
    },
    {
     "name": "stdout",
     "output_type": "stream",
     "text": [
      "=>Saving Checkpoint...\n",
      "=>Saving Checkpoint...\n"
     ]
    },
    {
     "name": "stderr",
     "output_type": "stream",
     "text": [
      "Epoch [97/299]: 100%|██████████| 69/69 [00:30<00:00,  2.25it/s, disc_loss=0.295, gen_loss=14.9]\n"
     ]
    },
    {
     "name": "stdout",
     "output_type": "stream",
     "text": [
      "=>Saving Checkpoint...\n",
      "=>Saving Checkpoint...\n"
     ]
    },
    {
     "name": "stderr",
     "output_type": "stream",
     "text": [
      "Epoch [98/299]: 100%|██████████| 69/69 [00:30<00:00,  2.25it/s, disc_loss=0.121, gen_loss=10.3]\n"
     ]
    },
    {
     "name": "stdout",
     "output_type": "stream",
     "text": [
      "=>Saving Checkpoint...\n",
      "=>Saving Checkpoint...\n"
     ]
    },
    {
     "name": "stderr",
     "output_type": "stream",
     "text": [
      "Epoch [99/299]: 100%|██████████| 69/69 [00:30<00:00,  2.25it/s, disc_loss=0.692, gen_loss=11.1]\n"
     ]
    },
    {
     "name": "stdout",
     "output_type": "stream",
     "text": [
      "=>Saving Checkpoint...\n",
      "=>Saving Checkpoint...\n"
     ]
    },
    {
     "name": "stderr",
     "output_type": "stream",
     "text": [
      "Epoch [100/299]: 100%|██████████| 69/69 [00:30<00:00,  2.26it/s, disc_loss=0.00472, gen_loss=13.9]\n"
     ]
    },
    {
     "name": "stdout",
     "output_type": "stream",
     "text": [
      "=>Saving Checkpoint...\n",
      "=>Saving Checkpoint...\n"
     ]
    },
    {
     "name": "stderr",
     "output_type": "stream",
     "text": [
      "Epoch [101/299]: 100%|██████████| 69/69 [00:30<00:00,  2.25it/s, disc_loss=0.231, gen_loss=10.6]\n"
     ]
    },
    {
     "name": "stdout",
     "output_type": "stream",
     "text": [
      "=>Saving Checkpoint...\n",
      "=>Saving Checkpoint...\n"
     ]
    },
    {
     "name": "stderr",
     "output_type": "stream",
     "text": [
      "Epoch [102/299]: 100%|██████████| 69/69 [00:30<00:00,  2.25it/s, disc_loss=0.00622, gen_loss=14.2]\n"
     ]
    },
    {
     "name": "stdout",
     "output_type": "stream",
     "text": [
      "=>Saving Checkpoint...\n",
      "=>Saving Checkpoint...\n"
     ]
    },
    {
     "name": "stderr",
     "output_type": "stream",
     "text": [
      "Epoch [103/299]: 100%|██████████| 69/69 [00:30<00:00,  2.27it/s, disc_loss=0.0814, gen_loss=12.3]\n"
     ]
    },
    {
     "name": "stdout",
     "output_type": "stream",
     "text": [
      "=>Saving Checkpoint...\n",
      "=>Saving Checkpoint...\n"
     ]
    },
    {
     "name": "stderr",
     "output_type": "stream",
     "text": [
      "Epoch [104/299]: 100%|██████████| 69/69 [00:30<00:00,  2.29it/s, disc_loss=0.0726, gen_loss=13]\n"
     ]
    },
    {
     "name": "stdout",
     "output_type": "stream",
     "text": [
      "=>Saving Checkpoint...\n",
      "=>Saving Checkpoint...\n"
     ]
    },
    {
     "name": "stderr",
     "output_type": "stream",
     "text": [
      "Epoch [105/299]: 100%|██████████| 69/69 [00:29<00:00,  2.31it/s, disc_loss=0.0638, gen_loss=10]\n"
     ]
    },
    {
     "name": "stdout",
     "output_type": "stream",
     "text": [
      "=>Saving Checkpoint...\n",
      "=>Saving Checkpoint...\n"
     ]
    },
    {
     "name": "stderr",
     "output_type": "stream",
     "text": [
      "Epoch [106/299]: 100%|██████████| 69/69 [00:30<00:00,  2.28it/s, disc_loss=0.00941, gen_loss=12.9]\n"
     ]
    },
    {
     "name": "stdout",
     "output_type": "stream",
     "text": [
      "=>Saving Checkpoint...\n",
      "=>Saving Checkpoint...\n"
     ]
    },
    {
     "name": "stderr",
     "output_type": "stream",
     "text": [
      "Epoch [107/299]: 100%|██████████| 69/69 [00:30<00:00,  2.29it/s, disc_loss=0.358, gen_loss=10.7]\n"
     ]
    },
    {
     "name": "stdout",
     "output_type": "stream",
     "text": [
      "=>Saving Checkpoint...\n",
      "=>Saving Checkpoint...\n"
     ]
    },
    {
     "name": "stderr",
     "output_type": "stream",
     "text": [
      "Epoch [108/299]: 100%|██████████| 69/69 [00:30<00:00,  2.27it/s, disc_loss=0.0406, gen_loss=11.1]\n"
     ]
    },
    {
     "name": "stdout",
     "output_type": "stream",
     "text": [
      "=>Saving Checkpoint...\n",
      "=>Saving Checkpoint...\n"
     ]
    },
    {
     "name": "stderr",
     "output_type": "stream",
     "text": [
      "Epoch [109/299]: 100%|██████████| 69/69 [00:30<00:00,  2.26it/s, disc_loss=0.018, gen_loss=16.2]\n"
     ]
    },
    {
     "name": "stdout",
     "output_type": "stream",
     "text": [
      "=>Saving Checkpoint...\n",
      "=>Saving Checkpoint...\n"
     ]
    },
    {
     "name": "stderr",
     "output_type": "stream",
     "text": [
      "Epoch [110/299]: 100%|██████████| 69/69 [00:30<00:00,  2.26it/s, disc_loss=0.2, gen_loss=13.1]\n"
     ]
    },
    {
     "name": "stdout",
     "output_type": "stream",
     "text": [
      "=>Saving Checkpoint...\n",
      "=>Saving Checkpoint...\n"
     ]
    },
    {
     "name": "stderr",
     "output_type": "stream",
     "text": [
      "Epoch [111/299]: 100%|██████████| 69/69 [00:30<00:00,  2.25it/s, disc_loss=0.0707, gen_loss=14.1]\n"
     ]
    },
    {
     "name": "stdout",
     "output_type": "stream",
     "text": [
      "=>Saving Checkpoint...\n",
      "=>Saving Checkpoint...\n"
     ]
    },
    {
     "name": "stderr",
     "output_type": "stream",
     "text": [
      "Epoch [112/299]: 100%|██████████| 69/69 [00:30<00:00,  2.27it/s, disc_loss=0.0632, gen_loss=15.3]\n"
     ]
    },
    {
     "name": "stdout",
     "output_type": "stream",
     "text": [
      "=>Saving Checkpoint...\n",
      "=>Saving Checkpoint...\n"
     ]
    },
    {
     "name": "stderr",
     "output_type": "stream",
     "text": [
      "Epoch [113/299]: 100%|██████████| 69/69 [00:30<00:00,  2.26it/s, disc_loss=0.04, gen_loss=13.1]\n"
     ]
    },
    {
     "name": "stdout",
     "output_type": "stream",
     "text": [
      "=>Saving Checkpoint...\n",
      "=>Saving Checkpoint...\n"
     ]
    },
    {
     "name": "stderr",
     "output_type": "stream",
     "text": [
      "Epoch [114/299]: 100%|██████████| 69/69 [00:30<00:00,  2.29it/s, disc_loss=1.15, gen_loss=12.5]\n"
     ]
    },
    {
     "name": "stdout",
     "output_type": "stream",
     "text": [
      "=>Saving Checkpoint...\n",
      "=>Saving Checkpoint...\n"
     ]
    },
    {
     "name": "stderr",
     "output_type": "stream",
     "text": [
      "Epoch [115/299]: 100%|██████████| 69/69 [00:30<00:00,  2.29it/s, disc_loss=0.517, gen_loss=9.23]\n"
     ]
    },
    {
     "name": "stdout",
     "output_type": "stream",
     "text": [
      "=>Saving Checkpoint...\n",
      "=>Saving Checkpoint...\n"
     ]
    },
    {
     "name": "stderr",
     "output_type": "stream",
     "text": [
      "Epoch [116/299]: 100%|██████████| 69/69 [00:29<00:00,  2.31it/s, disc_loss=0.00697, gen_loss=12.9]\n"
     ]
    },
    {
     "name": "stdout",
     "output_type": "stream",
     "text": [
      "=>Saving Checkpoint...\n",
      "=>Saving Checkpoint...\n"
     ]
    },
    {
     "name": "stderr",
     "output_type": "stream",
     "text": [
      "Epoch [117/299]: 100%|██████████| 69/69 [00:29<00:00,  2.30it/s, disc_loss=0.931, gen_loss=8.22]\n"
     ]
    },
    {
     "name": "stdout",
     "output_type": "stream",
     "text": [
      "=>Saving Checkpoint...\n",
      "=>Saving Checkpoint...\n"
     ]
    },
    {
     "name": "stderr",
     "output_type": "stream",
     "text": [
      "Epoch [118/299]: 100%|██████████| 69/69 [00:30<00:00,  2.27it/s, disc_loss=0.00912, gen_loss=13.6]\n"
     ]
    },
    {
     "name": "stdout",
     "output_type": "stream",
     "text": [
      "=>Saving Checkpoint...\n",
      "=>Saving Checkpoint...\n"
     ]
    },
    {
     "name": "stderr",
     "output_type": "stream",
     "text": [
      "Epoch [119/299]: 100%|██████████| 69/69 [00:30<00:00,  2.27it/s, disc_loss=0.199, gen_loss=10.2]\n"
     ]
    },
    {
     "name": "stdout",
     "output_type": "stream",
     "text": [
      "=>Saving Checkpoint...\n",
      "=>Saving Checkpoint...\n"
     ]
    },
    {
     "name": "stderr",
     "output_type": "stream",
     "text": [
      "Epoch [120/299]: 100%|██████████| 69/69 [00:30<00:00,  2.26it/s, disc_loss=0.0299, gen_loss=12.1]\n"
     ]
    },
    {
     "name": "stdout",
     "output_type": "stream",
     "text": [
      "=>Saving Checkpoint...\n",
      "=>Saving Checkpoint...\n"
     ]
    },
    {
     "name": "stderr",
     "output_type": "stream",
     "text": [
      "Epoch [121/299]: 100%|██████████| 69/69 [00:30<00:00,  2.27it/s, disc_loss=0.0488, gen_loss=16.2]\n"
     ]
    },
    {
     "name": "stdout",
     "output_type": "stream",
     "text": [
      "=>Saving Checkpoint...\n",
      "=>Saving Checkpoint...\n"
     ]
    },
    {
     "name": "stderr",
     "output_type": "stream",
     "text": [
      "Epoch [122/299]: 100%|██████████| 69/69 [00:30<00:00,  2.26it/s, disc_loss=0.352, gen_loss=10.3]\n"
     ]
    },
    {
     "name": "stdout",
     "output_type": "stream",
     "text": [
      "=>Saving Checkpoint...\n",
      "=>Saving Checkpoint...\n"
     ]
    },
    {
     "name": "stderr",
     "output_type": "stream",
     "text": [
      "Epoch [123/299]: 100%|██████████| 69/69 [00:30<00:00,  2.27it/s, disc_loss=0.0682, gen_loss=11.3]\n"
     ]
    },
    {
     "name": "stdout",
     "output_type": "stream",
     "text": [
      "=>Saving Checkpoint...\n",
      "=>Saving Checkpoint...\n"
     ]
    },
    {
     "name": "stderr",
     "output_type": "stream",
     "text": [
      "Epoch [124/299]: 100%|██████████| 69/69 [00:30<00:00,  2.27it/s, disc_loss=0.0933, gen_loss=11.7]\n"
     ]
    },
    {
     "name": "stdout",
     "output_type": "stream",
     "text": [
      "=>Saving Checkpoint...\n",
      "=>Saving Checkpoint...\n"
     ]
    },
    {
     "name": "stderr",
     "output_type": "stream",
     "text": [
      "Epoch [125/299]: 100%|██████████| 69/69 [00:30<00:00,  2.30it/s, disc_loss=0.256, gen_loss=12.4]\n"
     ]
    },
    {
     "name": "stdout",
     "output_type": "stream",
     "text": [
      "=>Saving Checkpoint...\n",
      "=>Saving Checkpoint...\n"
     ]
    },
    {
     "name": "stderr",
     "output_type": "stream",
     "text": [
      "Epoch [126/299]: 100%|██████████| 69/69 [00:30<00:00,  2.30it/s, disc_loss=0.0858, gen_loss=9.44]\n"
     ]
    },
    {
     "name": "stdout",
     "output_type": "stream",
     "text": [
      "=>Saving Checkpoint...\n",
      "=>Saving Checkpoint...\n"
     ]
    },
    {
     "name": "stderr",
     "output_type": "stream",
     "text": [
      "Epoch [127/299]: 100%|██████████| 69/69 [00:30<00:00,  2.30it/s, disc_loss=0.269, gen_loss=12.2]\n"
     ]
    },
    {
     "name": "stdout",
     "output_type": "stream",
     "text": [
      "=>Saving Checkpoint...\n",
      "=>Saving Checkpoint...\n"
     ]
    },
    {
     "name": "stderr",
     "output_type": "stream",
     "text": [
      "Epoch [128/299]: 100%|██████████| 69/69 [00:30<00:00,  2.28it/s, disc_loss=0.227, gen_loss=10.2]\n"
     ]
    },
    {
     "name": "stdout",
     "output_type": "stream",
     "text": [
      "=>Saving Checkpoint...\n",
      "=>Saving Checkpoint...\n"
     ]
    },
    {
     "name": "stderr",
     "output_type": "stream",
     "text": [
      "Epoch [129/299]: 100%|██████████| 69/69 [00:30<00:00,  2.25it/s, disc_loss=0.0605, gen_loss=11.7]\n"
     ]
    },
    {
     "name": "stdout",
     "output_type": "stream",
     "text": [
      "=>Saving Checkpoint...\n",
      "=>Saving Checkpoint...\n"
     ]
    },
    {
     "name": "stderr",
     "output_type": "stream",
     "text": [
      "Epoch [130/299]: 100%|██████████| 69/69 [00:30<00:00,  2.26it/s, disc_loss=0.0205, gen_loss=16]\n"
     ]
    },
    {
     "name": "stdout",
     "output_type": "stream",
     "text": [
      "=>Saving Checkpoint...\n",
      "=>Saving Checkpoint...\n"
     ]
    },
    {
     "name": "stderr",
     "output_type": "stream",
     "text": [
      "Epoch [131/299]: 100%|██████████| 69/69 [00:30<00:00,  2.25it/s, disc_loss=0.0326, gen_loss=15.3]\n"
     ]
    },
    {
     "name": "stdout",
     "output_type": "stream",
     "text": [
      "=>Saving Checkpoint...\n",
      "=>Saving Checkpoint...\n"
     ]
    },
    {
     "name": "stderr",
     "output_type": "stream",
     "text": [
      "Epoch [132/299]: 100%|██████████| 69/69 [00:30<00:00,  2.27it/s, disc_loss=0.273, gen_loss=12.3]\n"
     ]
    },
    {
     "name": "stdout",
     "output_type": "stream",
     "text": [
      "=>Saving Checkpoint...\n",
      "=>Saving Checkpoint...\n"
     ]
    },
    {
     "name": "stderr",
     "output_type": "stream",
     "text": [
      "Epoch [133/299]: 100%|██████████| 69/69 [00:30<00:00,  2.27it/s, disc_loss=4.42, gen_loss=13.9]\n"
     ]
    },
    {
     "name": "stdout",
     "output_type": "stream",
     "text": [
      "=>Saving Checkpoint...\n",
      "=>Saving Checkpoint...\n"
     ]
    },
    {
     "name": "stderr",
     "output_type": "stream",
     "text": [
      "Epoch [134/299]: 100%|██████████| 69/69 [00:30<00:00,  2.25it/s, disc_loss=0.221, gen_loss=7.82]\n"
     ]
    },
    {
     "name": "stdout",
     "output_type": "stream",
     "text": [
      "=>Saving Checkpoint...\n",
      "=>Saving Checkpoint...\n"
     ]
    },
    {
     "name": "stderr",
     "output_type": "stream",
     "text": [
      "Epoch [135/299]: 100%|██████████| 69/69 [00:30<00:00,  2.26it/s, disc_loss=0.175, gen_loss=9.51]\n"
     ]
    },
    {
     "name": "stdout",
     "output_type": "stream",
     "text": [
      "=>Saving Checkpoint...\n",
      "=>Saving Checkpoint...\n"
     ]
    },
    {
     "name": "stderr",
     "output_type": "stream",
     "text": [
      "Epoch [136/299]: 100%|██████████| 69/69 [00:30<00:00,  2.28it/s, disc_loss=0.385, gen_loss=11.3]\n"
     ]
    },
    {
     "name": "stdout",
     "output_type": "stream",
     "text": [
      "=>Saving Checkpoint...\n",
      "=>Saving Checkpoint...\n"
     ]
    },
    {
     "name": "stderr",
     "output_type": "stream",
     "text": [
      "Epoch [137/299]: 100%|██████████| 69/69 [00:30<00:00,  2.29it/s, disc_loss=0.407, gen_loss=11.2]\n"
     ]
    },
    {
     "name": "stdout",
     "output_type": "stream",
     "text": [
      "=>Saving Checkpoint...\n",
      "=>Saving Checkpoint...\n"
     ]
    },
    {
     "name": "stderr",
     "output_type": "stream",
     "text": [
      "Epoch [138/299]: 100%|██████████| 69/69 [00:30<00:00,  2.30it/s, disc_loss=0.199, gen_loss=9.27]\n"
     ]
    },
    {
     "name": "stdout",
     "output_type": "stream",
     "text": [
      "=>Saving Checkpoint...\n",
      "=>Saving Checkpoint...\n"
     ]
    },
    {
     "name": "stderr",
     "output_type": "stream",
     "text": [
      "Epoch [139/299]: 100%|██████████| 69/69 [00:30<00:00,  2.29it/s, disc_loss=0.0375, gen_loss=10.8]\n"
     ]
    },
    {
     "name": "stdout",
     "output_type": "stream",
     "text": [
      "=>Saving Checkpoint...\n",
      "=>Saving Checkpoint...\n"
     ]
    },
    {
     "name": "stderr",
     "output_type": "stream",
     "text": [
      "Epoch [140/299]: 100%|██████████| 69/69 [00:30<00:00,  2.26it/s, disc_loss=0.0232, gen_loss=12.2]\n"
     ]
    },
    {
     "name": "stdout",
     "output_type": "stream",
     "text": [
      "=>Saving Checkpoint...\n",
      "=>Saving Checkpoint...\n"
     ]
    },
    {
     "name": "stderr",
     "output_type": "stream",
     "text": [
      "Epoch [141/299]: 100%|██████████| 69/69 [00:30<00:00,  2.26it/s, disc_loss=0.0136, gen_loss=12.5]\n"
     ]
    },
    {
     "name": "stdout",
     "output_type": "stream",
     "text": [
      "=>Saving Checkpoint...\n",
      "=>Saving Checkpoint...\n"
     ]
    },
    {
     "name": "stderr",
     "output_type": "stream",
     "text": [
      "Epoch [142/299]: 100%|██████████| 69/69 [00:30<00:00,  2.26it/s, disc_loss=0.0132, gen_loss=12]\n"
     ]
    },
    {
     "name": "stdout",
     "output_type": "stream",
     "text": [
      "=>Saving Checkpoint...\n",
      "=>Saving Checkpoint...\n"
     ]
    },
    {
     "name": "stderr",
     "output_type": "stream",
     "text": [
      "Epoch [143/299]: 100%|██████████| 69/69 [00:30<00:00,  2.25it/s, disc_loss=0.25, gen_loss=9.83]\n"
     ]
    },
    {
     "name": "stdout",
     "output_type": "stream",
     "text": [
      "=>Saving Checkpoint...\n",
      "=>Saving Checkpoint...\n"
     ]
    },
    {
     "name": "stderr",
     "output_type": "stream",
     "text": [
      "Epoch [144/299]: 100%|██████████| 69/69 [00:30<00:00,  2.24it/s, disc_loss=0.142, gen_loss=14.3]\n"
     ]
    },
    {
     "name": "stdout",
     "output_type": "stream",
     "text": [
      "=>Saving Checkpoint...\n",
      "=>Saving Checkpoint...\n"
     ]
    },
    {
     "name": "stderr",
     "output_type": "stream",
     "text": [
      "Epoch [145/299]: 100%|██████████| 69/69 [00:30<00:00,  2.24it/s, disc_loss=0.00708, gen_loss=13]\n"
     ]
    },
    {
     "name": "stdout",
     "output_type": "stream",
     "text": [
      "=>Saving Checkpoint...\n",
      "=>Saving Checkpoint...\n"
     ]
    },
    {
     "name": "stderr",
     "output_type": "stream",
     "text": [
      "Epoch [146/299]: 100%|██████████| 69/69 [00:30<00:00,  2.24it/s, disc_loss=0.188, gen_loss=9.76]\n"
     ]
    },
    {
     "name": "stdout",
     "output_type": "stream",
     "text": [
      "=>Saving Checkpoint...\n",
      "=>Saving Checkpoint...\n"
     ]
    },
    {
     "name": "stderr",
     "output_type": "stream",
     "text": [
      "Epoch [147/299]: 100%|██████████| 69/69 [00:30<00:00,  2.27it/s, disc_loss=0.00973, gen_loss=11.5]\n"
     ]
    },
    {
     "name": "stdout",
     "output_type": "stream",
     "text": [
      "=>Saving Checkpoint...\n",
      "=>Saving Checkpoint...\n"
     ]
    },
    {
     "name": "stderr",
     "output_type": "stream",
     "text": [
      "Epoch [148/299]: 100%|██████████| 69/69 [00:30<00:00,  2.28it/s, disc_loss=0.0559, gen_loss=12.8]\n"
     ]
    },
    {
     "name": "stdout",
     "output_type": "stream",
     "text": [
      "=>Saving Checkpoint...\n",
      "=>Saving Checkpoint...\n"
     ]
    },
    {
     "name": "stderr",
     "output_type": "stream",
     "text": [
      "Epoch [149/299]: 100%|██████████| 69/69 [00:30<00:00,  2.29it/s, disc_loss=0.232, gen_loss=10.2]\n"
     ]
    },
    {
     "name": "stdout",
     "output_type": "stream",
     "text": [
      "=>Saving Checkpoint...\n",
      "=>Saving Checkpoint...\n"
     ]
    },
    {
     "name": "stderr",
     "output_type": "stream",
     "text": [
      "Epoch [150/299]: 100%|██████████| 69/69 [00:30<00:00,  2.28it/s, disc_loss=0.126, gen_loss=13.8]\n"
     ]
    },
    {
     "name": "stdout",
     "output_type": "stream",
     "text": [
      "=>Saving Checkpoint...\n",
      "=>Saving Checkpoint...\n"
     ]
    },
    {
     "name": "stderr",
     "output_type": "stream",
     "text": [
      "Epoch [151/299]: 100%|██████████| 69/69 [00:30<00:00,  2.25it/s, disc_loss=0.00608, gen_loss=11.5]\n"
     ]
    },
    {
     "name": "stdout",
     "output_type": "stream",
     "text": [
      "=>Saving Checkpoint...\n",
      "=>Saving Checkpoint...\n"
     ]
    },
    {
     "name": "stderr",
     "output_type": "stream",
     "text": [
      "Epoch [152/299]: 100%|██████████| 69/69 [00:30<00:00,  2.27it/s, disc_loss=0.206, gen_loss=15]\n"
     ]
    },
    {
     "name": "stdout",
     "output_type": "stream",
     "text": [
      "=>Saving Checkpoint...\n",
      "=>Saving Checkpoint...\n"
     ]
    },
    {
     "name": "stderr",
     "output_type": "stream",
     "text": [
      "Epoch [153/299]: 100%|██████████| 69/69 [00:30<00:00,  2.27it/s, disc_loss=0.174, gen_loss=12.4]\n"
     ]
    },
    {
     "name": "stdout",
     "output_type": "stream",
     "text": [
      "=>Saving Checkpoint...\n",
      "=>Saving Checkpoint...\n"
     ]
    },
    {
     "name": "stderr",
     "output_type": "stream",
     "text": [
      "Epoch [154/299]: 100%|██████████| 69/69 [00:30<00:00,  2.25it/s, disc_loss=0.0823, gen_loss=9.86]\n"
     ]
    },
    {
     "name": "stdout",
     "output_type": "stream",
     "text": [
      "=>Saving Checkpoint...\n",
      "=>Saving Checkpoint...\n"
     ]
    },
    {
     "name": "stderr",
     "output_type": "stream",
     "text": [
      "Epoch [155/299]: 100%|██████████| 69/69 [00:30<00:00,  2.26it/s, disc_loss=0.191, gen_loss=11]\n"
     ]
    },
    {
     "name": "stdout",
     "output_type": "stream",
     "text": [
      "=>Saving Checkpoint...\n",
      "=>Saving Checkpoint...\n"
     ]
    },
    {
     "name": "stderr",
     "output_type": "stream",
     "text": [
      "Epoch [156/299]: 100%|██████████| 69/69 [00:30<00:00,  2.25it/s, disc_loss=0.0116, gen_loss=12.4]\n"
     ]
    },
    {
     "name": "stdout",
     "output_type": "stream",
     "text": [
      "=>Saving Checkpoint...\n",
      "=>Saving Checkpoint...\n"
     ]
    },
    {
     "name": "stderr",
     "output_type": "stream",
     "text": [
      "Epoch [157/299]: 100%|██████████| 69/69 [00:30<00:00,  2.27it/s, disc_loss=0.166, gen_loss=10.7]\n"
     ]
    },
    {
     "name": "stdout",
     "output_type": "stream",
     "text": [
      "=>Saving Checkpoint...\n",
      "=>Saving Checkpoint...\n"
     ]
    },
    {
     "name": "stderr",
     "output_type": "stream",
     "text": [
      "Epoch [158/299]: 100%|██████████| 69/69 [00:30<00:00,  2.28it/s, disc_loss=0.258, gen_loss=10.5]\n"
     ]
    },
    {
     "name": "stdout",
     "output_type": "stream",
     "text": [
      "=>Saving Checkpoint...\n",
      "=>Saving Checkpoint...\n"
     ]
    },
    {
     "name": "stderr",
     "output_type": "stream",
     "text": [
      "Epoch [159/299]: 100%|██████████| 69/69 [00:30<00:00,  2.30it/s, disc_loss=0.0647, gen_loss=10.3]\n"
     ]
    },
    {
     "name": "stdout",
     "output_type": "stream",
     "text": [
      "=>Saving Checkpoint...\n",
      "=>Saving Checkpoint...\n"
     ]
    },
    {
     "name": "stderr",
     "output_type": "stream",
     "text": [
      "Epoch [160/299]: 100%|██████████| 69/69 [00:30<00:00,  2.29it/s, disc_loss=0.0866, gen_loss=14.4]\n"
     ]
    },
    {
     "name": "stdout",
     "output_type": "stream",
     "text": [
      "=>Saving Checkpoint...\n",
      "=>Saving Checkpoint...\n"
     ]
    },
    {
     "name": "stderr",
     "output_type": "stream",
     "text": [
      "Epoch [161/299]: 100%|██████████| 69/69 [00:30<00:00,  2.28it/s, disc_loss=0.0101, gen_loss=13]\n"
     ]
    },
    {
     "name": "stdout",
     "output_type": "stream",
     "text": [
      "=>Saving Checkpoint...\n",
      "=>Saving Checkpoint...\n"
     ]
    },
    {
     "name": "stderr",
     "output_type": "stream",
     "text": [
      "Epoch [162/299]: 100%|██████████| 69/69 [00:30<00:00,  2.24it/s, disc_loss=0.0458, gen_loss=16.8]\n"
     ]
    },
    {
     "name": "stdout",
     "output_type": "stream",
     "text": [
      "=>Saving Checkpoint...\n",
      "=>Saving Checkpoint...\n"
     ]
    },
    {
     "name": "stderr",
     "output_type": "stream",
     "text": [
      "Epoch [163/299]: 100%|██████████| 69/69 [00:30<00:00,  2.25it/s, disc_loss=0.398, gen_loss=12.4]\n"
     ]
    },
    {
     "name": "stdout",
     "output_type": "stream",
     "text": [
      "=>Saving Checkpoint...\n",
      "=>Saving Checkpoint...\n"
     ]
    },
    {
     "name": "stderr",
     "output_type": "stream",
     "text": [
      "Epoch [164/299]: 100%|██████████| 69/69 [00:30<00:00,  2.26it/s, disc_loss=0.139, gen_loss=11.6]\n"
     ]
    },
    {
     "name": "stdout",
     "output_type": "stream",
     "text": [
      "=>Saving Checkpoint...\n",
      "=>Saving Checkpoint...\n"
     ]
    },
    {
     "name": "stderr",
     "output_type": "stream",
     "text": [
      "Epoch [165/299]: 100%|██████████| 69/69 [00:30<00:00,  2.26it/s, disc_loss=0.049, gen_loss=11.3]\n"
     ]
    },
    {
     "name": "stdout",
     "output_type": "stream",
     "text": [
      "=>Saving Checkpoint...\n",
      "=>Saving Checkpoint...\n"
     ]
    },
    {
     "name": "stderr",
     "output_type": "stream",
     "text": [
      "Epoch [166/299]: 100%|██████████| 69/69 [00:30<00:00,  2.26it/s, disc_loss=0.0858, gen_loss=12.3]\n"
     ]
    },
    {
     "name": "stdout",
     "output_type": "stream",
     "text": [
      "=>Saving Checkpoint...\n",
      "=>Saving Checkpoint...\n"
     ]
    },
    {
     "name": "stderr",
     "output_type": "stream",
     "text": [
      "Epoch [167/299]: 100%|██████████| 69/69 [00:30<00:00,  2.26it/s, disc_loss=0.289, gen_loss=11.3]\n"
     ]
    },
    {
     "name": "stdout",
     "output_type": "stream",
     "text": [
      "=>Saving Checkpoint...\n",
      "=>Saving Checkpoint...\n"
     ]
    },
    {
     "name": "stderr",
     "output_type": "stream",
     "text": [
      "Epoch [168/299]: 100%|██████████| 69/69 [00:30<00:00,  2.27it/s, disc_loss=0.0585, gen_loss=10.5]\n"
     ]
    },
    {
     "name": "stdout",
     "output_type": "stream",
     "text": [
      "=>Saving Checkpoint...\n",
      "=>Saving Checkpoint...\n"
     ]
    },
    {
     "name": "stderr",
     "output_type": "stream",
     "text": [
      "Epoch [169/299]: 100%|██████████| 69/69 [00:30<00:00,  2.30it/s, disc_loss=0.648, gen_loss=7.79]\n"
     ]
    },
    {
     "name": "stdout",
     "output_type": "stream",
     "text": [
      "=>Saving Checkpoint...\n",
      "=>Saving Checkpoint...\n"
     ]
    },
    {
     "name": "stderr",
     "output_type": "stream",
     "text": [
      "Epoch [170/299]: 100%|██████████| 69/69 [00:30<00:00,  2.28it/s, disc_loss=0.0296, gen_loss=11]\n"
     ]
    },
    {
     "name": "stdout",
     "output_type": "stream",
     "text": [
      "=>Saving Checkpoint...\n",
      "=>Saving Checkpoint...\n"
     ]
    },
    {
     "name": "stderr",
     "output_type": "stream",
     "text": [
      "Epoch [171/299]: 100%|██████████| 69/69 [00:30<00:00,  2.27it/s, disc_loss=0.00427, gen_loss=11.9]\n"
     ]
    },
    {
     "name": "stdout",
     "output_type": "stream",
     "text": [
      "=>Saving Checkpoint...\n",
      "=>Saving Checkpoint...\n"
     ]
    },
    {
     "name": "stderr",
     "output_type": "stream",
     "text": [
      "Epoch [172/299]: 100%|██████████| 69/69 [00:30<00:00,  2.26it/s, disc_loss=0.0563, gen_loss=9.15]\n"
     ]
    },
    {
     "name": "stdout",
     "output_type": "stream",
     "text": [
      "=>Saving Checkpoint...\n",
      "=>Saving Checkpoint...\n"
     ]
    },
    {
     "name": "stderr",
     "output_type": "stream",
     "text": [
      "Epoch [173/299]: 100%|██████████| 69/69 [00:30<00:00,  2.24it/s, disc_loss=0.999, gen_loss=8.55]\n"
     ]
    },
    {
     "name": "stdout",
     "output_type": "stream",
     "text": [
      "=>Saving Checkpoint...\n",
      "=>Saving Checkpoint...\n"
     ]
    },
    {
     "name": "stderr",
     "output_type": "stream",
     "text": [
      "Epoch [174/299]: 100%|██████████| 69/69 [00:30<00:00,  2.25it/s, disc_loss=0.000982, gen_loss=15.8]\n"
     ]
    },
    {
     "name": "stdout",
     "output_type": "stream",
     "text": [
      "=>Saving Checkpoint...\n",
      "=>Saving Checkpoint...\n"
     ]
    },
    {
     "name": "stderr",
     "output_type": "stream",
     "text": [
      "Epoch [175/299]: 100%|██████████| 69/69 [00:30<00:00,  2.25it/s, disc_loss=0.00499, gen_loss=15.7]\n"
     ]
    },
    {
     "name": "stdout",
     "output_type": "stream",
     "text": [
      "=>Saving Checkpoint...\n",
      "=>Saving Checkpoint...\n"
     ]
    },
    {
     "name": "stderr",
     "output_type": "stream",
     "text": [
      "Epoch [176/299]: 100%|██████████| 69/69 [00:30<00:00,  2.26it/s, disc_loss=2.89, gen_loss=10.2]\n"
     ]
    },
    {
     "name": "stdout",
     "output_type": "stream",
     "text": [
      "=>Saving Checkpoint...\n",
      "=>Saving Checkpoint...\n"
     ]
    },
    {
     "name": "stderr",
     "output_type": "stream",
     "text": [
      "Epoch [177/299]: 100%|██████████| 69/69 [00:30<00:00,  2.24it/s, disc_loss=0.492, gen_loss=12.4]\n"
     ]
    },
    {
     "name": "stdout",
     "output_type": "stream",
     "text": [
      "=>Saving Checkpoint...\n",
      "=>Saving Checkpoint...\n"
     ]
    },
    {
     "name": "stderr",
     "output_type": "stream",
     "text": [
      "Epoch [178/299]: 100%|██████████| 69/69 [00:30<00:00,  2.26it/s, disc_loss=0.0711, gen_loss=15.3]\n"
     ]
    },
    {
     "name": "stdout",
     "output_type": "stream",
     "text": [
      "=>Saving Checkpoint...\n",
      "=>Saving Checkpoint...\n"
     ]
    },
    {
     "name": "stderr",
     "output_type": "stream",
     "text": [
      "Epoch [179/299]: 100%|██████████| 69/69 [00:30<00:00,  2.25it/s, disc_loss=0.0238, gen_loss=9.69]\n"
     ]
    },
    {
     "name": "stdout",
     "output_type": "stream",
     "text": [
      "=>Saving Checkpoint...\n",
      "=>Saving Checkpoint...\n"
     ]
    },
    {
     "name": "stderr",
     "output_type": "stream",
     "text": [
      "Epoch [180/299]: 100%|██████████| 69/69 [00:30<00:00,  2.28it/s, disc_loss=0.287, gen_loss=9.77]\n"
     ]
    },
    {
     "name": "stdout",
     "output_type": "stream",
     "text": [
      "=>Saving Checkpoint...\n",
      "=>Saving Checkpoint...\n"
     ]
    },
    {
     "name": "stderr",
     "output_type": "stream",
     "text": [
      "Epoch [181/299]: 100%|██████████| 69/69 [00:30<00:00,  2.29it/s, disc_loss=0.105, gen_loss=9.42]\n"
     ]
    },
    {
     "name": "stdout",
     "output_type": "stream",
     "text": [
      "=>Saving Checkpoint...\n",
      "=>Saving Checkpoint...\n"
     ]
    },
    {
     "name": "stderr",
     "output_type": "stream",
     "text": [
      "Epoch [182/299]: 100%|██████████| 69/69 [00:30<00:00,  2.28it/s, disc_loss=0.345, gen_loss=9.38]\n"
     ]
    },
    {
     "name": "stdout",
     "output_type": "stream",
     "text": [
      "=>Saving Checkpoint...\n",
      "=>Saving Checkpoint...\n"
     ]
    },
    {
     "name": "stderr",
     "output_type": "stream",
     "text": [
      "Epoch [183/299]: 100%|██████████| 69/69 [00:30<00:00,  2.29it/s, disc_loss=0.359, gen_loss=13.8]\n"
     ]
    },
    {
     "name": "stdout",
     "output_type": "stream",
     "text": [
      "=>Saving Checkpoint...\n",
      "=>Saving Checkpoint...\n"
     ]
    },
    {
     "name": "stderr",
     "output_type": "stream",
     "text": [
      "Epoch [184/299]: 100%|██████████| 69/69 [00:30<00:00,  2.24it/s, disc_loss=0.0926, gen_loss=10.3]\n"
     ]
    },
    {
     "name": "stdout",
     "output_type": "stream",
     "text": [
      "=>Saving Checkpoint...\n",
      "=>Saving Checkpoint...\n"
     ]
    },
    {
     "name": "stderr",
     "output_type": "stream",
     "text": [
      "Epoch [185/299]: 100%|██████████| 69/69 [00:30<00:00,  2.25it/s, disc_loss=0.38, gen_loss=11]\n"
     ]
    },
    {
     "name": "stdout",
     "output_type": "stream",
     "text": [
      "=>Saving Checkpoint...\n",
      "=>Saving Checkpoint...\n"
     ]
    },
    {
     "name": "stderr",
     "output_type": "stream",
     "text": [
      "Epoch [186/299]: 100%|██████████| 69/69 [00:30<00:00,  2.25it/s, disc_loss=0.0987, gen_loss=10]\n"
     ]
    },
    {
     "name": "stdout",
     "output_type": "stream",
     "text": [
      "=>Saving Checkpoint...\n",
      "=>Saving Checkpoint...\n"
     ]
    },
    {
     "name": "stderr",
     "output_type": "stream",
     "text": [
      "Epoch [187/299]: 100%|██████████| 69/69 [00:30<00:00,  2.25it/s, disc_loss=0.327, gen_loss=7.3]\n"
     ]
    },
    {
     "name": "stdout",
     "output_type": "stream",
     "text": [
      "=>Saving Checkpoint...\n",
      "=>Saving Checkpoint...\n"
     ]
    },
    {
     "name": "stderr",
     "output_type": "stream",
     "text": [
      "Epoch [188/299]: 100%|██████████| 69/69 [00:30<00:00,  2.26it/s, disc_loss=0.0147, gen_loss=10.9]\n"
     ]
    },
    {
     "name": "stdout",
     "output_type": "stream",
     "text": [
      "=>Saving Checkpoint...\n",
      "=>Saving Checkpoint...\n"
     ]
    },
    {
     "name": "stderr",
     "output_type": "stream",
     "text": [
      "Epoch [189/299]: 100%|██████████| 69/69 [00:30<00:00,  2.26it/s, disc_loss=0.0964, gen_loss=10.5]\n"
     ]
    },
    {
     "name": "stdout",
     "output_type": "stream",
     "text": [
      "=>Saving Checkpoint...\n",
      "=>Saving Checkpoint...\n"
     ]
    },
    {
     "name": "stderr",
     "output_type": "stream",
     "text": [
      "Epoch [190/299]: 100%|██████████| 69/69 [00:30<00:00,  2.26it/s, disc_loss=1.25, gen_loss=5.83]\n"
     ]
    },
    {
     "name": "stdout",
     "output_type": "stream",
     "text": [
      "=>Saving Checkpoint...\n",
      "=>Saving Checkpoint...\n"
     ]
    },
    {
     "name": "stderr",
     "output_type": "stream",
     "text": [
      "Epoch [191/299]: 100%|██████████| 69/69 [00:30<00:00,  2.27it/s, disc_loss=0.132, gen_loss=10.5]\n"
     ]
    },
    {
     "name": "stdout",
     "output_type": "stream",
     "text": [
      "=>Saving Checkpoint...\n",
      "=>Saving Checkpoint...\n"
     ]
    },
    {
     "name": "stderr",
     "output_type": "stream",
     "text": [
      "Epoch [192/299]: 100%|██████████| 69/69 [00:30<00:00,  2.28it/s, disc_loss=0.158, gen_loss=9.25]\n"
     ]
    },
    {
     "name": "stdout",
     "output_type": "stream",
     "text": [
      "=>Saving Checkpoint...\n",
      "=>Saving Checkpoint...\n"
     ]
    },
    {
     "name": "stderr",
     "output_type": "stream",
     "text": [
      "Epoch [193/299]: 100%|██████████| 69/69 [00:30<00:00,  2.29it/s, disc_loss=0.0329, gen_loss=10.3]\n"
     ]
    },
    {
     "name": "stdout",
     "output_type": "stream",
     "text": [
      "=>Saving Checkpoint...\n",
      "=>Saving Checkpoint...\n"
     ]
    },
    {
     "name": "stderr",
     "output_type": "stream",
     "text": [
      "Epoch [194/299]: 100%|██████████| 69/69 [00:30<00:00,  2.30it/s, disc_loss=0.0362, gen_loss=10.7]\n"
     ]
    },
    {
     "name": "stdout",
     "output_type": "stream",
     "text": [
      "=>Saving Checkpoint...\n",
      "=>Saving Checkpoint...\n"
     ]
    },
    {
     "name": "stderr",
     "output_type": "stream",
     "text": [
      "Epoch [195/299]: 100%|██████████| 69/69 [00:30<00:00,  2.26it/s, disc_loss=0.332, gen_loss=14.3]\n"
     ]
    },
    {
     "name": "stdout",
     "output_type": "stream",
     "text": [
      "=>Saving Checkpoint...\n",
      "=>Saving Checkpoint...\n"
     ]
    },
    {
     "name": "stderr",
     "output_type": "stream",
     "text": [
      "Epoch [196/299]: 100%|██████████| 69/69 [00:30<00:00,  2.26it/s, disc_loss=0.443, gen_loss=10.1]\n"
     ]
    },
    {
     "name": "stdout",
     "output_type": "stream",
     "text": [
      "=>Saving Checkpoint...\n",
      "=>Saving Checkpoint...\n"
     ]
    },
    {
     "name": "stderr",
     "output_type": "stream",
     "text": [
      "Epoch [197/299]: 100%|██████████| 69/69 [00:30<00:00,  2.28it/s, disc_loss=0.0369, gen_loss=12.3]\n"
     ]
    },
    {
     "name": "stdout",
     "output_type": "stream",
     "text": [
      "=>Saving Checkpoint...\n",
      "=>Saving Checkpoint...\n"
     ]
    },
    {
     "name": "stderr",
     "output_type": "stream",
     "text": [
      "Epoch [198/299]: 100%|██████████| 69/69 [00:30<00:00,  2.26it/s, disc_loss=0.218, gen_loss=10.3]\n"
     ]
    },
    {
     "name": "stdout",
     "output_type": "stream",
     "text": [
      "=>Saving Checkpoint...\n",
      "=>Saving Checkpoint...\n"
     ]
    },
    {
     "name": "stderr",
     "output_type": "stream",
     "text": [
      "Epoch [199/299]: 100%|██████████| 69/69 [00:30<00:00,  2.27it/s, disc_loss=0.0764, gen_loss=10.1]\n"
     ]
    },
    {
     "name": "stdout",
     "output_type": "stream",
     "text": [
      "=>Saving Checkpoint...\n",
      "=>Saving Checkpoint...\n"
     ]
    },
    {
     "name": "stderr",
     "output_type": "stream",
     "text": [
      "Epoch [200/299]: 100%|██████████| 69/69 [00:30<00:00,  2.27it/s, disc_loss=0.107, gen_loss=12.3]\n"
     ]
    },
    {
     "name": "stdout",
     "output_type": "stream",
     "text": [
      "=>Saving Checkpoint...\n",
      "=>Saving Checkpoint...\n"
     ]
    },
    {
     "name": "stderr",
     "output_type": "stream",
     "text": [
      "Epoch [201/299]: 100%|██████████| 69/69 [00:30<00:00,  2.28it/s, disc_loss=0.247, gen_loss=8.98]\n"
     ]
    },
    {
     "name": "stdout",
     "output_type": "stream",
     "text": [
      "=>Saving Checkpoint...\n",
      "=>Saving Checkpoint...\n"
     ]
    },
    {
     "name": "stderr",
     "output_type": "stream",
     "text": [
      "Epoch [202/299]: 100%|██████████| 69/69 [00:29<00:00,  2.31it/s, disc_loss=0.115, gen_loss=10.1]\n"
     ]
    },
    {
     "name": "stdout",
     "output_type": "stream",
     "text": [
      "=>Saving Checkpoint...\n",
      "=>Saving Checkpoint...\n"
     ]
    },
    {
     "name": "stderr",
     "output_type": "stream",
     "text": [
      "Epoch [203/299]: 100%|██████████| 69/69 [00:30<00:00,  2.26it/s, disc_loss=0.324, gen_loss=8.43]\n"
     ]
    },
    {
     "name": "stdout",
     "output_type": "stream",
     "text": [
      "=>Saving Checkpoint...\n",
      "=>Saving Checkpoint...\n"
     ]
    },
    {
     "name": "stderr",
     "output_type": "stream",
     "text": [
      "Epoch [204/299]: 100%|██████████| 69/69 [00:30<00:00,  2.27it/s, disc_loss=0.0043, gen_loss=12.3]\n"
     ]
    },
    {
     "name": "stdout",
     "output_type": "stream",
     "text": [
      "=>Saving Checkpoint...\n",
      "=>Saving Checkpoint...\n"
     ]
    },
    {
     "name": "stderr",
     "output_type": "stream",
     "text": [
      "Epoch [205/299]: 100%|██████████| 69/69 [00:30<00:00,  2.26it/s, disc_loss=0.355, gen_loss=9.06]\n"
     ]
    },
    {
     "name": "stdout",
     "output_type": "stream",
     "text": [
      "=>Saving Checkpoint...\n",
      "=>Saving Checkpoint...\n"
     ]
    },
    {
     "name": "stderr",
     "output_type": "stream",
     "text": [
      "Epoch [206/299]: 100%|██████████| 69/69 [00:30<00:00,  2.24it/s, disc_loss=0.0647, gen_loss=9.7]\n"
     ]
    },
    {
     "name": "stdout",
     "output_type": "stream",
     "text": [
      "=>Saving Checkpoint...\n",
      "=>Saving Checkpoint...\n"
     ]
    },
    {
     "name": "stderr",
     "output_type": "stream",
     "text": [
      "Epoch [207/299]: 100%|██████████| 69/69 [00:30<00:00,  2.26it/s, disc_loss=0.00994, gen_loss=21.7]\n"
     ]
    },
    {
     "name": "stdout",
     "output_type": "stream",
     "text": [
      "=>Saving Checkpoint...\n",
      "=>Saving Checkpoint...\n"
     ]
    },
    {
     "name": "stderr",
     "output_type": "stream",
     "text": [
      "Epoch [208/299]: 100%|██████████| 69/69 [00:30<00:00,  2.26it/s, disc_loss=0.0321, gen_loss=10.8]\n"
     ]
    },
    {
     "name": "stdout",
     "output_type": "stream",
     "text": [
      "=>Saving Checkpoint...\n",
      "=>Saving Checkpoint...\n"
     ]
    },
    {
     "name": "stderr",
     "output_type": "stream",
     "text": [
      "Epoch [209/299]: 100%|██████████| 69/69 [00:30<00:00,  2.24it/s, disc_loss=0.121, gen_loss=9.59]\n"
     ]
    },
    {
     "name": "stdout",
     "output_type": "stream",
     "text": [
      "=>Saving Checkpoint...\n",
      "=>Saving Checkpoint...\n"
     ]
    },
    {
     "name": "stderr",
     "output_type": "stream",
     "text": [
      "Epoch [210/299]: 100%|██████████| 69/69 [00:30<00:00,  2.25it/s, disc_loss=0.509, gen_loss=7.95]\n"
     ]
    },
    {
     "name": "stdout",
     "output_type": "stream",
     "text": [
      "=>Saving Checkpoint...\n",
      "=>Saving Checkpoint...\n"
     ]
    },
    {
     "name": "stderr",
     "output_type": "stream",
     "text": [
      "Epoch [211/299]: 100%|██████████| 69/69 [00:30<00:00,  2.24it/s, disc_loss=0.13, gen_loss=9.46]\n"
     ]
    },
    {
     "name": "stdout",
     "output_type": "stream",
     "text": [
      "=>Saving Checkpoint...\n",
      "=>Saving Checkpoint...\n"
     ]
    },
    {
     "name": "stderr",
     "output_type": "stream",
     "text": [
      "Epoch [212/299]: 100%|██████████| 69/69 [00:30<00:00,  2.24it/s, disc_loss=0.107, gen_loss=12.1]\n"
     ]
    },
    {
     "name": "stdout",
     "output_type": "stream",
     "text": [
      "=>Saving Checkpoint...\n",
      "=>Saving Checkpoint...\n"
     ]
    },
    {
     "name": "stderr",
     "output_type": "stream",
     "text": [
      "Epoch [213/299]: 100%|██████████| 69/69 [00:30<00:00,  2.25it/s, disc_loss=0.0852, gen_loss=10.3]\n"
     ]
    },
    {
     "name": "stdout",
     "output_type": "stream",
     "text": [
      "=>Saving Checkpoint...\n",
      "=>Saving Checkpoint...\n"
     ]
    },
    {
     "name": "stderr",
     "output_type": "stream",
     "text": [
      "Epoch [214/299]: 100%|██████████| 69/69 [00:30<00:00,  2.25it/s, disc_loss=0.461, gen_loss=11.6]\n"
     ]
    },
    {
     "name": "stdout",
     "output_type": "stream",
     "text": [
      "=>Saving Checkpoint...\n",
      "=>Saving Checkpoint...\n"
     ]
    },
    {
     "name": "stderr",
     "output_type": "stream",
     "text": [
      "Epoch [215/299]: 100%|██████████| 69/69 [00:30<00:00,  2.28it/s, disc_loss=0.0696, gen_loss=12.2]\n"
     ]
    },
    {
     "name": "stdout",
     "output_type": "stream",
     "text": [
      "=>Saving Checkpoint...\n",
      "=>Saving Checkpoint...\n"
     ]
    },
    {
     "name": "stderr",
     "output_type": "stream",
     "text": [
      "Epoch [216/299]: 100%|██████████| 69/69 [00:30<00:00,  2.27it/s, disc_loss=0.0594, gen_loss=11.2]\n"
     ]
    },
    {
     "name": "stdout",
     "output_type": "stream",
     "text": [
      "=>Saving Checkpoint...\n",
      "=>Saving Checkpoint...\n"
     ]
    },
    {
     "name": "stderr",
     "output_type": "stream",
     "text": [
      "Epoch [217/299]: 100%|██████████| 69/69 [00:30<00:00,  2.26it/s, disc_loss=0.00401, gen_loss=13.9]\n"
     ]
    },
    {
     "name": "stdout",
     "output_type": "stream",
     "text": [
      "=>Saving Checkpoint...\n",
      "=>Saving Checkpoint...\n"
     ]
    },
    {
     "name": "stderr",
     "output_type": "stream",
     "text": [
      "Epoch [218/299]: 100%|██████████| 69/69 [00:30<00:00,  2.26it/s, disc_loss=3.84, gen_loss=9.74]\n"
     ]
    },
    {
     "name": "stdout",
     "output_type": "stream",
     "text": [
      "=>Saving Checkpoint...\n",
      "=>Saving Checkpoint...\n"
     ]
    },
    {
     "name": "stderr",
     "output_type": "stream",
     "text": [
      "Epoch [219/299]: 100%|██████████| 69/69 [00:30<00:00,  2.25it/s, disc_loss=0.334, gen_loss=7.39]\n"
     ]
    },
    {
     "name": "stdout",
     "output_type": "stream",
     "text": [
      "=>Saving Checkpoint...\n",
      "=>Saving Checkpoint...\n"
     ]
    },
    {
     "name": "stderr",
     "output_type": "stream",
     "text": [
      "Epoch [220/299]: 100%|██████████| 69/69 [00:30<00:00,  2.25it/s, disc_loss=0.183, gen_loss=9.53]\n"
     ]
    },
    {
     "name": "stdout",
     "output_type": "stream",
     "text": [
      "=>Saving Checkpoint...\n",
      "=>Saving Checkpoint...\n"
     ]
    },
    {
     "name": "stderr",
     "output_type": "stream",
     "text": [
      "Epoch [221/299]: 100%|██████████| 69/69 [00:30<00:00,  2.24it/s, disc_loss=0.137, gen_loss=10.1]\n"
     ]
    },
    {
     "name": "stdout",
     "output_type": "stream",
     "text": [
      "=>Saving Checkpoint...\n",
      "=>Saving Checkpoint...\n"
     ]
    },
    {
     "name": "stderr",
     "output_type": "stream",
     "text": [
      "Epoch [222/299]: 100%|██████████| 69/69 [00:30<00:00,  2.24it/s, disc_loss=0.72, gen_loss=8.61]\n"
     ]
    },
    {
     "name": "stdout",
     "output_type": "stream",
     "text": [
      "=>Saving Checkpoint...\n",
      "=>Saving Checkpoint...\n"
     ]
    },
    {
     "name": "stderr",
     "output_type": "stream",
     "text": [
      "Epoch [223/299]: 100%|██████████| 69/69 [00:30<00:00,  2.26it/s, disc_loss=0.0395, gen_loss=9.32]\n"
     ]
    },
    {
     "name": "stdout",
     "output_type": "stream",
     "text": [
      "=>Saving Checkpoint...\n",
      "=>Saving Checkpoint...\n"
     ]
    },
    {
     "name": "stderr",
     "output_type": "stream",
     "text": [
      "Epoch [224/299]: 100%|██████████| 69/69 [00:30<00:00,  2.26it/s, disc_loss=0.0927, gen_loss=10.9]\n"
     ]
    },
    {
     "name": "stdout",
     "output_type": "stream",
     "text": [
      "=>Saving Checkpoint...\n",
      "=>Saving Checkpoint...\n"
     ]
    },
    {
     "name": "stderr",
     "output_type": "stream",
     "text": [
      "Epoch [225/299]: 100%|██████████| 69/69 [00:30<00:00,  2.28it/s, disc_loss=0.0327, gen_loss=10.1]\n"
     ]
    },
    {
     "name": "stdout",
     "output_type": "stream",
     "text": [
      "=>Saving Checkpoint...\n",
      "=>Saving Checkpoint...\n"
     ]
    },
    {
     "name": "stderr",
     "output_type": "stream",
     "text": [
      "Epoch [226/299]: 100%|██████████| 69/69 [00:30<00:00,  2.29it/s, disc_loss=0.0905, gen_loss=16.2]\n"
     ]
    },
    {
     "name": "stdout",
     "output_type": "stream",
     "text": [
      "=>Saving Checkpoint...\n",
      "=>Saving Checkpoint...\n"
     ]
    },
    {
     "name": "stderr",
     "output_type": "stream",
     "text": [
      "Epoch [227/299]: 100%|██████████| 69/69 [00:30<00:00,  2.29it/s, disc_loss=0.313, gen_loss=7.33]\n"
     ]
    },
    {
     "name": "stdout",
     "output_type": "stream",
     "text": [
      "=>Saving Checkpoint...\n",
      "=>Saving Checkpoint...\n"
     ]
    },
    {
     "name": "stderr",
     "output_type": "stream",
     "text": [
      "Epoch [228/299]: 100%|██████████| 69/69 [00:30<00:00,  2.30it/s, disc_loss=0.214, gen_loss=8.84]\n"
     ]
    },
    {
     "name": "stdout",
     "output_type": "stream",
     "text": [
      "=>Saving Checkpoint...\n",
      "=>Saving Checkpoint...\n"
     ]
    },
    {
     "name": "stderr",
     "output_type": "stream",
     "text": [
      "Epoch [229/299]: 100%|██████████| 69/69 [00:30<00:00,  2.29it/s, disc_loss=0.165, gen_loss=10.9]\n"
     ]
    },
    {
     "name": "stdout",
     "output_type": "stream",
     "text": [
      "=>Saving Checkpoint...\n",
      "=>Saving Checkpoint...\n"
     ]
    },
    {
     "name": "stderr",
     "output_type": "stream",
     "text": [
      "Epoch [230/299]: 100%|██████████| 69/69 [00:30<00:00,  2.28it/s, disc_loss=0.586, gen_loss=10.7]\n"
     ]
    },
    {
     "name": "stdout",
     "output_type": "stream",
     "text": [
      "=>Saving Checkpoint...\n",
      "=>Saving Checkpoint...\n"
     ]
    },
    {
     "name": "stderr",
     "output_type": "stream",
     "text": [
      "Epoch [231/299]: 100%|██████████| 69/69 [00:30<00:00,  2.27it/s, disc_loss=0.0383, gen_loss=10.7]\n"
     ]
    },
    {
     "name": "stdout",
     "output_type": "stream",
     "text": [
      "=>Saving Checkpoint...\n",
      "=>Saving Checkpoint...\n"
     ]
    },
    {
     "name": "stderr",
     "output_type": "stream",
     "text": [
      "Epoch [232/299]: 100%|██████████| 69/69 [00:30<00:00,  2.26it/s, disc_loss=0.279, gen_loss=11]\n"
     ]
    },
    {
     "name": "stdout",
     "output_type": "stream",
     "text": [
      "=>Saving Checkpoint...\n",
      "=>Saving Checkpoint...\n"
     ]
    },
    {
     "name": "stderr",
     "output_type": "stream",
     "text": [
      "Epoch [233/299]: 100%|██████████| 69/69 [00:30<00:00,  2.25it/s, disc_loss=0.291, gen_loss=7.72]\n"
     ]
    },
    {
     "name": "stdout",
     "output_type": "stream",
     "text": [
      "=>Saving Checkpoint...\n",
      "=>Saving Checkpoint...\n"
     ]
    },
    {
     "name": "stderr",
     "output_type": "stream",
     "text": [
      "Epoch [234/299]: 100%|██████████| 69/69 [00:30<00:00,  2.26it/s, disc_loss=0.0669, gen_loss=10.7]\n"
     ]
    },
    {
     "name": "stdout",
     "output_type": "stream",
     "text": [
      "=>Saving Checkpoint...\n",
      "=>Saving Checkpoint...\n"
     ]
    },
    {
     "name": "stderr",
     "output_type": "stream",
     "text": [
      "Epoch [235/299]: 100%|██████████| 69/69 [00:30<00:00,  2.26it/s, disc_loss=0.204, gen_loss=10.6]\n"
     ]
    },
    {
     "name": "stdout",
     "output_type": "stream",
     "text": [
      "=>Saving Checkpoint...\n",
      "=>Saving Checkpoint...\n"
     ]
    },
    {
     "name": "stderr",
     "output_type": "stream",
     "text": [
      "Epoch [236/299]: 100%|██████████| 69/69 [00:30<00:00,  2.28it/s, disc_loss=0.0824, gen_loss=8.72]\n"
     ]
    },
    {
     "name": "stdout",
     "output_type": "stream",
     "text": [
      "=>Saving Checkpoint...\n",
      "=>Saving Checkpoint...\n"
     ]
    },
    {
     "name": "stderr",
     "output_type": "stream",
     "text": [
      "Epoch [237/299]: 100%|██████████| 69/69 [00:30<00:00,  2.28it/s, disc_loss=1.14, gen_loss=11]\n"
     ]
    },
    {
     "name": "stdout",
     "output_type": "stream",
     "text": [
      "=>Saving Checkpoint...\n",
      "=>Saving Checkpoint...\n"
     ]
    },
    {
     "name": "stderr",
     "output_type": "stream",
     "text": [
      "Epoch [238/299]: 100%|██████████| 69/69 [00:30<00:00,  2.28it/s, disc_loss=0.197, gen_loss=8.92]\n"
     ]
    },
    {
     "name": "stdout",
     "output_type": "stream",
     "text": [
      "=>Saving Checkpoint...\n",
      "=>Saving Checkpoint...\n"
     ]
    },
    {
     "name": "stderr",
     "output_type": "stream",
     "text": [
      "Epoch [239/299]: 100%|██████████| 69/69 [00:30<00:00,  2.29it/s, disc_loss=0.262, gen_loss=8.59]\n"
     ]
    },
    {
     "name": "stdout",
     "output_type": "stream",
     "text": [
      "=>Saving Checkpoint...\n",
      "=>Saving Checkpoint...\n"
     ]
    },
    {
     "name": "stderr",
     "output_type": "stream",
     "text": [
      "Epoch [240/299]: 100%|██████████| 69/69 [00:30<00:00,  2.27it/s, disc_loss=0.124, gen_loss=10.1]\n"
     ]
    },
    {
     "name": "stdout",
     "output_type": "stream",
     "text": [
      "=>Saving Checkpoint...\n",
      "=>Saving Checkpoint...\n"
     ]
    },
    {
     "name": "stderr",
     "output_type": "stream",
     "text": [
      "Epoch [241/299]: 100%|██████████| 69/69 [00:30<00:00,  2.24it/s, disc_loss=0.106, gen_loss=10.4]\n"
     ]
    },
    {
     "name": "stdout",
     "output_type": "stream",
     "text": [
      "=>Saving Checkpoint...\n",
      "=>Saving Checkpoint...\n"
     ]
    },
    {
     "name": "stderr",
     "output_type": "stream",
     "text": [
      "Epoch [242/299]: 100%|██████████| 69/69 [00:30<00:00,  2.25it/s, disc_loss=0.551, gen_loss=7.36]\n"
     ]
    },
    {
     "name": "stdout",
     "output_type": "stream",
     "text": [
      "=>Saving Checkpoint...\n",
      "=>Saving Checkpoint...\n"
     ]
    },
    {
     "name": "stderr",
     "output_type": "stream",
     "text": [
      "Epoch [243/299]: 100%|██████████| 69/69 [00:30<00:00,  2.25it/s, disc_loss=0.0311, gen_loss=11.3]\n"
     ]
    },
    {
     "name": "stdout",
     "output_type": "stream",
     "text": [
      "=>Saving Checkpoint...\n",
      "=>Saving Checkpoint...\n"
     ]
    },
    {
     "name": "stderr",
     "output_type": "stream",
     "text": [
      "Epoch [244/299]: 100%|██████████| 69/69 [00:30<00:00,  2.25it/s, disc_loss=0.237, gen_loss=7.47]\n"
     ]
    },
    {
     "name": "stdout",
     "output_type": "stream",
     "text": [
      "=>Saving Checkpoint...\n",
      "=>Saving Checkpoint...\n"
     ]
    },
    {
     "name": "stderr",
     "output_type": "stream",
     "text": [
      "Epoch [245/299]: 100%|██████████| 69/69 [00:30<00:00,  2.26it/s, disc_loss=0.0393, gen_loss=12.7]\n"
     ]
    },
    {
     "name": "stdout",
     "output_type": "stream",
     "text": [
      "=>Saving Checkpoint...\n",
      "=>Saving Checkpoint...\n"
     ]
    },
    {
     "name": "stderr",
     "output_type": "stream",
     "text": [
      "Epoch [246/299]: 100%|██████████| 69/69 [00:30<00:00,  2.25it/s, disc_loss=0.234, gen_loss=9.96]\n"
     ]
    },
    {
     "name": "stdout",
     "output_type": "stream",
     "text": [
      "=>Saving Checkpoint...\n",
      "=>Saving Checkpoint...\n"
     ]
    },
    {
     "name": "stderr",
     "output_type": "stream",
     "text": [
      "Epoch [247/299]: 100%|██████████| 69/69 [00:30<00:00,  2.27it/s, disc_loss=0.0757, gen_loss=9.43]\n"
     ]
    },
    {
     "name": "stdout",
     "output_type": "stream",
     "text": [
      "=>Saving Checkpoint...\n",
      "=>Saving Checkpoint...\n"
     ]
    },
    {
     "name": "stderr",
     "output_type": "stream",
     "text": [
      "Epoch [248/299]: 100%|██████████| 69/69 [00:30<00:00,  2.29it/s, disc_loss=0.017, gen_loss=14.8]\n"
     ]
    },
    {
     "name": "stdout",
     "output_type": "stream",
     "text": [
      "=>Saving Checkpoint...\n",
      "=>Saving Checkpoint...\n"
     ]
    },
    {
     "name": "stderr",
     "output_type": "stream",
     "text": [
      "Epoch [249/299]: 100%|██████████| 69/69 [00:30<00:00,  2.29it/s, disc_loss=0.53, gen_loss=9.62]\n"
     ]
    },
    {
     "name": "stdout",
     "output_type": "stream",
     "text": [
      "=>Saving Checkpoint...\n",
      "=>Saving Checkpoint...\n"
     ]
    },
    {
     "name": "stderr",
     "output_type": "stream",
     "text": [
      "Epoch [250/299]: 100%|██████████| 69/69 [00:30<00:00,  2.29it/s, disc_loss=0.21, gen_loss=7.76]\n"
     ]
    },
    {
     "name": "stdout",
     "output_type": "stream",
     "text": [
      "=>Saving Checkpoint...\n",
      "=>Saving Checkpoint...\n"
     ]
    },
    {
     "name": "stderr",
     "output_type": "stream",
     "text": [
      "Epoch [251/299]: 100%|██████████| 69/69 [00:30<00:00,  2.25it/s, disc_loss=0.122, gen_loss=9.53]\n"
     ]
    },
    {
     "name": "stdout",
     "output_type": "stream",
     "text": [
      "=>Saving Checkpoint...\n",
      "=>Saving Checkpoint...\n"
     ]
    },
    {
     "name": "stderr",
     "output_type": "stream",
     "text": [
      "Epoch [252/299]: 100%|██████████| 69/69 [00:30<00:00,  2.26it/s, disc_loss=0.0402, gen_loss=11.4]\n"
     ]
    },
    {
     "name": "stdout",
     "output_type": "stream",
     "text": [
      "=>Saving Checkpoint...\n",
      "=>Saving Checkpoint...\n"
     ]
    },
    {
     "name": "stderr",
     "output_type": "stream",
     "text": [
      "Epoch [253/299]: 100%|██████████| 69/69 [00:30<00:00,  2.26it/s, disc_loss=0.208, gen_loss=10.2]\n"
     ]
    },
    {
     "name": "stdout",
     "output_type": "stream",
     "text": [
      "=>Saving Checkpoint...\n",
      "=>Saving Checkpoint...\n"
     ]
    },
    {
     "name": "stderr",
     "output_type": "stream",
     "text": [
      "Epoch [254/299]: 100%|██████████| 69/69 [00:30<00:00,  2.26it/s, disc_loss=0.36, gen_loss=8.17]\n"
     ]
    },
    {
     "name": "stdout",
     "output_type": "stream",
     "text": [
      "=>Saving Checkpoint...\n",
      "=>Saving Checkpoint...\n"
     ]
    },
    {
     "name": "stderr",
     "output_type": "stream",
     "text": [
      "Epoch [255/299]: 100%|██████████| 69/69 [00:30<00:00,  2.26it/s, disc_loss=0.127, gen_loss=8.08]\n"
     ]
    },
    {
     "name": "stdout",
     "output_type": "stream",
     "text": [
      "=>Saving Checkpoint...\n",
      "=>Saving Checkpoint...\n"
     ]
    },
    {
     "name": "stderr",
     "output_type": "stream",
     "text": [
      "Epoch [256/299]: 100%|██████████| 69/69 [00:30<00:00,  2.25it/s, disc_loss=0.143, gen_loss=9.86]\n"
     ]
    },
    {
     "name": "stdout",
     "output_type": "stream",
     "text": [
      "=>Saving Checkpoint...\n",
      "=>Saving Checkpoint...\n"
     ]
    },
    {
     "name": "stderr",
     "output_type": "stream",
     "text": [
      "Epoch [257/299]: 100%|██████████| 69/69 [00:30<00:00,  2.26it/s, disc_loss=0.0262, gen_loss=10.4]\n"
     ]
    },
    {
     "name": "stdout",
     "output_type": "stream",
     "text": [
      "=>Saving Checkpoint...\n",
      "=>Saving Checkpoint...\n"
     ]
    },
    {
     "name": "stderr",
     "output_type": "stream",
     "text": [
      "Epoch [258/299]: 100%|██████████| 69/69 [00:30<00:00,  2.27it/s, disc_loss=0.342, gen_loss=10.7]\n"
     ]
    },
    {
     "name": "stdout",
     "output_type": "stream",
     "text": [
      "=>Saving Checkpoint...\n",
      "=>Saving Checkpoint...\n"
     ]
    },
    {
     "name": "stderr",
     "output_type": "stream",
     "text": [
      "Epoch [259/299]: 100%|██████████| 69/69 [00:30<00:00,  2.29it/s, disc_loss=0.137, gen_loss=8.82]\n"
     ]
    },
    {
     "name": "stdout",
     "output_type": "stream",
     "text": [
      "=>Saving Checkpoint...\n",
      "=>Saving Checkpoint...\n"
     ]
    },
    {
     "name": "stderr",
     "output_type": "stream",
     "text": [
      "Epoch [260/299]: 100%|██████████| 69/69 [00:30<00:00,  2.28it/s, disc_loss=0.123, gen_loss=10.3]\n"
     ]
    },
    {
     "name": "stdout",
     "output_type": "stream",
     "text": [
      "=>Saving Checkpoint...\n",
      "=>Saving Checkpoint...\n"
     ]
    },
    {
     "name": "stderr",
     "output_type": "stream",
     "text": [
      "Epoch [261/299]: 100%|██████████| 69/69 [00:30<00:00,  2.30it/s, disc_loss=0.316, gen_loss=8.43]\n"
     ]
    },
    {
     "name": "stdout",
     "output_type": "stream",
     "text": [
      "=>Saving Checkpoint...\n",
      "=>Saving Checkpoint...\n"
     ]
    },
    {
     "name": "stderr",
     "output_type": "stream",
     "text": [
      "Epoch [262/299]: 100%|██████████| 69/69 [00:30<00:00,  2.25it/s, disc_loss=0.321, gen_loss=10.3]\n"
     ]
    },
    {
     "name": "stdout",
     "output_type": "stream",
     "text": [
      "=>Saving Checkpoint...\n",
      "=>Saving Checkpoint...\n"
     ]
    },
    {
     "name": "stderr",
     "output_type": "stream",
     "text": [
      "Epoch [263/299]: 100%|██████████| 69/69 [00:30<00:00,  2.26it/s, disc_loss=0.119, gen_loss=9.93]\n"
     ]
    },
    {
     "name": "stdout",
     "output_type": "stream",
     "text": [
      "=>Saving Checkpoint...\n",
      "=>Saving Checkpoint...\n"
     ]
    },
    {
     "name": "stderr",
     "output_type": "stream",
     "text": [
      "Epoch [264/299]: 100%|██████████| 69/69 [00:30<00:00,  2.27it/s, disc_loss=0.793, gen_loss=6.51]\n"
     ]
    },
    {
     "name": "stdout",
     "output_type": "stream",
     "text": [
      "=>Saving Checkpoint...\n",
      "=>Saving Checkpoint...\n"
     ]
    },
    {
     "name": "stderr",
     "output_type": "stream",
     "text": [
      "Epoch [265/299]: 100%|██████████| 69/69 [00:30<00:00,  2.26it/s, disc_loss=0.175, gen_loss=6.98]\n"
     ]
    },
    {
     "name": "stdout",
     "output_type": "stream",
     "text": [
      "=>Saving Checkpoint...\n",
      "=>Saving Checkpoint...\n"
     ]
    },
    {
     "name": "stderr",
     "output_type": "stream",
     "text": [
      "Epoch [266/299]: 100%|██████████| 69/69 [00:30<00:00,  2.28it/s, disc_loss=0.113, gen_loss=9.99]\n"
     ]
    },
    {
     "name": "stdout",
     "output_type": "stream",
     "text": [
      "=>Saving Checkpoint...\n",
      "=>Saving Checkpoint...\n"
     ]
    },
    {
     "name": "stderr",
     "output_type": "stream",
     "text": [
      "Epoch [267/299]: 100%|██████████| 69/69 [00:30<00:00,  2.28it/s, disc_loss=0.0823, gen_loss=10.1]\n"
     ]
    },
    {
     "name": "stdout",
     "output_type": "stream",
     "text": [
      "=>Saving Checkpoint...\n",
      "=>Saving Checkpoint...\n"
     ]
    },
    {
     "name": "stderr",
     "output_type": "stream",
     "text": [
      "Epoch [268/299]: 100%|██████████| 69/69 [00:30<00:00,  2.26it/s, disc_loss=0.392, gen_loss=6.64]\n"
     ]
    },
    {
     "name": "stdout",
     "output_type": "stream",
     "text": [
      "=>Saving Checkpoint...\n",
      "=>Saving Checkpoint...\n"
     ]
    },
    {
     "name": "stderr",
     "output_type": "stream",
     "text": [
      "Epoch [269/299]: 100%|██████████| 69/69 [00:30<00:00,  2.29it/s, disc_loss=0.554, gen_loss=10.2]\n"
     ]
    },
    {
     "name": "stdout",
     "output_type": "stream",
     "text": [
      "=>Saving Checkpoint...\n",
      "=>Saving Checkpoint...\n"
     ]
    },
    {
     "name": "stderr",
     "output_type": "stream",
     "text": [
      "Epoch [270/299]: 100%|██████████| 69/69 [00:29<00:00,  2.31it/s, disc_loss=0.0997, gen_loss=9.26]\n"
     ]
    },
    {
     "name": "stdout",
     "output_type": "stream",
     "text": [
      "=>Saving Checkpoint...\n",
      "=>Saving Checkpoint...\n"
     ]
    },
    {
     "name": "stderr",
     "output_type": "stream",
     "text": [
      "Epoch [271/299]: 100%|██████████| 69/69 [00:29<00:00,  2.30it/s, disc_loss=0.565, gen_loss=7.61]\n"
     ]
    },
    {
     "name": "stdout",
     "output_type": "stream",
     "text": [
      "=>Saving Checkpoint...\n",
      "=>Saving Checkpoint...\n"
     ]
    },
    {
     "name": "stderr",
     "output_type": "stream",
     "text": [
      "Epoch [272/299]: 100%|██████████| 69/69 [00:30<00:00,  2.28it/s, disc_loss=0.251, gen_loss=10.2]\n"
     ]
    },
    {
     "name": "stdout",
     "output_type": "stream",
     "text": [
      "=>Saving Checkpoint...\n",
      "=>Saving Checkpoint...\n"
     ]
    },
    {
     "name": "stderr",
     "output_type": "stream",
     "text": [
      "Epoch [273/299]: 100%|██████████| 69/69 [00:30<00:00,  2.27it/s, disc_loss=0.249, gen_loss=8.79]\n"
     ]
    },
    {
     "name": "stdout",
     "output_type": "stream",
     "text": [
      "=>Saving Checkpoint...\n",
      "=>Saving Checkpoint...\n"
     ]
    },
    {
     "name": "stderr",
     "output_type": "stream",
     "text": [
      "Epoch [274/299]: 100%|██████████| 69/69 [00:30<00:00,  2.25it/s, disc_loss=1.27, gen_loss=11.1]\n"
     ]
    },
    {
     "name": "stdout",
     "output_type": "stream",
     "text": [
      "=>Saving Checkpoint...\n",
      "=>Saving Checkpoint...\n"
     ]
    },
    {
     "name": "stderr",
     "output_type": "stream",
     "text": [
      "Epoch [275/299]: 100%|██████████| 69/69 [00:30<00:00,  2.26it/s, disc_loss=0.352, gen_loss=7.15]\n"
     ]
    },
    {
     "name": "stdout",
     "output_type": "stream",
     "text": [
      "=>Saving Checkpoint...\n",
      "=>Saving Checkpoint...\n"
     ]
    },
    {
     "name": "stderr",
     "output_type": "stream",
     "text": [
      "Epoch [276/299]: 100%|██████████| 69/69 [00:30<00:00,  2.26it/s, disc_loss=0.111, gen_loss=8.91]\n"
     ]
    },
    {
     "name": "stdout",
     "output_type": "stream",
     "text": [
      "=>Saving Checkpoint...\n",
      "=>Saving Checkpoint...\n"
     ]
    },
    {
     "name": "stderr",
     "output_type": "stream",
     "text": [
      "Epoch [277/299]: 100%|██████████| 69/69 [00:30<00:00,  2.25it/s, disc_loss=0.303, gen_loss=6.79]\n"
     ]
    },
    {
     "name": "stdout",
     "output_type": "stream",
     "text": [
      "=>Saving Checkpoint...\n",
      "=>Saving Checkpoint...\n"
     ]
    },
    {
     "name": "stderr",
     "output_type": "stream",
     "text": [
      "Epoch [278/299]: 100%|██████████| 69/69 [00:30<00:00,  2.27it/s, disc_loss=0.187, gen_loss=10.5]\n"
     ]
    },
    {
     "name": "stdout",
     "output_type": "stream",
     "text": [
      "=>Saving Checkpoint...\n",
      "=>Saving Checkpoint...\n"
     ]
    },
    {
     "name": "stderr",
     "output_type": "stream",
     "text": [
      "Epoch [279/299]: 100%|██████████| 69/69 [00:30<00:00,  2.28it/s, disc_loss=0.0896, gen_loss=8.83]\n"
     ]
    },
    {
     "name": "stdout",
     "output_type": "stream",
     "text": [
      "=>Saving Checkpoint...\n",
      "=>Saving Checkpoint...\n"
     ]
    },
    {
     "name": "stderr",
     "output_type": "stream",
     "text": [
      "Epoch [280/299]: 100%|██████████| 69/69 [00:30<00:00,  2.29it/s, disc_loss=0.154, gen_loss=9.52]\n"
     ]
    },
    {
     "name": "stdout",
     "output_type": "stream",
     "text": [
      "=>Saving Checkpoint...\n",
      "=>Saving Checkpoint...\n"
     ]
    },
    {
     "name": "stderr",
     "output_type": "stream",
     "text": [
      "Epoch [281/299]: 100%|██████████| 69/69 [00:29<00:00,  2.31it/s, disc_loss=0.0478, gen_loss=10]\n"
     ]
    },
    {
     "name": "stdout",
     "output_type": "stream",
     "text": [
      "=>Saving Checkpoint...\n",
      "=>Saving Checkpoint...\n"
     ]
    },
    {
     "name": "stderr",
     "output_type": "stream",
     "text": [
      "Epoch [282/299]: 100%|██████████| 69/69 [00:30<00:00,  2.29it/s, disc_loss=0.421, gen_loss=9.06]\n"
     ]
    },
    {
     "name": "stdout",
     "output_type": "stream",
     "text": [
      "=>Saving Checkpoint...\n",
      "=>Saving Checkpoint...\n"
     ]
    },
    {
     "name": "stderr",
     "output_type": "stream",
     "text": [
      "Epoch [283/299]: 100%|██████████| 69/69 [00:30<00:00,  2.27it/s, disc_loss=0.0681, gen_loss=9.59]\n"
     ]
    },
    {
     "name": "stdout",
     "output_type": "stream",
     "text": [
      "=>Saving Checkpoint...\n",
      "=>Saving Checkpoint...\n"
     ]
    },
    {
     "name": "stderr",
     "output_type": "stream",
     "text": [
      "Epoch [284/299]: 100%|██████████| 69/69 [00:30<00:00,  2.27it/s, disc_loss=0.628, gen_loss=9.07]\n"
     ]
    },
    {
     "name": "stdout",
     "output_type": "stream",
     "text": [
      "=>Saving Checkpoint...\n",
      "=>Saving Checkpoint...\n"
     ]
    },
    {
     "name": "stderr",
     "output_type": "stream",
     "text": [
      "Epoch [285/299]: 100%|██████████| 69/69 [00:30<00:00,  2.26it/s, disc_loss=0.107, gen_loss=9.06]\n"
     ]
    },
    {
     "name": "stdout",
     "output_type": "stream",
     "text": [
      "=>Saving Checkpoint...\n",
      "=>Saving Checkpoint...\n"
     ]
    },
    {
     "name": "stderr",
     "output_type": "stream",
     "text": [
      "Epoch [286/299]: 100%|██████████| 69/69 [00:30<00:00,  2.24it/s, disc_loss=1.02, gen_loss=7.84]\n"
     ]
    },
    {
     "name": "stdout",
     "output_type": "stream",
     "text": [
      "=>Saving Checkpoint...\n",
      "=>Saving Checkpoint...\n"
     ]
    },
    {
     "name": "stderr",
     "output_type": "stream",
     "text": [
      "Epoch [287/299]: 100%|██████████| 69/69 [00:30<00:00,  2.27it/s, disc_loss=0.062, gen_loss=8.76]\n"
     ]
    },
    {
     "name": "stdout",
     "output_type": "stream",
     "text": [
      "=>Saving Checkpoint...\n",
      "=>Saving Checkpoint...\n"
     ]
    },
    {
     "name": "stderr",
     "output_type": "stream",
     "text": [
      "Epoch [288/299]: 100%|██████████| 69/69 [00:30<00:00,  2.26it/s, disc_loss=0.0755, gen_loss=10.4]\n"
     ]
    },
    {
     "name": "stdout",
     "output_type": "stream",
     "text": [
      "=>Saving Checkpoint...\n",
      "=>Saving Checkpoint...\n"
     ]
    },
    {
     "name": "stderr",
     "output_type": "stream",
     "text": [
      "Epoch [289/299]: 100%|██████████| 69/69 [00:30<00:00,  2.25it/s, disc_loss=0.271, gen_loss=11.4]\n"
     ]
    },
    {
     "name": "stdout",
     "output_type": "stream",
     "text": [
      "=>Saving Checkpoint...\n",
      "=>Saving Checkpoint...\n"
     ]
    },
    {
     "name": "stderr",
     "output_type": "stream",
     "text": [
      "Epoch [290/299]: 100%|██████████| 69/69 [00:30<00:00,  2.30it/s, disc_loss=0.291, gen_loss=7]\n"
     ]
    },
    {
     "name": "stdout",
     "output_type": "stream",
     "text": [
      "=>Saving Checkpoint...\n",
      "=>Saving Checkpoint...\n"
     ]
    },
    {
     "name": "stderr",
     "output_type": "stream",
     "text": [
      "Epoch [291/299]: 100%|██████████| 69/69 [00:30<00:00,  2.29it/s, disc_loss=0.488, gen_loss=5.64]\n"
     ]
    },
    {
     "name": "stdout",
     "output_type": "stream",
     "text": [
      "=>Saving Checkpoint...\n",
      "=>Saving Checkpoint...\n"
     ]
    },
    {
     "name": "stderr",
     "output_type": "stream",
     "text": [
      "Epoch [292/299]: 100%|██████████| 69/69 [00:30<00:00,  2.27it/s, disc_loss=0.136, gen_loss=8.34]\n"
     ]
    },
    {
     "name": "stdout",
     "output_type": "stream",
     "text": [
      "=>Saving Checkpoint...\n",
      "=>Saving Checkpoint...\n"
     ]
    },
    {
     "name": "stderr",
     "output_type": "stream",
     "text": [
      "Epoch [294/299]: 100%|██████████| 69/69 [00:30<00:00,  2.26it/s, disc_loss=0.152, gen_loss=9.49]\n"
     ]
    },
    {
     "name": "stdout",
     "output_type": "stream",
     "text": [
      "=>Saving Checkpoint...\n",
      "=>Saving Checkpoint...\n"
     ]
    },
    {
     "name": "stderr",
     "output_type": "stream",
     "text": [
      "Epoch [295/299]: 100%|██████████| 69/69 [00:31<00:00,  2.22it/s, disc_loss=0.604, gen_loss=10.8]\n"
     ]
    },
    {
     "name": "stdout",
     "output_type": "stream",
     "text": [
      "=>Saving Checkpoint...\n",
      "=>Saving Checkpoint...\n"
     ]
    },
    {
     "name": "stderr",
     "output_type": "stream",
     "text": [
      "Epoch [296/299]: 100%|██████████| 69/69 [00:30<00:00,  2.23it/s, disc_loss=0.149, gen_loss=9.22]\n"
     ]
    },
    {
     "name": "stdout",
     "output_type": "stream",
     "text": [
      "=>Saving Checkpoint...\n",
      "=>Saving Checkpoint...\n"
     ]
    },
    {
     "name": "stderr",
     "output_type": "stream",
     "text": [
      "Epoch [297/299]: 100%|██████████| 69/69 [00:30<00:00,  2.23it/s, disc_loss=0.201, gen_loss=9.84]\n"
     ]
    },
    {
     "name": "stdout",
     "output_type": "stream",
     "text": [
      "=>Saving Checkpoint...\n",
      "=>Saving Checkpoint...\n"
     ]
    },
    {
     "name": "stderr",
     "output_type": "stream",
     "text": [
      "Epoch [298/299]: 100%|██████████| 69/69 [00:30<00:00,  2.24it/s, disc_loss=0.187, gen_loss=10]\n"
     ]
    },
    {
     "name": "stdout",
     "output_type": "stream",
     "text": [
      "=>Saving Checkpoint...\n",
      "=>Saving Checkpoint...\n"
     ]
    },
    {
     "name": "stderr",
     "output_type": "stream",
     "text": [
      "Epoch [299/299]: 100%|██████████| 69/69 [00:30<00:00,  2.24it/s, disc_loss=0.602, gen_loss=10.7]\n"
     ]
    },
    {
     "name": "stdout",
     "output_type": "stream",
     "text": [
      "=>Saving Checkpoint...\n",
      "=>Saving Checkpoint...\n"
     ]
    }
   ],
   "source": [
    "DEVICE = torch.device(\"cuda\" if torch.cuda.is_available() else \"cpu\")\n",
    "L1_LAMBDA = 100\n",
    "\n",
    "CHECKPOINT_GEN = \"gen.pth.tar\"\n",
    "CHECKPOINT_DISC = \"disc.pth.tar\"\n",
    "LOAD_GEN = False\n",
    "LOAD_DISC = False\n",
    "\n",
    "LEARNING_RATE = 2e-4\n",
    "EPOCHS = 300\n",
    "\n",
    "gen = Generator().to(DEVICE)\n",
    "disc = Discriminator().to(DEVICE)\n",
    "\n",
    "bce = nn.BCEWithLogitsLoss()\n",
    "l1_loss = nn.L1Loss()\n",
    "\n",
    "opt_gen = optim.Adam(gen.parameters(), lr=LEARNING_RATE, betas=(0.5, 0.999))\n",
    "opt_disc = optim.Adam(disc.parameters(), lr=LEARNING_RATE, betas=(0.5, 0.999))\n",
    "\n",
    "gen_scaler = torch.cuda.amp.GradScaler()\n",
    "disc_scaler = torch.cuda.amp.GradScaler()\n",
    "\n",
    "if LOAD_GEN:\n",
    "    load_checkpoint(CHECKPOINT_GEN, gen, opt_gen)\n",
    "if LOAD_DISC:\n",
    "    load_checkpoint(CHECKPOINT_DISC, disc, opt_disc)\n",
    "\n",
    "for epoch in range(EPOCHS):\n",
    "    train(train_data_loader, gen, disc, opt_gen, opt_disc, bce, l1_loss, gen_scaler, disc_scaler, epoch)\n",
    "\n",
    "    save_checkpoint(gen, opt_gen, filename=CHECKPOINT_GEN)\n",
    "    save_checkpoint(disc, opt_disc, filename=CHECKPOINT_DISC)\n",
    "    save_imgs(train_data_loader, gen, epoch)"
   ]
  },
  {
   "cell_type": "code",
   "execution_count": 36,
   "metadata": {
    "id": "3bvuS5TwE-S3"
   },
   "outputs": [],
   "source": [
    "gdrive_path = \"/content/gdrive/MyDrive/googleColab/GANS/pix2pix\"\n",
    "shutil.make_archive(os.path.join(gdrive_path, \"saved_imgs\"), 'zip', \"saved_imgs\")\n",
    "shutil.make_archive(os.path.join(gdrive_path, \"gen\"), 'zip', \"gen\")\n",
    "shutil.make_archive(os.path.join(gdrive_path, \"disc\"), 'zip', \"disc\")"
   ]
  },
  {
   "cell_type": "code",
   "execution_count": 39,
   "metadata": {
    "colab": {
     "base_uri": "https://localhost:8080/"
    },
    "id": "uFwGdQiscm95",
    "outputId": "1b945b72-7dc6-44c9-b49c-ac6cdfbc7369"
   },
   "outputs": [
    {
     "name": "stdout",
     "output_type": "stream",
     "text": [
      "Done\n"
     ]
    }
   ],
   "source": [
    "with ZipFile(os.path.join(gdrive_path, \"gen.zip\"), 'r') as z:\n",
    "    z.extractall(path=gdrive_path)\n",
    "    print(\"Done\")\n",
    "\n",
    "with ZipFile(os.path.join(gdrive_path, \"disc.zip\"), 'r') as z:\n",
    "    z.extractall(path=gdrive_path)\n",
    "    print(\"Done\")"
   ]
  }
 ],
 "metadata": {
  "accelerator": "GPU",
  "colab": {
   "provenance": []
  },
  "gpuClass": "standard",
  "kernelspec": {
   "display_name": "Python 3 (ipykernel)",
   "language": "python",
   "name": "python3"
  },
  "language_info": {
   "codemirror_mode": {
    "name": "ipython",
    "version": 3
   },
   "file_extension": ".py",
   "mimetype": "text/x-python",
   "name": "python",
   "nbconvert_exporter": "python",
   "pygments_lexer": "ipython3",
   "version": "3.10.9"
  }
 },
 "nbformat": 4,
 "nbformat_minor": 1
}
