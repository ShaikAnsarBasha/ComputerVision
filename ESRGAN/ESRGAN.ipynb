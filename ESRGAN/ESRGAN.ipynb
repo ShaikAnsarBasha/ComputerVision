{
  "nbformat": 4,
  "nbformat_minor": 0,
  "metadata": {
    "colab": {
      "provenance": []
    },
    "kernelspec": {
      "name": "python3",
      "display_name": "Python 3"
    },
    "language_info": {
      "name": "python"
    },
    "accelerator": "GPU",
    "gpuClass": "standard"
  },
  "cells": [
    {
      "cell_type": "code",
      "source": [
        "%%capture\n",
        "!pip install kaggle"
      ],
      "metadata": {
        "id": "jLgF02qvxlGo"
      },
      "execution_count": 1,
      "outputs": []
    },
    {
      "cell_type": "code",
      "source": [
        "from google.colab import files\n",
        "files.upload()\n",
        "\n",
        "!mkdir -p ~/.kaggle\n",
        "!cp kaggle.json ~/.kaggle/\n",
        "!chmod 600 ~/.kaggle/kaggle.json\n",
        "\n",
        "!kaggle datasets download -d joe1995/div2k-dataset\n",
        "\n",
        "from zipfile import ZipFile\n",
        "dataset_path = './div2k-dataset.zip'\n",
        "\n",
        "with ZipFile(dataset_path, 'r') as z:\n",
        "    z.extractall(path='./dataset')\n",
        "    print(\"Done\")"
      ],
      "metadata": {
        "colab": {
          "base_uri": "https://localhost:8080/",
          "height": 142
        },
        "id": "JPODN16Lxq7Q",
        "outputId": "e79af6fb-b0f8-49f0-8c66-4b3f53f78475"
      },
      "execution_count": 2,
      "outputs": [
        {
          "output_type": "display_data",
          "data": {
            "text/plain": [
              "<IPython.core.display.HTML object>"
            ],
            "text/html": [
              "\n",
              "     <input type=\"file\" id=\"files-0904d03c-a766-4ffe-9527-bf5f365d7d1b\" name=\"files[]\" multiple disabled\n",
              "        style=\"border:none\" />\n",
              "     <output id=\"result-0904d03c-a766-4ffe-9527-bf5f365d7d1b\">\n",
              "      Upload widget is only available when the cell has been executed in the\n",
              "      current browser session. Please rerun this cell to enable.\n",
              "      </output>\n",
              "      <script>// Copyright 2017 Google LLC\n",
              "//\n",
              "// Licensed under the Apache License, Version 2.0 (the \"License\");\n",
              "// you may not use this file except in compliance with the License.\n",
              "// You may obtain a copy of the License at\n",
              "//\n",
              "//      http://www.apache.org/licenses/LICENSE-2.0\n",
              "//\n",
              "// Unless required by applicable law or agreed to in writing, software\n",
              "// distributed under the License is distributed on an \"AS IS\" BASIS,\n",
              "// WITHOUT WARRANTIES OR CONDITIONS OF ANY KIND, either express or implied.\n",
              "// See the License for the specific language governing permissions and\n",
              "// limitations under the License.\n",
              "\n",
              "/**\n",
              " * @fileoverview Helpers for google.colab Python module.\n",
              " */\n",
              "(function(scope) {\n",
              "function span(text, styleAttributes = {}) {\n",
              "  const element = document.createElement('span');\n",
              "  element.textContent = text;\n",
              "  for (const key of Object.keys(styleAttributes)) {\n",
              "    element.style[key] = styleAttributes[key];\n",
              "  }\n",
              "  return element;\n",
              "}\n",
              "\n",
              "// Max number of bytes which will be uploaded at a time.\n",
              "const MAX_PAYLOAD_SIZE = 100 * 1024;\n",
              "\n",
              "function _uploadFiles(inputId, outputId) {\n",
              "  const steps = uploadFilesStep(inputId, outputId);\n",
              "  const outputElement = document.getElementById(outputId);\n",
              "  // Cache steps on the outputElement to make it available for the next call\n",
              "  // to uploadFilesContinue from Python.\n",
              "  outputElement.steps = steps;\n",
              "\n",
              "  return _uploadFilesContinue(outputId);\n",
              "}\n",
              "\n",
              "// This is roughly an async generator (not supported in the browser yet),\n",
              "// where there are multiple asynchronous steps and the Python side is going\n",
              "// to poll for completion of each step.\n",
              "// This uses a Promise to block the python side on completion of each step,\n",
              "// then passes the result of the previous step as the input to the next step.\n",
              "function _uploadFilesContinue(outputId) {\n",
              "  const outputElement = document.getElementById(outputId);\n",
              "  const steps = outputElement.steps;\n",
              "\n",
              "  const next = steps.next(outputElement.lastPromiseValue);\n",
              "  return Promise.resolve(next.value.promise).then((value) => {\n",
              "    // Cache the last promise value to make it available to the next\n",
              "    // step of the generator.\n",
              "    outputElement.lastPromiseValue = value;\n",
              "    return next.value.response;\n",
              "  });\n",
              "}\n",
              "\n",
              "/**\n",
              " * Generator function which is called between each async step of the upload\n",
              " * process.\n",
              " * @param {string} inputId Element ID of the input file picker element.\n",
              " * @param {string} outputId Element ID of the output display.\n",
              " * @return {!Iterable<!Object>} Iterable of next steps.\n",
              " */\n",
              "function* uploadFilesStep(inputId, outputId) {\n",
              "  const inputElement = document.getElementById(inputId);\n",
              "  inputElement.disabled = false;\n",
              "\n",
              "  const outputElement = document.getElementById(outputId);\n",
              "  outputElement.innerHTML = '';\n",
              "\n",
              "  const pickedPromise = new Promise((resolve) => {\n",
              "    inputElement.addEventListener('change', (e) => {\n",
              "      resolve(e.target.files);\n",
              "    });\n",
              "  });\n",
              "\n",
              "  const cancel = document.createElement('button');\n",
              "  inputElement.parentElement.appendChild(cancel);\n",
              "  cancel.textContent = 'Cancel upload';\n",
              "  const cancelPromise = new Promise((resolve) => {\n",
              "    cancel.onclick = () => {\n",
              "      resolve(null);\n",
              "    };\n",
              "  });\n",
              "\n",
              "  // Wait for the user to pick the files.\n",
              "  const files = yield {\n",
              "    promise: Promise.race([pickedPromise, cancelPromise]),\n",
              "    response: {\n",
              "      action: 'starting',\n",
              "    }\n",
              "  };\n",
              "\n",
              "  cancel.remove();\n",
              "\n",
              "  // Disable the input element since further picks are not allowed.\n",
              "  inputElement.disabled = true;\n",
              "\n",
              "  if (!files) {\n",
              "    return {\n",
              "      response: {\n",
              "        action: 'complete',\n",
              "      }\n",
              "    };\n",
              "  }\n",
              "\n",
              "  for (const file of files) {\n",
              "    const li = document.createElement('li');\n",
              "    li.append(span(file.name, {fontWeight: 'bold'}));\n",
              "    li.append(span(\n",
              "        `(${file.type || 'n/a'}) - ${file.size} bytes, ` +\n",
              "        `last modified: ${\n",
              "            file.lastModifiedDate ? file.lastModifiedDate.toLocaleDateString() :\n",
              "                                    'n/a'} - `));\n",
              "    const percent = span('0% done');\n",
              "    li.appendChild(percent);\n",
              "\n",
              "    outputElement.appendChild(li);\n",
              "\n",
              "    const fileDataPromise = new Promise((resolve) => {\n",
              "      const reader = new FileReader();\n",
              "      reader.onload = (e) => {\n",
              "        resolve(e.target.result);\n",
              "      };\n",
              "      reader.readAsArrayBuffer(file);\n",
              "    });\n",
              "    // Wait for the data to be ready.\n",
              "    let fileData = yield {\n",
              "      promise: fileDataPromise,\n",
              "      response: {\n",
              "        action: 'continue',\n",
              "      }\n",
              "    };\n",
              "\n",
              "    // Use a chunked sending to avoid message size limits. See b/62115660.\n",
              "    let position = 0;\n",
              "    do {\n",
              "      const length = Math.min(fileData.byteLength - position, MAX_PAYLOAD_SIZE);\n",
              "      const chunk = new Uint8Array(fileData, position, length);\n",
              "      position += length;\n",
              "\n",
              "      const base64 = btoa(String.fromCharCode.apply(null, chunk));\n",
              "      yield {\n",
              "        response: {\n",
              "          action: 'append',\n",
              "          file: file.name,\n",
              "          data: base64,\n",
              "        },\n",
              "      };\n",
              "\n",
              "      let percentDone = fileData.byteLength === 0 ?\n",
              "          100 :\n",
              "          Math.round((position / fileData.byteLength) * 100);\n",
              "      percent.textContent = `${percentDone}% done`;\n",
              "\n",
              "    } while (position < fileData.byteLength);\n",
              "  }\n",
              "\n",
              "  // All done.\n",
              "  yield {\n",
              "    response: {\n",
              "      action: 'complete',\n",
              "    }\n",
              "  };\n",
              "}\n",
              "\n",
              "scope.google = scope.google || {};\n",
              "scope.google.colab = scope.google.colab || {};\n",
              "scope.google.colab._files = {\n",
              "  _uploadFiles,\n",
              "  _uploadFilesContinue,\n",
              "};\n",
              "})(self);\n",
              "</script> "
            ]
          },
          "metadata": {}
        },
        {
          "output_type": "stream",
          "name": "stdout",
          "text": [
            "Saving kaggle.json to kaggle.json\n",
            "Downloading div2k-dataset.zip to /content\n",
            "100% 3.71G/3.71G [02:48<00:00, 24.0MB/s]\n",
            "100% 3.71G/3.71G [02:48<00:00, 23.6MB/s]\n",
            "Done\n"
          ]
        }
      ]
    },
    {
      "cell_type": "code",
      "execution_count": 3,
      "metadata": {
        "id": "FCTZa9L0ePtg"
      },
      "outputs": [],
      "source": [
        "import torch\n",
        "import torchvision\n",
        "import torch.nn as nn\n",
        "import torch.optim as optim\n",
        "from torchvision.models import vgg19\n",
        "from torch.utils.data import DataLoader\n",
        "\n",
        "import albumentations as A\n",
        "from albumentations.pytorch import ToTensorV2\n",
        "\n",
        "import os\n",
        "import shutil\n",
        "import numpy as np\n",
        "from PIL import Image\n",
        "from tqdm import tqdm\n",
        "import matplotlib.pyplot as plt"
      ]
    },
    {
      "cell_type": "code",
      "source": [
        "class convBlock(nn.Module):\n",
        "    def __init__(self, in_channels, out_channels, kernel_size, stride, padding, use_act):\n",
        "        super().__init__()\n",
        "        self.conv = nn.Conv2d(in_channels, out_channels, kernel_size, stride, padding)\n",
        "        self.act = nn.LeakyReLU(0.2, inplace=True) if use_act else nn.Identity()\n",
        "\n",
        "    def forward(self, x):\n",
        "        return self.act(self.conv(x))"
      ],
      "metadata": {
        "id": "HKea6Yx5eni4"
      },
      "execution_count": 4,
      "outputs": []
    },
    {
      "cell_type": "code",
      "source": [
        "class upSampleBlock(nn.Module):\n",
        "    def __init__(self, channels, scale_factor=2):\n",
        "        super().__init__()\n",
        "        self.upsample = nn.Upsample(scale_factor=scale_factor, mode=\"nearest\")\n",
        "        self.conv = nn.Conv2d(channels, channels, kernel_size=3, stride=1, padding=1, bias=True)\n",
        "        self.act = nn.LeakyReLU(0.2, inplace=True)\n",
        "    \n",
        "    def forward(self, x):\n",
        "        return self.act(self.conv(self.upsample(x)))"
      ],
      "metadata": {
        "id": "SC8o_ZGG0C0M"
      },
      "execution_count": 5,
      "outputs": []
    },
    {
      "cell_type": "code",
      "source": [
        "class denseResidualBlock(nn.Module):\n",
        "    def __init__(self, in_channels, channels=32, residual_beta=0.2):\n",
        "        super().__init__()\n",
        "        self.residual_beta = residual_beta\n",
        "        self.blocks = nn.ModuleList()\n",
        "\n",
        "        for i in range(5):\n",
        "            out_channels = in_channels if i == 4 else channels\n",
        "            use_act = False if i == 4 else True\n",
        "            block = convBlock(in_channels + channels * i, out_channels , kernel_size=3, stride=1, padding=1, use_act=use_act)\n",
        "            self.blocks.append(block)\n",
        "\n",
        "    def forward(self, x):\n",
        "        inputs = x\n",
        "        for block in self.blocks:\n",
        "            out = block(inputs)\n",
        "            inputs = torch.cat((inputs, out), dim=1)\n",
        "        return x + self.residual_beta * out"
      ],
      "metadata": {
        "id": "jyBj6pSo0Tnr"
      },
      "execution_count": 6,
      "outputs": []
    },
    {
      "cell_type": "code",
      "source": [
        "class residualInResidualDenseBlocks(nn.Module):\n",
        "    def __init__(self, in_channels, residual_beta=0.2):\n",
        "        super().__init__()\n",
        "        self.residual_beta = residual_beta\n",
        "        rrdbs = [denseResidualBlock(in_channels, residual_beta=residual_beta) for _ in range(3)]\n",
        "        self.rrdbs = nn.Sequential(*rrdbs)\n",
        "\n",
        "    def forward(self, x):\n",
        "        return x + self.residual_beta * self.rrdbs(x)"
      ],
      "metadata": {
        "id": "FSEDrRdl0TkZ"
      },
      "execution_count": 7,
      "outputs": []
    },
    {
      "cell_type": "code",
      "source": [
        "class Generator(nn.Module):\n",
        "    def __init__(self, in_channels=3, channels=64, num_res_blocks=23):\n",
        "        super().__init__()\n",
        "        self.initial = nn.Conv2d(in_channels, channels, kernel_size=3, stride=1, padding=1, bias=True)\n",
        "\n",
        "        res_blocks = []\n",
        "        for _ in range(num_res_blocks):\n",
        "            res_block = residualInResidualDenseBlocks(channels)\n",
        "            res_blocks.append(res_block)\n",
        "        \n",
        "        self.res_blocks = nn.Sequential(*res_blocks)\n",
        "        \n",
        "        self.conv = nn.Conv2d(channels, channels, kernel_size=3, stride=1, padding=1, bias=True)\n",
        "        self.upscales = nn.Sequential(\n",
        "            upSampleBlock(channels, scale_factor=2),\n",
        "            upSampleBlock(channels, scale_factor=2),\n",
        "        )\n",
        "        self.final = nn.Sequential(\n",
        "            nn.Conv2d(channels, channels, kernel_size=3, stride=1, padding=1, bias=True),\n",
        "            nn.LeakyReLU(0.2, inplace=True),\n",
        "            nn.Conv2d(channels, 3, kernel_size=3, stride=1, padding=1, bias=True),\n",
        "        )\n",
        "\n",
        "    \n",
        "    def forward(self, x):\n",
        "        initial = self.initial(x)\n",
        "        x = self.res_blocks(initial)\n",
        "        x = initial + self.conv(x)\n",
        "        x = self.upscales(x)\n",
        "        x = self.final(x)\n",
        "        return x"
      ],
      "metadata": {
        "id": "qKP2s9Qj0Th2"
      },
      "execution_count": 8,
      "outputs": []
    },
    {
      "cell_type": "code",
      "source": [
        "def initialize_weights(model, scale=0.1):\n",
        "    for m in model.modules():\n",
        "        if isinstance(m, (nn.Conv2d, nn.Linear)):\n",
        "            nn.init.kaiming_normal_(m.weight.data)\n",
        "            m.weight.data *= scale"
      ],
      "metadata": {
        "id": "XphWPJaOtakl"
      },
      "execution_count": 9,
      "outputs": []
    },
    {
      "cell_type": "code",
      "source": [
        "gen = Generator()\n",
        "initialize_weights(gen)\n",
        "x = torch.randn((5, 3, 21, 64))\n",
        "gen(x).shape"
      ],
      "metadata": {
        "colab": {
          "base_uri": "https://localhost:8080/"
        },
        "id": "5cb_s1NPW6HI",
        "outputId": "c366e699-c8d5-4c05-9eb3-e6db507cdeea"
      },
      "execution_count": 10,
      "outputs": [
        {
          "output_type": "execute_result",
          "data": {
            "text/plain": [
              "torch.Size([5, 3, 84, 256])"
            ]
          },
          "metadata": {},
          "execution_count": 10
        }
      ]
    },
    {
      "cell_type": "code",
      "source": [
        "class Critic(nn.Module):\n",
        "    def __init__(self, in_channels=3, channels=[64, 64, 128, 128, 256, 256, 512, 512]):\n",
        "        super().__init__()\n",
        "        self.initial = convBlock(in_channels, channels[0], kernel_size=3, stride=1, padding=3, use_act=True)\n",
        "\n",
        "        blocks = []\n",
        "        in_channels = channels[0]\n",
        "        for channel_idx, channel in enumerate(channels[1:]):\n",
        "            stride = 2 if channel_idx%2 == 0 else 1\n",
        "            block = convBlock(in_channels, channel, kernel_size=3, stride=stride, padding=1, use_act=True)\n",
        "            blocks.append(block)\n",
        "            in_channels = channel\n",
        "        \n",
        "        self.blocks = nn.Sequential(*blocks)\n",
        "\n",
        "        self.final = nn.Sequential(\n",
        "            nn.AdaptiveAvgPool2d((6, 6)),\n",
        "            nn.Flatten(),\n",
        "            nn.Linear(512*6*6, 1024),\n",
        "            nn.LeakyReLU(0.2, inplace=True),\n",
        "            nn.Linear(1024, 1),\n",
        "        )\n",
        "    def forward(self, x):\n",
        "        x = self.initial(x)\n",
        "        x = self.blocks(x)\n",
        "        x = self.final(x)\n",
        "        return x"
      ],
      "metadata": {
        "id": "6H54Pn09Yrhm"
      },
      "execution_count": 11,
      "outputs": []
    },
    {
      "cell_type": "code",
      "source": [
        "critic = Critic()\n",
        "x = torch.randn((5, 3, 84, 256))\n",
        "critic(x).shape"
      ],
      "metadata": {
        "colab": {
          "base_uri": "https://localhost:8080/"
        },
        "id": "PsSkrlYnZA8e",
        "outputId": "b9fe40ac-76a6-4fc4-b70f-50856b06c08d"
      },
      "execution_count": 12,
      "outputs": [
        {
          "output_type": "execute_result",
          "data": {
            "text/plain": [
              "torch.Size([5, 1])"
            ]
          },
          "metadata": {},
          "execution_count": 12
        }
      ]
    },
    {
      "cell_type": "code",
      "source": [
        "class LowHighResDataset:\n",
        "    def __init__(self, img_paths, high_low_res_transform, low_res_transform, high_res_transform):\n",
        "        super().__init__()\n",
        "        self.img_paths = img_paths\n",
        "\n",
        "    def __len__(self):\n",
        "        return len(self.img_paths)\n",
        "\n",
        "    def __getitem__(self, index):\n",
        "        img_path = self.img_paths[index]\n",
        "        img = np.array(Image.open(img_path))\n",
        "\n",
        "        img = high_low_res_transform(image=img)[\"image\"]\n",
        "        img_low = low_res_transform(image=img)[\"image\"]\n",
        "        img_high = high_res_transform(image=img)[\"image\"]\n",
        "\n",
        "        return img_low, img_high"
      ],
      "metadata": {
        "id": "lzGw6sPWtMka"
      },
      "execution_count": 13,
      "outputs": []
    },
    {
      "cell_type": "code",
      "source": [
        "HIGH_RES = 128\n",
        "LOW_RES = HIGH_RES // 4\n",
        "TRAIN_DIR = \"/content/dataset/DIV2K_train_HR/DIV2K_train_HR\"\n",
        "BATCH_SIZE = 16\n",
        "NUM_WORKERS = 0\n",
        "\n",
        "\n",
        "high_low_res_transform = A.Compose(\n",
        "    [\n",
        "        A.RandomCrop(width=HIGH_RES, height=HIGH_RES),\n",
        "        A.HorizontalFlip(p=0.5),\n",
        "        A.RandomRotate90(p=0.5),\n",
        "    ]\n",
        ")\n",
        "\n",
        "low_res_transform = A.Compose(\n",
        "    [\n",
        "        A.Resize(width=LOW_RES, height=LOW_RES, interpolation=Image.BICUBIC),\n",
        "        A.Normalize(\n",
        "            mean=[0, 0, 0], \n",
        "            std=[1, 1, 1]\n",
        "        ),\n",
        "        ToTensorV2(),\n",
        "    ]\n",
        ")\n",
        "\n",
        "high_res_transform = A.Compose(\n",
        "    [\n",
        "        A.Normalize(mean=[0, 0, 0], std=[1, 1, 1]),\n",
        "        ToTensorV2(),\n",
        "    ]\n",
        ")\n",
        "test_transform = A.Compose(\n",
        "    [\n",
        "        A.Normalize(mean=[0, 0, 0], std=[1, 1, 1]),\n",
        "        ToTensorV2(),\n",
        "    ]\n",
        ")\n",
        "\n",
        "train_img_paths = [os.path.join(TRAIN_DIR, img_name) for img_name in os.listdir(TRAIN_DIR)]\n",
        "train_dataset = LowHighResDataset(train_img_paths, high_low_res_transform, low_res_transform, high_res_transform)\n",
        "train_data_loader = DataLoader(\n",
        "    train_dataset,\n",
        "    batch_size=BATCH_SIZE,\n",
        "    shuffle=True,\n",
        "    num_workers=NUM_WORKERS,\n",
        ")"
      ],
      "metadata": {
        "id": "3ODMnna6yb8-"
      },
      "execution_count": 14,
      "outputs": []
    },
    {
      "cell_type": "code",
      "source": [
        "def save_checkpoint(model, optimizer, filename=\"model.pth.tar\"):\n",
        "    print(\"=>Saving Checkpoint...\")\n",
        "    checkpoint = {\"state_dict\": model.state_dict(), \"optimizer\": optimizer.state_dict()}\n",
        "    torch.save(checkpoint, filename)\n",
        "\n",
        "def load_checkpoint(checkpoint_path, model, optimizer, learning_rate):\n",
        "    print(\"=>Loading Checkpoint...\")\n",
        "    checkpoint = torch.load(checkpoint_path, map_location=torch.device(DEVICE))\n",
        "    model.load_state_dict(checkpoint[\"state_dict\"])\n",
        "    optimizer.load_state_dict(checkpoint[\"optimizer\"])\n",
        "\n",
        "    for param_group in optimizer.param_groups:\n",
        "        param_group[\"lr\"] = learning_rate"
      ],
      "metadata": {
        "id": "CBuTGTIEwfh2"
      },
      "execution_count": 15,
      "outputs": []
    },
    {
      "cell_type": "code",
      "source": [
        "def save_imgs(gen, test_transform, test_dir, dir=\"saved_imgs/\"):\n",
        "    gen.eval()\n",
        "    img_names = os.listdir(test_dir)\n",
        "    for img_name in img_names:\n",
        "        img = np.array(Image.open(os.path.join(test_dir, img_name)))\n",
        "        img = test_transform(image=img)[\"image\"]\n",
        "        img_batch = img.unsqueeze(0).to(DEVICE)\n",
        "        with torch.no_grad():\n",
        "            fake_img = gen(img_batch)\n",
        "        torchvision.utils.save_image(fake_img, f\"{dir}{img_name}\")"
      ],
      "metadata": {
        "id": "qS9ufaD-o8pa"
      },
      "execution_count": 16,
      "outputs": []
    },
    {
      "cell_type": "code",
      "source": [
        "def gradientPenalty(critic, real_imgs, fake_imgs):\n",
        "    batch_size, channels, height, width = real_imgs.shape\n",
        "    epsilon = torch.rand((batch_size, 1, 1, 1)).repeat(1, channels, height, width).to(DEVICE)\n",
        "\n",
        "    interpolated_imgs = epsilon*real_imgs + (1-epsilon)*fake_imgs\n",
        "    interpolated_imgs.requires_grad_(True)\n",
        "    outputs_interpolated_imgs = critic(interpolated_imgs)\n",
        "\n",
        "    gradient = torch.autograd.grad(\n",
        "        outputs=outputs_interpolated_imgs,\n",
        "        inputs=interpolated_imgs,\n",
        "        grad_outputs=torch.ones_like(outputs_interpolated_imgs),\n",
        "        create_graph=True,\n",
        "        retain_graph=True,\n",
        "    )[0]\n",
        "    gradient = gradient.view(gradient.shape[0], -1)\n",
        "    gradient_norm = gradient.norm(2, dim=1)\n",
        "    gradient_penalty = torch.mean((gradient_norm-1)**2)\n",
        "    return gradient_penalty"
      ],
      "metadata": {
        "id": "M5Ed-ph2cWPe"
      },
      "execution_count": 17,
      "outputs": []
    },
    {
      "cell_type": "code",
      "source": [
        "def train(train_data_loader, gen, critic, opt_gen, opt_critic, l1_loss, vgg_loss, gen_scaler, critic_scaler, epoch):\n",
        "    gen.train()\n",
        "    critic.train()\n",
        "\n",
        "    train_progress_bar = tqdm(enumerate(train_data_loader), total=len(train_data_loader), leave=True)\n",
        "    for idx, (low_res_imgs, high_res_imgs) in train_progress_bar:\n",
        "        low_res_imgs = low_res_imgs.to(DEVICE)\n",
        "        high_res_imgs = high_res_imgs.to(DEVICE)\n",
        "\n",
        "        with torch.cuda.amp.autocast():\n",
        "            fake_imgs = gen(low_res_imgs)\n",
        "            outputs_real_imgs = critic(high_res_imgs)\n",
        "            outputs_fake_imgs = critic(fake_imgs.detach())\n",
        "\n",
        "            gp = gradientPenalty(critic, high_res_imgs, fake_imgs.detach())\n",
        "            loss_critic = -(torch.mean(outputs_real_imgs) - torch.mean(outputs_fake_imgs)) + LAMBDA_GP*gp\n",
        "        \n",
        "        critic.zero_grad()\n",
        "        critic_scaler.scale(loss_critic).backward()\n",
        "        critic_scaler.step(opt_critic)\n",
        "        critic_scaler.update()\n",
        "\n",
        "        with torch.cuda.amp.autocast():\n",
        "            outputs_fake_imgs = critic(fake_imgs).view(-1)\n",
        "            loss_gen_1 = -torch.mean(outputs_fake_imgs) * ADVERSARIAL_LAMBDA\n",
        "            loss_gen_2 = l1_loss(fake_imgs, high_res_imgs) * L1_LAMBDA\n",
        "            loss_gen_3 = vgg_loss(fake_imgs, high_res_imgs)\n",
        "            loss_gen = loss_gen_1 + loss_gen_2 + loss_gen_3\n",
        "\n",
        "        opt_gen.zero_grad()\n",
        "        gen_scaler.scale(loss_gen).backward()\n",
        "        gen_scaler.step(opt_gen)\n",
        "        gen_scaler.update()\n",
        "\n",
        "        train_progress_bar.set_description(f\"Epoch [{epoch}/{EPOCHS-1}]\")\n",
        "        train_progress_bar.set_postfix(critic_loss=loss_critic.item(), gen_loss=loss_gen.item())\n",
        "        \n",
        "    train_progress_bar.close()"
      ],
      "metadata": {
        "id": "FcnhDj4cVlgH"
      },
      "execution_count": 18,
      "outputs": []
    },
    {
      "cell_type": "code",
      "source": [
        "class VGGLoss(nn.Module):\n",
        "    def __init__(self):\n",
        "        super().__init__()\n",
        "        self.vgg = vgg19(pretrained=True).features[:35].eval().to(DEVICE)\n",
        "\n",
        "        for param in self.vgg.parameters():\n",
        "            param.requires_grad = False\n",
        "\n",
        "        self.mse = nn.MSELoss()\n",
        "\n",
        "    def forward(self, inputs, targets):\n",
        "        input_features = self.vgg(inputs)\n",
        "        target_features = self.vgg(targets)\n",
        "        return self.mse(input_features, target_features)"
      ],
      "metadata": {
        "id": "ga4FfDUVipiy"
      },
      "execution_count": 19,
      "outputs": []
    },
    {
      "cell_type": "code",
      "source": [
        "DEVICE = torch.device(\"cuda\" if torch.cuda.is_available() else \"cpu\")\n",
        "\n",
        "CHECKPOINT_GEN = \"gen.pth.tar\"\n",
        "CHECKPOINT_CRITIC = \"critic.pth.tar\"\n",
        "LOAD_GEN = True\n",
        "LOAD_CRITIC = True\n",
        "\n",
        "LEARNING_RATE = 1e-4\n",
        "EPOCHS = 3\n",
        "\n",
        "LAMBDA_GP = 10\n",
        "ADVERSARIAL_LAMBDA = 5e-3\n",
        "L1_LAMBDA = 1e-2\n",
        "\n",
        "gen = Generator().to(DEVICE)\n",
        "critic = Critic().to(DEVICE)\n",
        "initialize_weights(gen)\n",
        "\n",
        "l1_loss = nn.L1Loss()\n",
        "vgg_loss = VGGLoss()\n",
        "\n",
        "opt_gen = optim.Adam(gen.parameters(), lr=LEARNING_RATE, betas=(0.0, 0.999))\n",
        "opt_critic = optim.Adam(critic.parameters(), lr=LEARNING_RATE, betas=(0.0, 0.999))\n",
        "\n",
        "gen_scaler = torch.cuda.amp.GradScaler()\n",
        "critic_scaler = torch.cuda.amp.GradScaler()\n",
        "\n",
        "if LOAD_GEN:\n",
        "    load_checkpoint(CHECKPOINT_GEN, gen, opt_gen, LEARNING_RATE)\n",
        "if LOAD_CRITIC:\n",
        "    load_checkpoint(CHECKPOINT_CRITIC, critic, opt_critic, LEARNING_RATE)\n",
        "\n",
        "for epoch in range(EPOCHS):\n",
        "    train(train_data_loader, gen, critic, opt_gen, opt_critic, l1_loss, vgg_loss, gen_scaler, critic_scaler, epoch)\n",
        "\n",
        "    save_checkpoint(gen, opt_gen, filename=CHECKPOINT_GEN)\n",
        "    save_checkpoint(critic, opt_critic, filename=CHECKPOINT_CRITIC)\n",
        "    save_imgs(gen, test_transform, test_dir=\"test_imgs\")"
      ],
      "metadata": {
        "colab": {
          "base_uri": "https://localhost:8080/"
        },
        "id": "2h8mah2vUR4p",
        "outputId": "31a7a154-7f6b-4b28-ebee-b152dd090b30"
      },
      "execution_count": 26,
      "outputs": [
        {
          "output_type": "stream",
          "name": "stdout",
          "text": [
            "=>Loading Checkpoint...\n",
            "=>Loading Checkpoint...\n"
          ]
        },
        {
          "output_type": "stream",
          "name": "stderr",
          "text": [
            "Epoch [0/2]: 100%|██████████| 50/50 [01:50<00:00,  2.20s/it, critic_loss=2.76, gen_loss=2.27]\n"
          ]
        },
        {
          "output_type": "stream",
          "name": "stdout",
          "text": [
            "=>Saving Checkpoint...\n",
            "=>Saving Checkpoint...\n"
          ]
        },
        {
          "output_type": "stream",
          "name": "stderr",
          "text": [
            "Epoch [1/2]: 100%|██████████| 50/50 [01:49<00:00,  2.19s/it, critic_loss=-30, gen_loss=3.29]\n"
          ]
        },
        {
          "output_type": "stream",
          "name": "stdout",
          "text": [
            "=>Saving Checkpoint...\n",
            "=>Saving Checkpoint...\n"
          ]
        },
        {
          "output_type": "stream",
          "name": "stderr",
          "text": [
            "Epoch [2/2]: 100%|██████████| 50/50 [01:50<00:00,  2.21s/it, critic_loss=-17.8, gen_loss=2.66]\n"
          ]
        },
        {
          "output_type": "stream",
          "name": "stdout",
          "text": [
            "=>Saving Checkpoint...\n",
            "=>Saving Checkpoint...\n"
          ]
        }
      ]
    }
  ]
}